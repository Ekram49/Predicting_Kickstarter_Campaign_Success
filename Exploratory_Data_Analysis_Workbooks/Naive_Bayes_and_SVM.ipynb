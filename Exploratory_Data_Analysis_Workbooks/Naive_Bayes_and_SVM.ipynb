{
 "cells": [
  {
   "cell_type": "markdown",
   "metadata": {},
   "source": [
    "### Performing Naive Bayes and SVM analysis on the Kickstarter data ###"
   ]
  },
  {
   "cell_type": "code",
   "execution_count": 36,
   "metadata": {},
   "outputs": [],
   "source": [
    "import pandas as pd\n",
    "import numpy as np\n",
    "import matplotlib.pyplot as plt\n",
    "import seaborn as sns\n",
    "%matplotlib inline\n",
    "import pandas_profiling\n",
    "from sklearn import metrics\n",
    "from sklearn.model_selection import train_test_split\n",
    "from sklearn.linear_model import LogisticRegression\n",
    "from sklearn.linear_model import LogisticRegressionCV\n",
    "from sklearn.neighbors import KNeighborsClassifier\n",
    "from sklearn.svm import SVC\n",
    "from sklearn.tree import DecisionTreeClassifier\n",
    "from sklearn.ensemble import RandomForestClassifier\n",
    "from sklearn import svm\n",
    "from sklearn.preprocessing import StandardScaler\n",
    "from sklearn.model_selection import GridSearchCV\n",
    "from sklearn.metrics import log_loss\n",
    "from sklearn.metrics import precision_recall_curve\n",
    "from sklearn import naive_bayes\n",
    "from sklearn.metrics import accuracy_score, classification_report, confusion_matrix\n",
    "from sklearn.svm import LinearSVC, SVC\n",
    "\n",
    "plt.style.use('ggplot')"
   ]
  },
  {
   "cell_type": "code",
   "execution_count": 2,
   "metadata": {},
   "outputs": [],
   "source": [
    "kickstarter = pd.read_csv('kickstarter_04_25_19_ready_for_modeling.csv')"
   ]
  },
  {
   "cell_type": "code",
   "execution_count": 3,
   "metadata": {},
   "outputs": [],
   "source": [
    "X = kickstarter[['goal', 'staff_pick_True',\n",
    "       'cam_length', 'blurb_length', 'country_US', 'main_category_comics',\n",
    "       'main_category_crafts', 'main_category_dance', 'main_category_design',\n",
    "       'main_category_fashion', 'main_category_film & video',\n",
    "       'main_category_food', 'main_category_games', 'main_category_journalism',\n",
    "       'main_category_music', 'main_category_photography',\n",
    "       'main_category_publishing', 'main_category_technology',\n",
    "       'main_category_theater']]\n",
    "y = kickstarter['state_successful']"
   ]
  },
  {
   "cell_type": "code",
   "execution_count": null,
   "metadata": {},
   "outputs": [],
   "source": [
    "sns.pairplot(kickstarter, hue = 'state_successful')"
   ]
  },
  {
   "cell_type": "code",
   "execution_count": 4,
   "metadata": {},
   "outputs": [
    {
     "name": "stdout",
     "output_type": "stream",
     "text": [
      "(144934, 19) (144934,)\n",
      "(62115, 19) (62115,)\n"
     ]
    }
   ],
   "source": [
    "X_train, X_test, y_train, y_test = train_test_split(X,y, test_size=0.30, random_state = 101)\n",
    "print(X_train.shape, y_train.shape)\n",
    "print(X_test.shape,y_test.shape)"
   ]
  },
  {
   "cell_type": "code",
   "execution_count": 5,
   "metadata": {},
   "outputs": [
    {
     "name": "stderr",
     "output_type": "stream",
     "text": [
      "/anaconda3/lib/python3.7/site-packages/sklearn/preprocessing/data.py:645: DataConversionWarning: Data with input dtype int64, float64 were all converted to float64 by StandardScaler.\n",
      "  return self.partial_fit(X, y)\n",
      "/anaconda3/lib/python3.7/site-packages/ipykernel_launcher.py:2: DataConversionWarning: Data with input dtype int64, float64 were all converted to float64 by StandardScaler.\n",
      "  \n",
      "/anaconda3/lib/python3.7/site-packages/ipykernel_launcher.py:3: DataConversionWarning: Data with input dtype int64, float64 were all converted to float64 by StandardScaler.\n",
      "  This is separate from the ipykernel package so we can avoid doing imports until\n"
     ]
    }
   ],
   "source": [
    "scaler = StandardScaler().fit(X_train)\n",
    "X_train_scaled = scaler.transform(X_train)\n",
    "X_test_scaled = scaler.transform(X_test)"
   ]
  },
  {
   "cell_type": "code",
   "execution_count": 8,
   "metadata": {},
   "outputs": [
    {
     "name": "stdout",
     "output_type": "stream",
     "text": [
      "Fitting 5 folds for each of 2 candidates, totalling 10 fits\n"
     ]
    },
    {
     "name": "stderr",
     "output_type": "stream",
     "text": [
      "[Parallel(n_jobs=-1)]: Using backend LokyBackend with 4 concurrent workers.\n"
     ]
    },
    {
     "name": "stdout",
     "output_type": "stream",
     "text": [
      "{'var_smoothing': 1e-09} GaussianNB(priors=None, var_smoothing=1e-09) [[13342 15003]\n",
      " [ 6007 27763]]               precision    recall  f1-score   support\n",
      "\n",
      "           0       0.69      0.47      0.56     28345\n",
      "           1       0.65      0.82      0.73     33770\n",
      "\n",
      "   micro avg       0.66      0.66      0.66     62115\n",
      "   macro avg       0.67      0.65      0.64     62115\n",
      "weighted avg       0.67      0.66      0.65     62115\n",
      "\n"
     ]
    },
    {
     "name": "stderr",
     "output_type": "stream",
     "text": [
      "[Parallel(n_jobs=-1)]: Done  10 out of  10 | elapsed:    3.8s finished\n"
     ]
    }
   ],
   "source": [
    "#var_smoothing = [1e-9, 1e-8]\n",
    "#param_grid = dict(var_smoothing = var_smoothing)\n",
    "gaussian = naive_bayes.GaussianNB()\n",
    "gaussian_grid = GridSearchCV(gaussian, param_grid, cv=5, scoring='roc_auc', verbose=1, n_jobs=-1)\n",
    "gaussian_grid.fit(X_train_scaled, y_train)\n",
    "gaussian_grid_predictions = gaussian_grid.predict(X_test_scaled)\n",
    "best_params = gaussian_grid.best_params_\n",
    "best_estimator = gaussian_grid.best_estimator_\n",
    "best_cm = confusion_matrix(y_test,gaussian_grid_predictions)\n",
    "best_cr = classification_report(y_test,gaussian_grid_predictions)\n",
    "print(best_params, best_estimator, best_cm, best_cr)"
   ]
  },
  {
   "cell_type": "code",
   "execution_count": 16,
   "metadata": {},
   "outputs": [
    {
     "name": "stdout",
     "output_type": "stream",
     "text": [
      "Best ROC_AUC for Gaussian: %.3f 0.7275681167391118\n"
     ]
    }
   ],
   "source": [
    "print('Best ROC_AUC for Gaussian: %.3f', gaussian_grid.best_score_)"
   ]
  },
  {
   "cell_type": "code",
   "execution_count": 11,
   "metadata": {},
   "outputs": [
    {
     "data": {
      "text/plain": [
       "0.6464102624641713"
      ]
     },
     "execution_count": 11,
     "metadata": {},
     "output_type": "execute_result"
    }
   ],
   "source": [
    "roc_auc_score(y_test,gaussian_grid_predictions)"
   ]
  },
  {
   "cell_type": "code",
   "execution_count": 14,
   "metadata": {},
   "outputs": [
    {
     "data": {
      "text/plain": [
       "(array([0.       , 0.5292997, 1.       ]),\n",
       " array([0.        , 0.82212023, 1.        ]),\n",
       " array([2, 1, 0]))"
      ]
     },
     "execution_count": 14,
     "metadata": {},
     "output_type": "execute_result"
    }
   ],
   "source": [
    "from sklearn.metrics import roc_auc_score, roc_curve\n",
    "\n",
    "roc_curve(y_test,gaussian_grid_predictions)"
   ]
  },
  {
   "cell_type": "code",
   "execution_count": 15,
   "metadata": {},
   "outputs": [
    {
     "name": "stdout",
     "output_type": "stream",
     "text": [
      "Accuracy: 0.662\n",
      "              precision    recall  f1-score   support\n",
      "\n",
      "           0       0.69      0.47      0.56     28345\n",
      "           1       0.65      0.82      0.73     33770\n",
      "\n",
      "   micro avg       0.66      0.66      0.66     62115\n",
      "   macro avg       0.67      0.65      0.64     62115\n",
      "weighted avg       0.67      0.66      0.65     62115\n",
      "\n"
     ]
    }
   ],
   "source": [
    "print(\"Accuracy: %.3f\"% accuracy_score(y_test, gaussian_grid_predictions))\n",
    "print(classification_report(y_test, gaussian_grid_predictions))"
   ]
  },
  {
   "cell_type": "code",
   "execution_count": 17,
   "metadata": {},
   "outputs": [
    {
     "name": "stdout",
     "output_type": "stream",
     "text": [
      "Fitting 5 folds for each of 15 candidates, totalling 75 fits\n"
     ]
    },
    {
     "name": "stderr",
     "output_type": "stream",
     "text": [
      "[Parallel(n_jobs=-1)]: Using backend LokyBackend with 4 concurrent workers.\n",
      "[Parallel(n_jobs=-1)]: Done  42 tasks      | elapsed:    6.8s\n",
      "[Parallel(n_jobs=-1)]: Done  75 out of  75 | elapsed:    9.8s finished\n"
     ]
    },
    {
     "name": "stdout",
     "output_type": "stream",
     "text": [
      "{'alpha': 10} BernoulliNB(alpha=10, binarize=0.0, class_prior=None, fit_prior=True) [[15427 12918]\n",
      " [ 7019 26751]]               precision    recall  f1-score   support\n",
      "\n",
      "           0       0.69      0.54      0.61     28345\n",
      "           1       0.67      0.79      0.73     33770\n",
      "\n",
      "   micro avg       0.68      0.68      0.68     62115\n",
      "   macro avg       0.68      0.67      0.67     62115\n",
      "weighted avg       0.68      0.68      0.67     62115\n",
      "\n"
     ]
    }
   ],
   "source": [
    "#alpha = [0.01, 0.1, 0.2, 0.3, 0.4, 0.5, 0.6, 0.7, 1, 2, 3, 4, 5, 10, 100]\n",
    "#param_grid = dict(alpha = alpha)\n",
    "bernoulli = naive_bayes.BernoulliNB()\n",
    "bernoulli_grid = GridSearchCV(bernoulli, param_grid, cv=5, scoring='roc_auc', verbose=1, n_jobs=-1)\n",
    "bernoulli_grid.fit(X_train_scaled, y_train)\n",
    "bernoulli_grid_predictions = bernoulli_grid.predict(X_test_scaled)\n",
    "best_params = bernoulli_grid.best_params_\n",
    "best_estimator = bernoulli_grid.best_estimator_\n",
    "best_cm = confusion_matrix(y_test,bernoulli_grid_predictions)\n",
    "best_cr = classification_report(y_test,bernoulli_grid_predictions)\n",
    "print(best_params, best_estimator, best_cm, best_cr)"
   ]
  },
  {
   "cell_type": "code",
   "execution_count": 19,
   "metadata": {},
   "outputs": [
    {
     "name": "stdout",
     "output_type": "stream",
     "text": [
      "Best ROC_AUC for Bernoulli: %.3f 0.7444423610343852\n",
      "0.6682055224730314\n",
      "(array([0.        , 0.45574175, 1.        ]), array([0.       , 0.7921528, 1.       ]), array([2, 1, 0]))\n",
      "Accuracy: 0.679\n"
     ]
    }
   ],
   "source": [
    "print('Best ROC_AUC for Bernoulli: %.3f', bernoulli_grid.best_score_)\n",
    "print(roc_auc_score(y_test,bernoulli_grid_predictions))\n",
    "print(roc_curve(y_test,bernoulli_grid_predictions))\n",
    "print(\"Accuracy: %.3f\"% accuracy_score(y_test, bernoulli_grid_predictions))"
   ]
  },
  {
   "cell_type": "code",
   "execution_count": 26,
   "metadata": {},
   "outputs": [
    {
     "name": "stdout",
     "output_type": "stream",
     "text": [
      "Fitting 5 folds for each of 15 candidates, totalling 75 fits\n"
     ]
    },
    {
     "name": "stderr",
     "output_type": "stream",
     "text": [
      "[Parallel(n_jobs=-1)]: Using backend LokyBackend with 4 concurrent workers.\n",
      "[Parallel(n_jobs=-1)]: Done  42 tasks      | elapsed:    3.2s\n"
     ]
    },
    {
     "name": "stdout",
     "output_type": "stream",
     "text": [
      "{'alpha': 3} MultinomialNB(alpha=3, class_prior=None, fit_prior=True) [[ 6170 22175]\n",
      " [ 2537 31233]]               precision    recall  f1-score   support\n",
      "\n",
      "           0       0.71      0.22      0.33     28345\n",
      "           1       0.58      0.92      0.72     33770\n",
      "\n",
      "   micro avg       0.60      0.60      0.60     62115\n",
      "   macro avg       0.65      0.57      0.52     62115\n",
      "weighted avg       0.64      0.60      0.54     62115\n",
      "\n"
     ]
    },
    {
     "name": "stderr",
     "output_type": "stream",
     "text": [
      "[Parallel(n_jobs=-1)]: Done  75 out of  75 | elapsed:    5.4s finished\n"
     ]
    }
   ],
   "source": [
    "#alpha = [0.01, 0.1, 0.2, 0.3, 0.4, 0.5, 0.6, 0.7, 1, 2, 3, 4, 5, 10, 100]\n",
    "#param_grid = dict(alpha = alpha)\n",
    "multinomial = naive_bayes.MultinomialNB()\n",
    "multinomial_grid = GridSearchCV(multinomial, param_grid, cv=5, scoring='roc_auc', verbose=1, n_jobs=-1)\n",
    "multinomial_grid.fit(X_train, y_train)\n",
    "multinomial_grid_predictions = multinomial_grid.predict(X_test)\n",
    "best_params = multinomial_grid.best_params_\n",
    "best_estimator = multinomial_grid.best_estimator_\n",
    "best_cm = confusion_matrix(y_test,multinomial_grid_predictions)\n",
    "best_cr = classification_report(y_test,multinomial_grid_predictions)\n",
    "print(best_params, best_estimator, best_cm, best_cr)"
   ]
  },
  {
   "cell_type": "code",
   "execution_count": 27,
   "metadata": {},
   "outputs": [
    {
     "name": "stdout",
     "output_type": "stream",
     "text": [
      "Best ROC_AUC for Multinomial: %.3f 0.5878696417034942\n",
      "0.5712746118108903\n",
      "(array([0.        , 0.78232493, 1.        ]), array([0.        , 0.92487415, 1.        ]), array([2, 1, 0]))\n",
      "Accuracy: 0.602\n"
     ]
    }
   ],
   "source": [
    "print('Best ROC_AUC for Multinomial: %.3f', multinomial_grid.best_score_)\n",
    "print(roc_auc_score(y_test,multinomial_grid_predictions))\n",
    "print(roc_curve(y_test,multinomial_grid_predictions))\n",
    "print(\"Accuracy: %.3f\"% accuracy_score(y_test, multinomial_grid_predictions))"
   ]
  },
  {
   "cell_type": "code",
   "execution_count": null,
   "metadata": {},
   "outputs": [
    {
     "name": "stdout",
     "output_type": "stream",
     "text": [
      "Fitting 5 folds for each of 12 candidates, totalling 60 fits\n"
     ]
    },
    {
     "name": "stderr",
     "output_type": "stream",
     "text": [
      "[Parallel(n_jobs=-1)]: Using backend LokyBackend with 4 concurrent workers.\n"
     ]
    }
   ],
   "source": [
    "C = np.logspace(0, 4, 4)\n",
    "tolerance = [0.001, 0.1, 1]\n",
    "param_grid = dict(tol = tolerance, C=C)\n",
    "linear_SVC = LinearSVC()\n",
    "linear_SVC_grid = GridSearchCV(linear_SVC, param_grid, cv=5, scoring='roc_auc', verbose=1, n_jobs=-1)\n",
    "linear_SVC_grid.fit(X_train_scaled, y_train)\n",
    "linear_SVC_grid_predictions = linear_SVC_grid.predict(X_test_scaled)\n",
    "best_params = linear_SVC_grid.best_params_\n",
    "best_estimator = linear_SVC_grid.best_estimator_\n",
    "best_cm = confusion_matrix(y_test,linear_SVC_grid_predictions)\n",
    "best_cr = classification_report(y_test,linear_SVC_grid_predictions)\n",
    "print(best_params, best_estimator, best_cm, best_cr)"
   ]
  },
  {
   "cell_type": "code",
   "execution_count": 32,
   "metadata": {},
   "outputs": [
    {
     "name": "stdout",
     "output_type": "stream",
     "text": [
      "Best ROC_AUC for Linear SVC: %.3f 0.7456592761418844\n",
      "0.6729914230477899\n",
      "(array([0.        , 0.41164226, 1.        ]), array([0.        , 0.75762511, 1.        ]), array([2, 1, 0]))\n",
      "Accuracy: 0.680\n"
     ]
    }
   ],
   "source": [
    "print('Best ROC_AUC for Linear SVC: %.3f', linear_SVC_grid.best_score_)\n",
    "print(roc_auc_score(y_test,linear_SVC_grid_predictions))\n",
    "print(roc_curve(y_test,linear_SVC_grid_predictions))\n",
    "print(\"Accuracy: %.3f\"% accuracy_score(y_test, linear_SVC_grid_predictions))"
   ]
  },
  {
   "cell_type": "code",
   "execution_count": null,
   "metadata": {},
   "outputs": [],
   "source": [
    "C = np.logspace(0, 4, 5)\n",
    "gamma = [0.001, 0.01, 0.1, 1]\n",
    "param_grid = dict(C=C, gamma = gamma)\n",
    "SVC = SVC()\n",
    "SVC_grid = GridSearchCV(SVC, param_grid, cv=5, scoring='roc_auc', verbose=1, n_jobs=-1)\n",
    "SVC_grid.fit(X_train_scaled, y_train)\n",
    "SVC_grid_predictions = SVC_grid.predict(X_test_scaled)\n",
    "best_params = SVC_grid.best_params_\n",
    "best_estimator = SVC_grid.best_estimator_\n",
    "best_cm = confusion_matrix(y_test,SVC_grid_predictions)\n",
    "best_cr = classification_report(y_test,SVC_grid_predictions)\n",
    "print(best_params, best_estimator, best_cm, best_cr)"
   ]
  },
  {
   "cell_type": "code",
   "execution_count": null,
   "metadata": {},
   "outputs": [],
   "source": [
    "print('Best ROC_AUC for SVC: %.3f', SVC_grid.best_score_)\n",
    "print(roc_auc_score(y_test,SVC_grid_predictions))\n",
    "print(roc_curve(y_test,SVC_grid_predictions))\n",
    "print(\"Accuracy: %.3f\"% accuracy_score(y_test, SVC_grid_predictions))"
   ]
  },
  {
   "cell_type": "code",
   "execution_count": null,
   "metadata": {},
   "outputs": [],
   "source": [
    "# play with gamma, kernel choice (other, rbf), and also C values. gamma defines how far the influence of the single training example reaches, low values mean far, high values meaning close."
   ]
  },
  {
   "cell_type": "code",
   "execution_count": null,
   "metadata": {},
   "outputs": [],
   "source": []
  }
 ],
 "metadata": {
  "kernelspec": {
   "display_name": "Python 3",
   "language": "python",
   "name": "python3"
  },
  "language_info": {
   "codemirror_mode": {
    "name": "ipython",
    "version": 3
   },
   "file_extension": ".py",
   "mimetype": "text/x-python",
   "name": "python",
   "nbconvert_exporter": "python",
   "pygments_lexer": "ipython3",
   "version": "3.7.3"
  }
 },
 "nbformat": 4,
 "nbformat_minor": 2
}
