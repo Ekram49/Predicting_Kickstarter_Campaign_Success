{
 "cells": [
  {
   "cell_type": "markdown",
   "metadata": {},
   "source": [
    "### Performing Decision Tree and Random Forest Analysis on the Kickstarter Data ###"
   ]
  },
  {
   "cell_type": "code",
   "execution_count": 11,
   "metadata": {},
   "outputs": [],
   "source": [
    "import pandas as pd\n",
    "import numpy as np\n",
    "import matplotlib.pyplot as plt\n",
    "import seaborn as sns\n",
    "%matplotlib inline\n",
    "import pandas_profiling\n",
    "from sklearn import metrics\n",
    "from sklearn.model_selection import train_test_split\n",
    "from sklearn.linear_model import LogisticRegression\n",
    "from sklearn.linear_model import LogisticRegressionCV\n",
    "from sklearn.neighbors import KNeighborsClassifier\n",
    "from sklearn.svm import SVC\n",
    "from sklearn.tree import DecisionTreeClassifier\n",
    "from sklearn.ensemble import RandomForestClassifier\n",
    "from sklearn import svm\n",
    "from sklearn.preprocessing import StandardScaler\n",
    "from sklearn.model_selection import GridSearchCV\n",
    "from sklearn.metrics import log_loss\n",
    "from sklearn.metrics import precision_recall_curve\n",
    "from sklearn import naive_bayes\n",
    "from sklearn.metrics import accuracy_score, classification_report, confusion_matrix\n",
    "from sklearn.svm import LinearSVC, SVC\n",
    "from sklearn.metrics import roc_curve, auc\n",
    "from sklearn.metrics import roc_auc_score, roc_curve\n",
    "\n",
    "plt.style.use('ggplot')"
   ]
  },
  {
   "cell_type": "code",
   "execution_count": 2,
   "metadata": {},
   "outputs": [],
   "source": [
    "kickstarter = pd.read_csv('kickstarter_04_25_19_ready_for_modeling.csv')"
   ]
  },
  {
   "cell_type": "code",
   "execution_count": 3,
   "metadata": {},
   "outputs": [],
   "source": [
    "X = kickstarter[['goal', 'staff_pick_True',\n",
    "       'cam_length', 'blurb_length', 'country_US', 'main_category_comics',\n",
    "       'main_category_crafts', 'main_category_dance', 'main_category_design',\n",
    "       'main_category_fashion', 'main_category_film & video',\n",
    "       'main_category_food', 'main_category_games', 'main_category_journalism',\n",
    "       'main_category_music', 'main_category_photography',\n",
    "       'main_category_publishing', 'main_category_technology',\n",
    "       'main_category_theater']]\n",
    "y = kickstarter['state_successful']"
   ]
  },
  {
   "cell_type": "code",
   "execution_count": 4,
   "metadata": {},
   "outputs": [
    {
     "name": "stdout",
     "output_type": "stream",
     "text": [
      "(144934, 19) (144934,)\n",
      "(62115, 19) (62115,)\n"
     ]
    }
   ],
   "source": [
    "X_train, X_test, y_train, y_test = train_test_split(X,y, test_size=0.30, random_state = 101)\n",
    "print(X_train.shape, y_train.shape)\n",
    "print(X_test.shape,y_test.shape)"
   ]
  },
  {
   "cell_type": "code",
   "execution_count": 5,
   "metadata": {},
   "outputs": [
    {
     "name": "stderr",
     "output_type": "stream",
     "text": [
      "/anaconda3/lib/python3.7/site-packages/sklearn/preprocessing/data.py:645: DataConversionWarning: Data with input dtype int64, float64 were all converted to float64 by StandardScaler.\n",
      "  return self.partial_fit(X, y)\n",
      "/anaconda3/lib/python3.7/site-packages/ipykernel_launcher.py:2: DataConversionWarning: Data with input dtype int64, float64 were all converted to float64 by StandardScaler.\n",
      "  \n",
      "/anaconda3/lib/python3.7/site-packages/ipykernel_launcher.py:3: DataConversionWarning: Data with input dtype int64, float64 were all converted to float64 by StandardScaler.\n",
      "  This is separate from the ipykernel package so we can avoid doing imports until\n"
     ]
    }
   ],
   "source": [
    "scaler = StandardScaler().fit(X_train)\n",
    "X_train_scaled = scaler.transform(X_train)\n",
    "X_test_scaled = scaler.transform(X_test)"
   ]
  },
  {
   "cell_type": "code",
   "execution_count": 7,
   "metadata": {},
   "outputs": [
    {
     "name": "stdout",
     "output_type": "stream",
     "text": [
      "Fitting 5 folds for each of 80 candidates, totalling 400 fits\n"
     ]
    },
    {
     "name": "stderr",
     "output_type": "stream",
     "text": [
      "[Parallel(n_jobs=-1)]: Using backend LokyBackend with 4 concurrent workers.\n",
      "[Parallel(n_jobs=-1)]: Done  24 tasks      | elapsed:    7.3s\n",
      "[Parallel(n_jobs=-1)]: Done 120 tasks      | elapsed:   24.8s\n",
      "[Parallel(n_jobs=-1)]: Done 280 tasks      | elapsed:  1.0min\n",
      "[Parallel(n_jobs=-1)]: Done 400 out of 400 | elapsed:  1.6min finished\n"
     ]
    },
    {
     "name": "stdout",
     "output_type": "stream",
     "text": [
      "{'max_depth': 5, 'min_samples_leaf': 2, 'min_samples_split': 2} DecisionTreeClassifier(class_weight=None, criterion='gini', max_depth=5,\n",
      "            max_features=None, max_leaf_nodes=None,\n",
      "            min_impurity_decrease=0.0, min_impurity_split=None,\n",
      "            min_samples_leaf=2, min_samples_split=2,\n",
      "            min_weight_fraction_leaf=0.0, presort=False, random_state=None,\n",
      "            splitter='best') [[15365 12980]\n",
      " [ 6697 27073]]               precision    recall  f1-score   support\n",
      "\n",
      "           0       0.70      0.54      0.61     28345\n",
      "           1       0.68      0.80      0.73     33770\n",
      "\n",
      "   micro avg       0.68      0.68      0.68     62115\n",
      "   macro avg       0.69      0.67      0.67     62115\n",
      "weighted avg       0.69      0.68      0.68     62115\n",
      "\n"
     ]
    }
   ],
   "source": [
    "#max_depth = [1,2,3,4,5]\n",
    "#min_samples_split = [2,3,4,5]\n",
    "#min_samples_leaf = [2,3,4,5]\n",
    "#param_grid = dict(max_depth=max_depth, min_samples_split = min_samples_split, min_samples_leaf=min_samples_leaf )\n",
    "#tree = DecisionTreeClassifier()\n",
    "#tree_grid = GridSearchCV(tree, param_grid, cv=5, scoring='roc_auc', verbose=3, n_jobs=-1)\n",
    "#tree_grid.fit(X_train_scaled, y_train)\n",
    "#tree_grid_predictions = tree_grid.predict(X_test_scaled)\n",
    "#best_params = tree_grid.best_params_\n",
    "#best_estimator = tree_grid.best_estimator_\n",
    "#best_cm = confusion_matrix(y_test,tree_grid_predictions)\n",
    "#best_cr = classification_report(y_test,tree_grid_predictions)\n",
    "#print(best_params, best_estimator, best_cm, best_cr)"
   ]
  },
  {
   "cell_type": "code",
   "execution_count": 13,
   "metadata": {},
   "outputs": [
    {
     "name": "stdout",
     "output_type": "stream",
     "text": [
      "Best ROC_AUC for Decision Tree: %.3f 0.7259816403249192\n",
      "0.6718794003179969\n",
      "(array([0.        , 0.45792909, 1.        ]), array([0.        , 0.80168789, 1.        ]), array([2, 1, 0]))\n",
      "Accuracy: 0.683\n"
     ]
    }
   ],
   "source": [
    "print('Best ROC_AUC for Decision Tree: %.3f', tree_grid.best_score_)\n",
    "print(roc_auc_score(y_test,tree_grid_predictions))\n",
    "print(roc_curve(y_test,tree_grid_predictions))\n",
    "print(\"Accuracy: %.3f\"% accuracy_score(y_test, tree_grid_predictions))"
   ]
  },
  {
   "cell_type": "code",
   "execution_count": null,
   "metadata": {},
   "outputs": [],
   "source": [
    "y_scores = tree_grid.predict_proba(X_test_scaled)[:, 1]\n",
    "fpr, tpr, auc_thresholds = roc_curve(y_test, y_scores)\n",
    "print(auc(fpr, tpr, label='ROC curve (area = %0.2f)' % (roc_auc))) # AUC of ROC\n",
    "plt.figure(figsize=(8,8))\n",
    "plt.title('ROC Curve')\n",
    "plt.plot(fpr, tpr, linewidth=2,)\n",
    "plt.plot([0, 1], [0, 1], 'k--')\n",
    "plt.axis([-0.005, 1, 0, 1.005])\n",
    "plt.xticks(np.arange(0,1, 0.05), rotation=90)\n",
    "plt.xlabel(\"False Positive Rate\")\n",
    "plt.ylabel(\"True Positive Rate (Recall)\")\n",
    "plt.legend(loc='best')"
   ]
  },
  {
   "cell_type": "code",
   "execution_count": 15,
   "metadata": {},
   "outputs": [
    {
     "data": {
      "image/png": "[encoded data removed]",
      "text/plain": [
       "<Figure size 432x288 with 2 Axes>"
      ]
     },
     "metadata": {},
     "output_type": "display_data"
    }
   ],
   "source": [
    "fpr, tpr, thresholds = roc_curve(y_test, y_scores)\n",
    "roc_auc = auc(fpr, tpr) # compute area under the curve\n",
    " \n",
    "plt.figure()\n",
    "plt.plot(fpr, tpr, label='ROC curve (area = %0.2f)' % (roc_auc))\n",
    "plt.plot([0, 1], [0, 1], 'k--')\n",
    "plt.xlim([0.0, 1.0])\n",
    "plt.ylim([0.0, 1.05])\n",
    "plt.xlabel('False Positive Rate')\n",
    "plt.ylabel('True Positive Rate')\n",
    "plt.title('Receiver operating characteristic')\n",
    "plt.legend(loc=\"lower right\")\n",
    " \n",
    "# create the axis of thresholds (scores)\n",
    "ax2 = plt.gca().twinx()\n",
    "ax2.plot(fpr, thresholds, markeredgecolor='r',linestyle='dashed', color='r')\n",
    "ax2.set_ylabel('Threshold',color='r')\n",
    "ax2.set_ylim([thresholds[-1],thresholds[0]])\n",
    "ax2.set_xlim([fpr[0],fpr[-1]])\n",
    "\n",
    "plt.show()\n",
    "#plt.savefig('roc_and_threshold.png')\n",
    "#plt.close()"
   ]
  },
  {
   "cell_type": "code",
   "execution_count": null,
   "metadata": {},
   "outputs": [
    {
     "name": "stdout",
     "output_type": "stream",
     "text": [
      "Fitting 5 folds for each of 4 candidates, totalling 20 fits\n"
     ]
    },
    {
     "name": "stderr",
     "output_type": "stream",
     "text": [
      "[Parallel(n_jobs=-1)]: Using backend LokyBackend with 4 concurrent workers.\n"
     ]
    }
   ],
   "source": [
    "n_estimators = [1000]\n",
    "max_features = [\"auto\", \"sqrt\", \"log2\", None]\n",
    "param_grid = dict(max_features = max_features, n_estimators = n_estimators)\n",
    "forest_grid = GridSearchCV(forest, param_grid, cv=5, scoring='roc_auc', verbose=3, n_jobs=-1)\n",
    "forest_grid.fit(X_train_scaled, y_train)\n",
    "forest_grid_predictions = forest_grid.predict(X_test_scaled)\n",
    "best_params = forest_grid.best_params_\n",
    "best_estimator = forest_grid.best_estimator_\n",
    "best_cm = confusion_matrix(y_test,forest_grid_predictions)\n",
    "best_cr = classification_report(y_test,forest_grid_predictions)\n",
    "print(best_params, best_estimator, best_cm, best_cr)"
   ]
  },
  {
   "cell_type": "code",
   "execution_count": null,
   "metadata": {},
   "outputs": [],
   "source": [
    "print('Best ROC_AUC for Random Forest: %.3f', forest_grid.best_score_)\n",
    "print(roc_auc_score(y_test,forest_grid_predictions))\n",
    "print(roc_curve(y_test,forest_grid_predictions))\n",
    "print(\"Accuracy: %.3f\"% accuracy_score(y_test, forest_grid_predictions))"
   ]
  },
  {
   "cell_type": "code",
   "execution_count": null,
   "metadata": {},
   "outputs": [],
   "source": [
    "y_scores = forest_grid.predict_proba(X_test_scaled)[:, 1]\n",
    "fpr, tpr, auc_thresholds = roc_curve(y_test, y_scores)\n",
    "print(auc(fpr, tpr, label='ROC curve (area = %0.2f)' % (roc_auc))) # AUC of ROC\n",
    "plt.figure(figsize=(8,8))\n",
    "plt.title('ROC Curve')\n",
    "plt.plot(fpr, tpr, linewidth=2,)\n",
    "plt.plot([0, 1], [0, 1], 'k--')\n",
    "plt.axis([-0.005, 1, 0, 1.005])\n",
    "plt.xticks(np.arange(0,1, 0.05), rotation=90)\n",
    "plt.xlabel(\"False Positive Rate\")\n",
    "plt.ylabel(\"True Positive Rate (Recall)\")\n",
    "plt.legend(loc='best')"
   ]
  },
  {
   "cell_type": "code",
   "execution_count": null,
   "metadata": {},
   "outputs": [],
   "source": [
    "fpr, tpr, thresholds = roc_curve(y_test, y_scores)\n",
    "roc_auc = auc(fpr, tpr) # compute area under the curve\n",
    " \n",
    "plt.figure()\n",
    "plt.plot(fpr, tpr, label='ROC curve (area = %0.2f)' % (roc_auc))\n",
    "plt.plot([0, 1], [0, 1], 'k--')\n",
    "plt.xlim([0.0, 1.0])\n",
    "plt.ylim([0.0, 1.05])\n",
    "plt.xlabel('False Positive Rate')\n",
    "plt.ylabel('True Positive Rate')\n",
    "plt.title('Receiver operating characteristic')\n",
    "plt.legend(loc=\"lower right\")\n",
    " \n",
    "# create the axis of thresholds (scores)\n",
    "ax2 = plt.gca().twinx()\n",
    "ax2.plot(fpr, thresholds, markeredgecolor='r',linestyle='dashed', color='r')\n",
    "ax2.set_ylabel('Threshold',color='r')\n",
    "ax2.set_ylim([thresholds[-1],thresholds[0]])\n",
    "ax2.set_xlim([fpr[0],fpr[-1]])\n",
    "\n",
    "plt.show()\n",
    "#plt.savefig('roc_and_threshold.png')\n",
    "#plt.close()"
   ]
  },
  {
   "cell_type": "code",
   "execution_count": null,
   "metadata": {},
   "outputs": [],
   "source": [
    "forest_grid.best_estimator_.coef_"
   ]
  },
  {
   "cell_type": "code",
   "execution_count": null,
   "metadata": {},
   "outputs": [],
   "source": []
  }
 ],
 "metadata": {
  "kernelspec": {
   "display_name": "Python 3",
   "language": "python",
   "name": "python3"
  },
  "language_info": {
   "codemirror_mode": {
    "name": "ipython",
    "version": 3
   },
   "file_extension": ".py",
   "mimetype": "text/x-python",
   "name": "python",
   "nbconvert_exporter": "python",
   "pygments_lexer": "ipython3",
   "version": "3.7.3"
  }
 },
 "nbformat": 4,
 "nbformat_minor": 2
}
