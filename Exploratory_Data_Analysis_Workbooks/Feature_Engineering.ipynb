{
 "cells": [
  {
   "cell_type": "markdown",
   "metadata": {},
   "source": [
    "### Feature Engineering ###\n",
    "\n",
    "Let's examine which features are available while the Kickstarter campaign is going on:\n",
    "\n",
    "#Goal amount\n",
    "#Length of campaign\n",
    "#Staff Pick\n",
    "#Category\n",
    "#Country of campaign\n",
    "#Description length"
   ]
  },
  {
   "cell_type": "code",
   "execution_count": 1,
   "metadata": {},
   "outputs": [],
   "source": [
    "import pandas as pd\n",
    "import numpy as np\n",
    "import matplotlib.pyplot as plt\n",
    "import seaborn as sns\n",
    "%matplotlib inline\n",
    "\n",
    "from sklearn.model_selection import train_test_split\n",
    "from sklearn.linear_model import LogisticRegressionCV\n",
    "from sklearn.metrics import classification_report\n",
    "from sklearn.metrics import confusion_matrix\n",
    "\n",
    "plt.style.use('ggplot')\n",
    "#np.set_printoptions(suppress=True)"
   ]
  },
  {
   "cell_type": "code",
   "execution_count": 2,
   "metadata": {},
   "outputs": [],
   "source": [
    "kickstarter = pd.read_csv('kickstarter_features_04_25_19_12_59_pm.csv')"
   ]
  },
  {
   "cell_type": "code",
   "execution_count": 3,
   "metadata": {},
   "outputs": [
    {
     "data": {
      "text/html": [
       "<div>\n",
       "<style scoped>\n",
       "    .dataframe tbody tr th:only-of-type {\n",
       "        vertical-align: middle;\n",
       "    }\n",
       "\n",
       "    .dataframe tbody tr th {\n",
       "        vertical-align: top;\n",
       "    }\n",
       "\n",
       "    .dataframe thead th {\n",
       "        text-align: right;\n",
       "    }\n",
       "</style>\n",
       "<table border=\"1\" class=\"dataframe\">\n",
       "  <thead>\n",
       "    <tr style=\"text-align: right;\">\n",
       "      <th></th>\n",
       "      <th>backers_count</th>\n",
       "      <th>converted_pledged_amount</th>\n",
       "      <th>fx_rate</th>\n",
       "      <th>goal</th>\n",
       "      <th>id</th>\n",
       "      <th>pledged</th>\n",
       "      <th>static_usd_rate</th>\n",
       "      <th>usd_pledged</th>\n",
       "      <th>state_successful</th>\n",
       "    </tr>\n",
       "  </thead>\n",
       "  <tbody>\n",
       "    <tr>\n",
       "      <th>count</th>\n",
       "      <td>207049.000000</td>\n",
       "      <td>2.070490e+05</td>\n",
       "      <td>207049.000000</td>\n",
       "      <td>2.070490e+05</td>\n",
       "      <td>2.070490e+05</td>\n",
       "      <td>2.070490e+05</td>\n",
       "      <td>207049.000000</td>\n",
       "      <td>2.070490e+05</td>\n",
       "      <td>207049.000000</td>\n",
       "    </tr>\n",
       "    <tr>\n",
       "      <th>mean</th>\n",
       "      <td>136.686683</td>\n",
       "      <td>1.157873e+04</td>\n",
       "      <td>0.999263</td>\n",
       "      <td>4.414080e+04</td>\n",
       "      <td>1.074044e+09</td>\n",
       "      <td>1.416369e+04</td>\n",
       "      <td>1.016881</td>\n",
       "      <td>1.155609e+04</td>\n",
       "      <td>0.541514</td>\n",
       "    </tr>\n",
       "    <tr>\n",
       "      <th>std</th>\n",
       "      <td>890.951528</td>\n",
       "      <td>8.314121e+04</td>\n",
       "      <td>0.182331</td>\n",
       "      <td>1.075333e+06</td>\n",
       "      <td>6.188918e+08</td>\n",
       "      <td>2.322216e+05</td>\n",
       "      <td>0.210705</td>\n",
       "      <td>8.284452e+04</td>\n",
       "      <td>0.498275</td>\n",
       "    </tr>\n",
       "    <tr>\n",
       "      <th>min</th>\n",
       "      <td>0.000000</td>\n",
       "      <td>0.000000e+00</td>\n",
       "      <td>0.008779</td>\n",
       "      <td>1.000000e-02</td>\n",
       "      <td>8.624000e+03</td>\n",
       "      <td>0.000000e+00</td>\n",
       "      <td>0.008771</td>\n",
       "      <td>0.000000e+00</td>\n",
       "      <td>0.000000</td>\n",
       "    </tr>\n",
       "    <tr>\n",
       "      <th>25%</th>\n",
       "      <td>3.000000</td>\n",
       "      <td>9.100000e+01</td>\n",
       "      <td>1.000000</td>\n",
       "      <td>1.500000e+03</td>\n",
       "      <td>5.371622e+08</td>\n",
       "      <td>9.700000e+01</td>\n",
       "      <td>1.000000</td>\n",
       "      <td>9.100000e+01</td>\n",
       "      <td>0.000000</td>\n",
       "    </tr>\n",
       "    <tr>\n",
       "      <th>50%</th>\n",
       "      <td>24.000000</td>\n",
       "      <td>1.367000e+03</td>\n",
       "      <td>1.000000</td>\n",
       "      <td>5.000000e+03</td>\n",
       "      <td>1.075551e+09</td>\n",
       "      <td>1.372000e+03</td>\n",
       "      <td>1.000000</td>\n",
       "      <td>1.367142e+03</td>\n",
       "      <td>1.000000</td>\n",
       "    </tr>\n",
       "    <tr>\n",
       "      <th>75%</th>\n",
       "      <td>82.000000</td>\n",
       "      <td>6.000000e+03</td>\n",
       "      <td>1.000000</td>\n",
       "      <td>1.500000e+04</td>\n",
       "      <td>1.608816e+09</td>\n",
       "      <td>6.078000e+03</td>\n",
       "      <td>1.000000</td>\n",
       "      <td>6.000000e+03</td>\n",
       "      <td>1.000000</td>\n",
       "    </tr>\n",
       "    <tr>\n",
       "      <th>max</th>\n",
       "      <td>105857.000000</td>\n",
       "      <td>8.596474e+06</td>\n",
       "      <td>1.785406</td>\n",
       "      <td>1.000000e+08</td>\n",
       "      <td>2.147476e+09</td>\n",
       "      <td>8.103074e+07</td>\n",
       "      <td>1.716408</td>\n",
       "      <td>8.596475e+06</td>\n",
       "      <td>1.000000</td>\n",
       "    </tr>\n",
       "  </tbody>\n",
       "</table>\n",
       "</div>"
      ],
      "text/plain": [
       "       backers_count  converted_pledged_amount        fx_rate          goal  \\\n",
       "count  207049.000000              2.070490e+05  207049.000000  2.070490e+05   \n",
       "mean      136.686683              1.157873e+04       0.999263  4.414080e+04   \n",
       "std       890.951528              8.314121e+04       0.182331  1.075333e+06   \n",
       "min         0.000000              0.000000e+00       0.008779  1.000000e-02   \n",
       "25%         3.000000              9.100000e+01       1.000000  1.500000e+03   \n",
       "50%        24.000000              1.367000e+03       1.000000  5.000000e+03   \n",
       "75%        82.000000              6.000000e+03       1.000000  1.500000e+04   \n",
       "max    105857.000000              8.596474e+06       1.785406  1.000000e+08   \n",
       "\n",
       "                 id       pledged  static_usd_rate   usd_pledged  \\\n",
       "count  2.070490e+05  2.070490e+05    207049.000000  2.070490e+05   \n",
       "mean   1.074044e+09  1.416369e+04         1.016881  1.155609e+04   \n",
       "std    6.188918e+08  2.322216e+05         0.210705  8.284452e+04   \n",
       "min    8.624000e+03  0.000000e+00         0.008771  0.000000e+00   \n",
       "25%    5.371622e+08  9.700000e+01         1.000000  9.100000e+01   \n",
       "50%    1.075551e+09  1.372000e+03         1.000000  1.367142e+03   \n",
       "75%    1.608816e+09  6.078000e+03         1.000000  6.000000e+03   \n",
       "max    2.147476e+09  8.103074e+07         1.716408  8.596475e+06   \n",
       "\n",
       "       state_successful  \n",
       "count     207049.000000  \n",
       "mean           0.541514  \n",
       "std            0.498275  \n",
       "min            0.000000  \n",
       "25%            0.000000  \n",
       "50%            1.000000  \n",
       "75%            1.000000  \n",
       "max            1.000000  "
      ]
     },
     "execution_count": 3,
     "metadata": {},
     "output_type": "execute_result"
    }
   ],
   "source": [
    "kickstarter.describe()"
   ]
  },
  {
   "cell_type": "code",
   "execution_count": 5,
   "metadata": {},
   "outputs": [
    {
     "name": "stdout",
     "output_type": "stream",
     "text": [
      "<class 'pandas.core.frame.DataFrame'>\n",
      "RangeIndex: 207049 entries, 0 to 207048\n",
      "Data columns (total 26 columns):\n",
      "backers_count               207049 non-null int64\n",
      "blurb                       207046 non-null object\n",
      "category                    207049 non-null object\n",
      "converted_pledged_amount    207049 non-null int64\n",
      "country                     207049 non-null object\n",
      "created_at                  207049 non-null object\n",
      "currency                    207049 non-null object\n",
      "current_currency            207049 non-null object\n",
      "deadline                    207049 non-null object\n",
      "fx_rate                     207049 non-null float64\n",
      "goal                        207049 non-null float64\n",
      "id                          207049 non-null int64\n",
      "launched_at                 207049 non-null object\n",
      "location                    206388 non-null object\n",
      "name                        207048 non-null object\n",
      "pledged                     207049 non-null float64\n",
      "slug                        207049 non-null object\n",
      "spotlight                   207049 non-null bool\n",
      "staff_pick                  207049 non-null bool\n",
      "state_changed_at            207049 non-null object\n",
      "static_usd_rate             207049 non-null float64\n",
      "usd_pledged                 207049 non-null float64\n",
      "usd_type                    206844 non-null object\n",
      "state_successful            207049 non-null int64\n",
      "main_category               207049 non-null object\n",
      "child_category              207049 non-null object\n",
      "dtypes: bool(2), float64(5), int64(4), object(15)\n",
      "memory usage: 38.3+ MB\n"
     ]
    }
   ],
   "source": [
    "kickstarter.info()"
   ]
  },
  {
   "cell_type": "code",
   "execution_count": 35,
   "metadata": {},
   "outputs": [
    {
     "data": {
      "image/png": "[encoded data removed]",
      "text/plain": [
       "<Figure size 1152x360 with 1 Axes>"
      ]
     },
     "metadata": {
      "needs_background": "light"
     },
     "output_type": "display_data"
    }
   ],
   "source": [
    "category_list = kickstarter['main_category'].value_counts()\n",
    "category_list\n",
    "plt.figure(figsize=(16,5))\n",
    "sns.barplot(category_list.index, category_list.values, alpha=0.8)\n",
    "plt.title('Kickstarter Categories')\n",
    "plt.ylabel('Number of Campaigns', fontsize=12)\n",
    "plt.xlabel('Category', fontsize=12)\n",
    "plt.show()"
   ]
  },
  {
   "cell_type": "code",
   "execution_count": 36,
   "metadata": {},
   "outputs": [
    {
     "data": {
      "image/png": "[encoded data removed]",
      "text/plain": [
       "<Figure size 1152x360 with 1 Axes>"
      ]
     },
     "metadata": {
      "needs_background": "light"
     },
     "output_type": "display_data"
    }
   ],
   "source": [
    "country_list = kickstarter['country'].value_counts()\n",
    "country_list\n",
    "plt.figure(figsize=(16,5))\n",
    "sns.barplot(country_list.index, country_list.values, alpha=0.8)\n",
    "plt.title('Kickstarter Countries')\n",
    "plt.ylabel('Number of Campaigns', fontsize=12)\n",
    "plt.xlabel('Countries', fontsize=12)\n",
    "plt.show()"
   ]
  },
  {
   "cell_type": "code",
   "execution_count": 37,
   "metadata": {},
   "outputs": [
    {
     "data": {
      "text/plain": [
       "US       156814\n",
       "GB        19697\n",
       "CA         8420\n",
       "OTHER      6301\n",
       "AU         4364\n",
       "DE         2664\n",
       "FR         2043\n",
       "IT         1919\n",
       "NL         1682\n",
       "MX         1632\n",
       "ES         1513\n",
       "Name: country, dtype: int64"
      ]
     },
     "execution_count": 37,
     "metadata": {},
     "output_type": "execute_result"
    }
   ],
   "source": [
    "country_list"
   ]
  },
  {
   "cell_type": "code",
   "execution_count": 62,
   "metadata": {},
   "outputs": [
    {
     "name": "stdout",
     "output_type": "stream",
     "text": [
      "main_category  state_successful\n",
      "art            0                   10898\n",
      "               1                   11452\n",
      "comics         0                    2311\n",
      "               1                    7061\n",
      "crafts         0                    3290\n",
      "               1                    1435\n",
      "dance          0                     626\n",
      "               1                    1670\n",
      "design         0                    2234\n",
      "               1                    4034\n",
      "fashion        0                    7362\n",
      "               1                    6689\n",
      "film & video   0                   11334\n",
      "               1                   17514\n",
      "food           0                   10183\n",
      "               1                    6114\n",
      "games          0                    4772\n",
      "               1                    8327\n",
      "journalism     0                    3273\n",
      "               1                     504\n",
      "music          0                   10529\n",
      "               1                   19618\n",
      "photography    0                    3345\n",
      "               1                    2971\n",
      "publishing     0                    5699\n",
      "               1                   12372\n",
      "technology     0                   17404\n",
      "               1                    6978\n",
      "theater        0                    1669\n",
      "               1                    5381\n",
      "dtype: int64\n"
     ]
    },
    {
     "data": {
      "image/png": "[encoded data removed]",
      "text/plain": [
       "<Figure size 1152x360 with 1 Axes>"
      ]
     },
     "metadata": {
      "needs_background": "light"
     },
     "output_type": "display_data"
    }
   ],
   "source": [
    "category_success = kickstarter.groupby(['main_category','state_successful']).size()\n",
    "#category_success = category_success.unstack(level=-1)\n",
    "#category_success = pd.DataFrame(category_success)\n",
    "print(category_success)\n",
    "\n",
    "plt.figure(figsize=(16,5))\n",
    "sns.barplot(x = category_success.index, y = category_success.values, alpha=0.8)\n",
    "plt.title('Kickstarter Success by Category')\n",
    "plt.ylabel('Number of Campaigns', fontsize=12)\n",
    "plt.xlabel('Categories', fontsize=12)\n",
    "plt.show()"
   ]
  },
  {
   "cell_type": "code",
   "execution_count": 58,
   "metadata": {},
   "outputs": [
    {
     "data": {
      "text/plain": [
       "array([[10898, 11452],\n",
       "       [ 2311,  7061],\n",
       "       [ 3290,  1435],\n",
       "       [  626,  1670],\n",
       "       [ 2234,  4034],\n",
       "       [ 7362,  6689],\n",
       "       [11334, 17514],\n",
       "       [10183,  6114],\n",
       "       [ 4772,  8327],\n",
       "       [ 3273,   504],\n",
       "       [10529, 19618],\n",
       "       [ 3345,  2971],\n",
       "       [ 5699, 12372],\n",
       "       [17404,  6978],\n",
       "       [ 1669,  5381]])"
      ]
     },
     "execution_count": 58,
     "metadata": {},
     "output_type": "execute_result"
    }
   ],
   "source": [
    "category_success.values"
   ]
  },
  {
   "cell_type": "code",
   "execution_count": 64,
   "metadata": {},
   "outputs": [
    {
     "data": {
      "text/html": [
       "<div>\n",
       "<style scoped>\n",
       "    .dataframe tbody tr th:only-of-type {\n",
       "        vertical-align: middle;\n",
       "    }\n",
       "\n",
       "    .dataframe tbody tr th {\n",
       "        vertical-align: top;\n",
       "    }\n",
       "\n",
       "    .dataframe thead th {\n",
       "        text-align: right;\n",
       "    }\n",
       "</style>\n",
       "<table border=\"1\" class=\"dataframe\">\n",
       "  <thead>\n",
       "    <tr style=\"text-align: right;\">\n",
       "      <th></th>\n",
       "      <th>created_at</th>\n",
       "      <th>launched_at</th>\n",
       "      <th>deadline</th>\n",
       "      <th>state_changed_at</th>\n",
       "    </tr>\n",
       "  </thead>\n",
       "  <tbody>\n",
       "    <tr>\n",
       "      <th>0</th>\n",
       "      <td>2016-09-11 22:05:51</td>\n",
       "      <td>2016-11-05 18:42:23</td>\n",
       "      <td>2016-12-05 19:42:23</td>\n",
       "      <td>2016-12-05 19:42:23</td>\n",
       "    </tr>\n",
       "    <tr>\n",
       "      <th>1</th>\n",
       "      <td>2015-07-10 14:59:32</td>\n",
       "      <td>2015-07-21 12:00:34</td>\n",
       "      <td>2015-08-24 12:00:34</td>\n",
       "      <td>2015-08-24 12:00:34</td>\n",
       "    </tr>\n",
       "    <tr>\n",
       "      <th>2</th>\n",
       "      <td>2015-03-24 17:41:14</td>\n",
       "      <td>2015-04-15 16:22:34</td>\n",
       "      <td>2015-05-15 16:22:34</td>\n",
       "      <td>2015-05-15 16:22:34</td>\n",
       "    </tr>\n",
       "  </tbody>\n",
       "</table>\n",
       "</div>"
      ],
      "text/plain": [
       "            created_at          launched_at             deadline  \\\n",
       "0  2016-09-11 22:05:51  2016-11-05 18:42:23  2016-12-05 19:42:23   \n",
       "1  2015-07-10 14:59:32  2015-07-21 12:00:34  2015-08-24 12:00:34   \n",
       "2  2015-03-24 17:41:14  2015-04-15 16:22:34  2015-05-15 16:22:34   \n",
       "\n",
       "      state_changed_at  \n",
       "0  2016-12-05 19:42:23  \n",
       "1  2015-08-24 12:00:34  \n",
       "2  2015-05-15 16:22:34  "
      ]
     },
     "execution_count": 64,
     "metadata": {},
     "output_type": "execute_result"
    }
   ],
   "source": [
    "kickstarter[['created_at','launched_at', 'deadline', 'state_changed_at']].head(3)"
   ]
  },
  {
   "cell_type": "code",
   "execution_count": 79,
   "metadata": {},
   "outputs": [
    {
     "data": {
      "text/plain": [
       "backers_count                        int64\n",
       "blurb                               object\n",
       "category                            object\n",
       "converted_pledged_amount             int64\n",
       "country                             object\n",
       "created_at                          object\n",
       "currency                            object\n",
       "current_currency                    object\n",
       "deadline                            object\n",
       "fx_rate                            float64\n",
       "goal                               float64\n",
       "id                                   int64\n",
       "launched_at                 datetime64[ns]\n",
       "location                            object\n",
       "name                                object\n",
       "pledged                            float64\n",
       "slug                                object\n",
       "spotlight                             bool\n",
       "staff_pick                            bool\n",
       "state_changed_at            datetime64[ns]\n",
       "static_usd_rate                    float64\n",
       "usd_pledged                        float64\n",
       "usd_type                            object\n",
       "state_successful                     int64\n",
       "main_category                       object\n",
       "child_category                      object\n",
       "dtype: object"
      ]
     },
     "execution_count": 79,
     "metadata": {},
     "output_type": "execute_result"
    }
   ],
   "source": [
    "kickstarter.dtypes"
   ]
  },
  {
   "cell_type": "code",
   "execution_count": 78,
   "metadata": {},
   "outputs": [],
   "source": [
    "kickstarter['launched_at'] = pd.to_datetime(kickstarter['launched_at'])\n",
    "kickstarter['state_changed_at'] = pd.to_datetime(kickstarter['state_changed_at'])"
   ]
  },
  {
   "cell_type": "code",
   "execution_count": 82,
   "metadata": {},
   "outputs": [],
   "source": [
    "from datetime import timedelta, datetime\n",
    "\n",
    "start_days = kickstarter['launched_at'].values\n",
    "end_dayes = kickstarter['state_changed_at'].values"
   ]
  },
  {
   "cell_type": "code",
   "execution_count": 84,
   "metadata": {},
   "outputs": [],
   "source": [
    "length = end_dayes-start_days"
   ]
  },
  {
   "cell_type": "code",
   "execution_count": 95,
   "metadata": {},
   "outputs": [],
   "source": [
    "length = pd.to_timedelta(length).days"
   ]
  },
  {
   "cell_type": "code",
   "execution_count": 96,
   "metadata": {},
   "outputs": [
    {
     "data": {
      "text/plain": [
       "Int64Index([30, 34, 30, 45, 30, 60, 30, 30, 30, 60,\n",
       "            ...\n",
       "            30, 29, 30, 32, 22, 31, 15, 31, 30, 30],\n",
       "           dtype='int64', length=207049)"
      ]
     },
     "execution_count": 96,
     "metadata": {},
     "output_type": "execute_result"
    }
   ],
   "source": [
    "length"
   ]
  },
  {
   "cell_type": "code",
   "execution_count": 97,
   "metadata": {},
   "outputs": [],
   "source": [
    "kickstarter['cam_length'] = length"
   ]
  },
  {
   "cell_type": "code",
   "execution_count": 101,
   "metadata": {},
   "outputs": [
    {
     "data": {
      "text/plain": [
       "0"
      ]
     },
     "execution_count": 101,
     "metadata": {},
     "output_type": "execute_result"
    }
   ],
   "source": []
  },
  {
   "cell_type": "code",
   "execution_count": 103,
   "metadata": {},
   "outputs": [
    {
     "data": {
      "text/html": [
       "<div>\n",
       "<style scoped>\n",
       "    .dataframe tbody tr th:only-of-type {\n",
       "        vertical-align: middle;\n",
       "    }\n",
       "\n",
       "    .dataframe tbody tr th {\n",
       "        vertical-align: top;\n",
       "    }\n",
       "\n",
       "    .dataframe thead th {\n",
       "        text-align: right;\n",
       "    }\n",
       "</style>\n",
       "<table border=\"1\" class=\"dataframe\">\n",
       "  <thead>\n",
       "    <tr style=\"text-align: right;\">\n",
       "      <th></th>\n",
       "      <th>created_at</th>\n",
       "      <th>launched_at</th>\n",
       "      <th>deadline</th>\n",
       "      <th>state_changed_at</th>\n",
       "      <th>cam_length</th>\n",
       "    </tr>\n",
       "  </thead>\n",
       "  <tbody>\n",
       "    <tr>\n",
       "      <th>0</th>\n",
       "      <td>2016-09-11 22:05:51</td>\n",
       "      <td>2016-11-05 18:42:23</td>\n",
       "      <td>2016-12-05 19:42:23</td>\n",
       "      <td>2016-12-05 19:42:23</td>\n",
       "      <td>30</td>\n",
       "    </tr>\n",
       "    <tr>\n",
       "      <th>1</th>\n",
       "      <td>2015-07-10 14:59:32</td>\n",
       "      <td>2015-07-21 12:00:34</td>\n",
       "      <td>2015-08-24 12:00:34</td>\n",
       "      <td>2015-08-24 12:00:34</td>\n",
       "      <td>34</td>\n",
       "    </tr>\n",
       "    <tr>\n",
       "      <th>2</th>\n",
       "      <td>2015-03-24 17:41:14</td>\n",
       "      <td>2015-04-15 16:22:34</td>\n",
       "      <td>2015-05-15 16:22:34</td>\n",
       "      <td>2015-05-15 16:22:34</td>\n",
       "      <td>30</td>\n",
       "    </tr>\n",
       "  </tbody>\n",
       "</table>\n",
       "</div>"
      ],
      "text/plain": [
       "            created_at         launched_at             deadline  \\\n",
       "0  2016-09-11 22:05:51 2016-11-05 18:42:23  2016-12-05 19:42:23   \n",
       "1  2015-07-10 14:59:32 2015-07-21 12:00:34  2015-08-24 12:00:34   \n",
       "2  2015-03-24 17:41:14 2015-04-15 16:22:34  2015-05-15 16:22:34   \n",
       "\n",
       "     state_changed_at  cam_length  \n",
       "0 2016-12-05 19:42:23          30  \n",
       "1 2015-08-24 12:00:34          34  \n",
       "2 2015-05-15 16:22:34          30  "
      ]
     },
     "execution_count": 103,
     "metadata": {},
     "output_type": "execute_result"
    }
   ],
   "source": [
    "kickstarter[['created_at','launched_at', 'deadline', 'state_changed_at', 'cam_length']].head(3)"
   ]
  },
  {
   "cell_type": "code",
   "execution_count": 104,
   "metadata": {},
   "outputs": [
    {
     "data": {
      "text/plain": [
       "Index(['backers_count', 'blurb', 'category', 'converted_pledged_amount',\n",
       "       'country', 'created_at', 'currency', 'current_currency', 'deadline',\n",
       "       'fx_rate', 'goal', 'id', 'launched_at', 'location', 'name', 'pledged',\n",
       "       'slug', 'spotlight', 'staff_pick', 'state_changed_at',\n",
       "       'static_usd_rate', 'usd_pledged', 'usd_type', 'state_successful',\n",
       "       'main_category', 'child_category', 'cam_length'],\n",
       "      dtype='object')"
      ]
     },
     "execution_count": 104,
     "metadata": {},
     "output_type": "execute_result"
    }
   ],
   "source": [
    "kickstarter.columns"
   ]
  },
  {
   "cell_type": "code",
   "execution_count": 158,
   "metadata": {},
   "outputs": [],
   "source": [
    "blurb = kickstarter['blurb'].astype('str')"
   ]
  },
  {
   "cell_type": "code",
   "execution_count": 159,
   "metadata": {},
   "outputs": [
    {
     "data": {
      "text/plain": [
       "0         An eco-friendly coffee table that is both func...\n",
       "1         We take digital uploads and make them handpain...\n",
       "2         We are a team of restaurant pros looking to fu...\n",
       "3         Loosely-based on a Lakota legend, Grandfather ...\n",
       "4         We are creating a coffee boutique where you ca...\n",
       "5         If you want to hear more old school thrash met...\n",
       "6         A young director tries to show a film about a ...\n",
       "7         it is a catapult that folds up in to an altoid...\n",
       "8         SA allows the card giver to send a video, audi...\n",
       "9         A organic eco-community & farming co-op for ve...\n",
       "10        I just released my first single, \"I'm a Tease\"...\n",
       "11        Distinctive and elegant pet necklaces that are...\n",
       "12        A poetry chapbook set on the public transit of...\n",
       "13        Needing help to get this project started and m...\n",
       "14        A short film about wearing multiple masks and ...\n",
       "15        X55 is a narrative drama that follows an up an...\n",
       "16        Let's spend an evening together watching selec...\n",
       "17        Complete minky swatch packs are expensive and ...\n",
       "18        SVP's student ran submission based magazine. T...\n",
       "19        Musicians of the Sun is the first performance ...\n",
       "20        Due to the frequent absence of her mother, a y...\n",
       "21        I'm setting out to create a better soap.  With...\n",
       "22        I own an online business. I'm hoping to expand...\n",
       "23        I make HD Geometric Digital art. I'm willing t...\n",
       "24        “Corey” is a dark comedy series about a waste ...\n",
       "25        Send DarkDriveClinic on tour in support of the...\n",
       "26        2 Choreographers, 2 Weeks, 2 Original Works by...\n",
       "27        A supernatural horror short film about a disgr...\n",
       "28        Trendy handmade dorm decoration packages! The ...\n",
       "29        Join Dr. Mary Crowell on a mythic musical jour...\n",
       "                                ...                        \n",
       "207019    A pocket-sized anthology from Fireside \n",
       "fueled...\n",
       "207020    I'm putting together a book full of sketches f...\n",
       "207021    Designed for BMCS, this card game is easy to p...\n",
       "207022    Print your 20th century terrain for wargame. 3...\n",
       "207023    An original dance work bridging the worlds of ...\n",
       "207024    A film featurette based on the album Avatar Co...\n",
       "207025    Tempo Rei - Le nouveau spectacle du Choeur Scé...\n",
       "207026    Dance and theater performance based on Aldous ...\n",
       "207027    Reinterpretación de La Llorona en la que músic...\n",
       "207028    Limited edition Bicycle decks, EDC mint coins,...\n",
       "207029      Every icon available in more than dozen styles!\n",
       "207030    A Maternity / Nursing T-shawl, that allows you...\n",
       "207031    1/Permanent Anti-Bacteria Unisex Down Coat Set...\n",
       "207032    We're expanding our product line and will star...\n",
       "207033    Every sale helps us renovate schools in rural ...\n",
       "207034    The Living Corpse: The Hexx Files one-shot com...\n",
       "207035    These classy precious-metal-plated, 3D enamel ...\n",
       "207036    An anthology collection of more than 40 storie...\n",
       "207037    A 12\"X17\" hardcover that features complete sto...\n",
       "207038                            Finding Dee 2019 Calendar\n",
       "207039    An Authentic Japanese B-Kyu 'Gurume' Style Str...\n",
       "207040                      Share, Learn & Earn like a Pro!\n",
       "207041    A watch dedicated to improving your mindset on...\n",
       "207042    Get rid of that old bulky mixer! This is porta...\n",
       "207043    An innovative exhibition displaying well-known...\n",
       "207044    Great professors, bunk beds, communal meals, m...\n",
       "207045    FORWARD is a 5 day festival celebrating electr...\n",
       "207046    A one-shot art zine created in the deserts of ...\n",
       "207047    A smooth hot sauce made in the UK from premium...\n",
       "207048    A visceral communal ritual examining what it m...\n",
       "Name: blurb, Length: 207049, dtype: object"
      ]
     },
     "execution_count": 159,
     "metadata": {},
     "output_type": "execute_result"
    }
   ],
   "source": [
    "blurb"
   ]
  },
  {
   "cell_type": "code",
   "execution_count": 165,
   "metadata": {},
   "outputs": [],
   "source": [
    "blurb_length = []\n",
    "\n",
    "for b in blurb:\n",
    "    blurb_length_item = len(b.split(' '))\n",
    "    blurb_length.append(blurb_length_item)"
   ]
  },
  {
   "cell_type": "code",
   "execution_count": 167,
   "metadata": {},
   "outputs": [],
   "source": [
    "kickstarter['blurb_length'] = blurb_length"
   ]
  },
  {
   "cell_type": "code",
   "execution_count": 169,
   "metadata": {},
   "outputs": [
    {
     "data": {
      "text/plain": [
       "backers_count                        int64\n",
       "blurb                               object\n",
       "category                            object\n",
       "converted_pledged_amount             int64\n",
       "country                             object\n",
       "created_at                          object\n",
       "currency                            object\n",
       "current_currency                    object\n",
       "deadline                            object\n",
       "fx_rate                            float64\n",
       "goal                               float64\n",
       "id                                   int64\n",
       "launched_at                 datetime64[ns]\n",
       "location                            object\n",
       "name                                object\n",
       "pledged                            float64\n",
       "slug                                object\n",
       "spotlight                             bool\n",
       "staff_pick                            bool\n",
       "state_changed_at            datetime64[ns]\n",
       "static_usd_rate                    float64\n",
       "usd_pledged                        float64\n",
       "usd_type                            object\n",
       "state_successful                     int64\n",
       "main_category                       object\n",
       "child_category                      object\n",
       "cam_length                           int64\n",
       "blurb_length                         int64\n",
       "dtype: object"
      ]
     },
     "execution_count": 169,
     "metadata": {},
     "output_type": "execute_result"
    }
   ],
   "source": [
    "kickstarter.dtypes"
   ]
  },
  {
   "cell_type": "code",
   "execution_count": 170,
   "metadata": {},
   "outputs": [
    {
     "data": {
      "text/plain": [
       "{\"id\":332,\"name\":\"Apps\",\"slug\":\"technology/apps\",\"position\":2,\"parent_id\":16,\"color\":6526716,\"urls\":{\"web\":{\"discover\":\"http://www.kickstarter.com/discover/categories/technology/apps\"}}}                                             4934\n",
       "{\"id\":262,\"name\":\"Accessories\",\"slug\":\"fashion/accessories\",\"position\":1,\"parent_id\":9,\"color\":16752598,\"urls\":{\"web\":{\"discover\":\"http://www.kickstarter.com/discover/categories/fashion/accessories\"}}}                              4075\n",
       "{\"id\":30,\"name\":\"Documentary\",\"slug\":\"film & video/documentary\",\"position\":4,\"parent_id\":11,\"color\":16734574,\"urls\":{\"web\":{\"discover\":\"http://www.kickstarter.com/discover/categories/film%20&%20video/documentary\"}}}                3971\n",
       "{\"id\":263,\"name\":\"Apparel\",\"slug\":\"fashion/apparel\",\"position\":2,\"parent_id\":9,\"color\":16752598,\"urls\":{\"web\":{\"discover\":\"http://www.kickstarter.com/discover/categories/fashion/apparel\"}}}                                          3870\n",
       "{\"id\":32,\"name\":\"Shorts\",\"slug\":\"film & video/shorts\",\"position\":16,\"parent_id\":11,\"color\":16734574,\"urls\":{\"web\":{\"discover\":\"http://www.kickstarter.com/discover/categories/film%20&%20video/shorts\"}}}                              3867\n",
       "{\"id\":39,\"name\":\"Hip-Hop\",\"slug\":\"music/hip-hop\",\"position\":8,\"parent_id\":14,\"color\":10878931,\"urls\":{\"web\":{\"discover\":\"http://www.kickstarter.com/discover/categories/music/hip-hop\"}}}                                              3701\n",
       "{\"id\":342,\"name\":\"Web\",\"slug\":\"technology/web\",\"position\":15,\"parent_id\":16,\"color\":6526716,\"urls\":{\"web\":{\"discover\":\"http://www.kickstarter.com/discover/categories/technology/web\"}}}                                               3594\n",
       "{\"id\":22,\"name\":\"Illustration\",\"slug\":\"art/illustration\",\"position\":4,\"parent_id\":1,\"color\":16760235,\"urls\":{\"web\":{\"discover\":\"http://www.kickstarter.com/discover/categories/art/illustration\"}}}                                    3426\n",
       "{\"id\":52,\"name\":\"Hardware\",\"slug\":\"technology/hardware\",\"position\":8,\"parent_id\":16,\"color\":6526716,\"urls\":{\"web\":{\"discover\":\"http://www.kickstarter.com/discover/categories/technology/hardware\"}}}                                  3426\n",
       "{\"id\":34,\"name\":\"Tabletop Games\",\"slug\":\"games/tabletop games\",\"position\":6,\"parent_id\":12,\"color\":51627,\"urls\":{\"web\":{\"discover\":\"http://www.kickstarter.com/discover/categories/games/tabletop%20games\"}}}                          3415\n",
       "{\"id\":23,\"name\":\"Painting\",\"slug\":\"art/painting\",\"position\":7,\"parent_id\":1,\"color\":16760235,\"urls\":{\"web\":{\"discover\":\"http://www.kickstarter.com/discover/categories/art/painting\"}}}                                                3283\n",
       "{\"id\":42,\"name\":\"Pop\",\"slug\":\"music/pop\",\"position\":14,\"parent_id\":14,\"color\":10878931,\"urls\":{\"web\":{\"discover\":\"http://www.kickstarter.com/discover/categories/music/pop\"}}}                                                         3268\n",
       "{\"id\":43,\"name\":\"Rock\",\"slug\":\"music/rock\",\"position\":17,\"parent_id\":14,\"color\":10878931,\"urls\":{\"web\":{\"discover\":\"http://www.kickstarter.com/discover/categories/music/rock\"}}}                                                      3262\n",
       "{\"id\":250,\"name\":\"Comic Books\",\"slug\":\"comics/comic books\",\"position\":2,\"parent_id\":3,\"color\":16776056,\"urls\":{\"web\":{\"discover\":\"http://www.kickstarter.com/discover/categories/comics/comic%20books\"}}}                              3253\n",
       "{\"id\":40,\"name\":\"Indie Rock\",\"slug\":\"music/indie rock\",\"position\":9,\"parent_id\":14,\"color\":10878931,\"urls\":{\"web\":{\"discover\":\"http://www.kickstarter.com/discover/categories/music/indie%20rock\"}}}                                   3204\n",
       "{\"id\":33,\"name\":\"Webseries\",\"slug\":\"film & video/webseries\",\"position\":19,\"parent_id\":11,\"color\":16734574,\"urls\":{\"web\":{\"discover\":\"http://www.kickstarter.com/discover/categories/film%20&%20video/webseries\"}}}                     3192\n",
       "{\"id\":53,\"name\":\"Public Art\",\"slug\":\"art/public art\",\"position\":9,\"parent_id\":1,\"color\":16760235,\"urls\":{\"web\":{\"discover\":\"http://www.kickstarter.com/discover/categories/art/public%20art\"}}}                                        3028\n",
       "{\"id\":17,\"name\":\"Theater\",\"slug\":\"theater\",\"position\":15,\"color\":16743775,\"urls\":{\"web\":{\"discover\":\"http://www.kickstarter.com/discover/categories/theater\"}}}                                                                        2962\n",
       "{\"id\":312,\"name\":\"Restaurants\",\"slug\":\"food/restaurants\",\"position\":9,\"parent_id\":10,\"color\":16725570,\"urls\":{\"web\":{\"discover\":\"http://www.kickstarter.com/discover/categories/food/restaurants\"}}}                                   2940\n",
       "{\"id\":337,\"name\":\"Gadgets\",\"slug\":\"technology/gadgets\",\"position\":7,\"parent_id\":16,\"color\":6526716,\"urls\":{\"web\":{\"discover\":\"http://www.kickstarter.com/discover/categories/technology/gadgets\"}}}                                    2906\n",
       "{\"id\":51,\"name\":\"Software\",\"slug\":\"technology/software\",\"position\":11,\"parent_id\":16,\"color\":6526716,\"urls\":{\"web\":{\"discover\":\"http://www.kickstarter.com/discover/categories/technology/software\"}}}                                 2847\n",
       "{\"id\":31,\"name\":\"Narrative Film\",\"slug\":\"film & video/narrative film\",\"position\":13,\"parent_id\":11,\"color\":16734574,\"urls\":{\"web\":{\"discover\":\"http://www.kickstarter.com/discover/categories/film%20&%20video/narrative%20film\"}}}    2832\n",
       "{\"id\":10,\"name\":\"Food\",\"slug\":\"food\",\"position\":8,\"color\":16725570,\"urls\":{\"web\":{\"discover\":\"http://www.kickstarter.com/discover/categories/food\"}}}                                                                                  2807\n",
       "{\"id\":54,\"name\":\"Mixed Media\",\"slug\":\"art/mixed media\",\"position\":6,\"parent_id\":1,\"color\":16760235,\"urls\":{\"web\":{\"discover\":\"http://www.kickstarter.com/discover/categories/art/mixed%20media\"}}}                                     2786\n",
       "{\"id\":45,\"name\":\"Art Books\",\"slug\":\"publishing/art books\",\"position\":3,\"parent_id\":18,\"color\":14867664,\"urls\":{\"web\":{\"discover\":\"http://www.kickstarter.com/discover/categories/publishing/art%20books\"}}}                            2772\n",
       "{\"id\":273,\"name\":\"Playing Cards\",\"slug\":\"games/playing cards\",\"position\":4,\"parent_id\":12,\"color\":51627,\"urls\":{\"web\":{\"discover\":\"http://www.kickstarter.com/discover/categories/games/playing%20cards\"}}}                            2683\n",
       "{\"id\":37,\"name\":\"Country & Folk\",\"slug\":\"music/country & folk\",\"position\":5,\"parent_id\":14,\"color\":10878931,\"urls\":{\"web\":{\"discover\":\"http://www.kickstarter.com/discover/categories/music/country%20&%20folk\"}}}                     2613\n",
       "{\"id\":36,\"name\":\"Classical Music\",\"slug\":\"music/classical music\",\"position\":3,\"parent_id\":14,\"color\":10878931,\"urls\":{\"web\":{\"discover\":\"http://www.kickstarter.com/discover/categories/music/classical%20music\"}}}                    2606\n",
       "{\"id\":272,\"name\":\"Mobile Games\",\"slug\":\"games/mobile games\",\"position\":3,\"parent_id\":12,\"color\":51627,\"urls\":{\"web\":{\"discover\":\"http://www.kickstarter.com/discover/categories/games/mobile%20games\"}}}                               2578\n",
       "{\"id\":307,\"name\":\"Drinks\",\"slug\":\"food/drinks\",\"position\":4,\"parent_id\":10,\"color\":16725570,\"urls\":{\"web\":{\"discover\":\"http://www.kickstarter.com/discover/categories/food/drinks\"}}}                                                  2520\n",
       "                                                                                                                                                                                                                                       ... \n",
       "{\"id\":275,\"name\":\"Animals\",\"slug\":\"photography/animals\",\"position\":1,\"parent_id\":15,\"color\":58341,\"urls\":{\"web\":{\"discover\":\"http://www.kickstarter.com/discover/categories/photography/animals\"}}}                                     216\n",
       "{\"id\":286,\"name\":\"Spaces\",\"slug\":\"theater/spaces\",\"position\":7,\"parent_id\":17,\"color\":16743775,\"urls\":{\"web\":{\"discover\":\"http://www.kickstarter.com/discover/categories/theater/spaces\"}}}                                             204\n",
       "{\"id\":300,\"name\":\"Romance\",\"slug\":\"film & video/romance\",\"position\":14,\"parent_id\":11,\"color\":16734574,\"urls\":{\"web\":{\"discover\":\"http://www.kickstarter.com/discover/categories/film%20&%20video/romance\"}}}                           198\n",
       "{\"id\":290,\"name\":\"Video Art\",\"slug\":\"art/video art\",\"position\":12,\"parent_id\":1,\"color\":16760235,\"urls\":{\"web\":{\"discover\":\"http://www.kickstarter.com/discover/categories/art/video%20art\"}}}                                          194\n",
       "{\"id\":304,\"name\":\"Bacon\",\"slug\":\"food/bacon\",\"position\":1,\"parent_id\":10,\"color\":16725570,\"urls\":{\"web\":{\"discover\":\"http://www.kickstarter.com/discover/categories/food/bacon\"}}}                                                      185\n",
       "{\"id\":351,\"name\":\"Printing\",\"slug\":\"crafts/printing\",\"position\":9,\"parent_id\":26,\"color\":16744876,\"urls\":{\"web\":{\"discover\":\"http://www.kickstarter.com/discover/categories/crafts/printing\"}}}                                         177\n",
       "{\"id\":251,\"name\":\"Events\",\"slug\":\"comics/events\",\"position\":3,\"parent_id\":3,\"color\":16776056,\"urls\":{\"web\":{\"discover\":\"http://www.kickstarter.com/discover/categories/comics/events\"}}}                                                166\n",
       "{\"id\":388,\"name\":\"Comedy\",\"slug\":\"theater/comedy\",\"position\":1,\"parent_id\":17,\"color\":16743775,\"urls\":{\"web\":{\"discover\":\"http://www.kickstarter.com/discover/categories/theater/comedy\"}}}                                             163\n",
       "{\"id\":320,\"name\":\"Latin\",\"slug\":\"music/latin\",\"position\":12,\"parent_id\":14,\"color\":10878931,\"urls\":{\"web\":{\"discover\":\"http://www.kickstarter.com/discover/categories/music/latin\"}}}                                                   162\n",
       "{\"id\":327,\"name\":\"Translations\",\"slug\":\"publishing/translations\",\"position\":13,\"parent_id\":18,\"color\":14867664,\"urls\":{\"web\":{\"discover\":\"http://www.kickstarter.com/discover/categories/publishing/translations\"}}}                    161\n",
       "{\"id\":353,\"name\":\"Stationery\",\"slug\":\"crafts/stationery\",\"position\":11,\"parent_id\":26,\"color\":16744876,\"urls\":{\"web\":{\"discover\":\"http://www.kickstarter.com/discover/categories/crafts/stationery\"}}}                                  153\n",
       "{\"id\":358,\"name\":\"Photo\",\"slug\":\"journalism/photo\",\"position\":2,\"parent_id\":13,\"color\":1228010,\"urls\":{\"web\":{\"discover\":\"http://www.kickstarter.com/discover/categories/journalism/photo\"}}}                                           148\n",
       "{\"id\":344,\"name\":\"Crochet\",\"slug\":\"crafts/crochet\",\"position\":2,\"parent_id\":26,\"color\":16744876,\"urls\":{\"web\":{\"discover\":\"http://www.kickstarter.com/discover/categories/crafts/crochet\"}}}                                            136\n",
       "{\"id\":268,\"name\":\"Pet Fashion\",\"slug\":\"fashion/pet fashion\",\"position\":7,\"parent_id\":9,\"color\":16752598,\"urls\":{\"web\":{\"discover\":\"http://www.kickstarter.com/discover/categories/fashion/pet%20fashion\"}}}                             135\n",
       "{\"id\":256,\"name\":\"Spaces\",\"slug\":\"dance/spaces\",\"position\":3,\"parent_id\":6,\"color\":10917369,\"urls\":{\"web\":{\"discover\":\"http://www.kickstarter.com/discover/categories/dance/spaces\"}}}                                                  132\n",
       "{\"id\":261,\"name\":\"Typography\",\"slug\":\"design/typography\",\"position\":6,\"parent_id\":7,\"color\":2577151,\"urls\":{\"web\":{\"discover\":\"http://www.kickstarter.com/discover/categories/design/typography\"}}}                                     123\n",
       "{\"id\":387,\"name\":\"Comedy\",\"slug\":\"publishing/comedy\",\"position\":6,\"parent_id\":18,\"color\":14867664,\"urls\":{\"web\":{\"discover\":\"http://www.kickstarter.com/discover/categories/publishing/comedy\"}}}                                       121\n",
       "{\"id\":257,\"name\":\"Workshops\",\"slug\":\"dance/workshops\",\"position\":4,\"parent_id\":6,\"color\":10917369,\"urls\":{\"web\":{\"discover\":\"http://www.kickstarter.com/discover/categories/dance/workshops\"}}}                                         112\n",
       "{\"id\":347,\"name\":\"Glass\",\"slug\":\"crafts/glass\",\"position\":5,\"parent_id\":26,\"color\":16744876,\"urls\":{\"web\":{\"discover\":\"http://www.kickstarter.com/discover/categories/crafts/glass\"}}}                                                  101\n",
       "{\"id\":348,\"name\":\"Knitting\",\"slug\":\"crafts/knitting\",\"position\":6,\"parent_id\":26,\"color\":16744876,\"urls\":{\"web\":{\"discover\":\"http://www.kickstarter.com/discover/categories/crafts/knitting\"}}}                                          96\n",
       "{\"id\":346,\"name\":\"Embroidery\",\"slug\":\"crafts/embroidery\",\"position\":4,\"parent_id\":26,\"color\":16744876,\"urls\":{\"web\":{\"discover\":\"http://www.kickstarter.com/discover/categories/crafts/embroidery\"}}}                                    96\n",
       "{\"id\":389,\"name\":\"Literary Spaces\",\"slug\":\"publishing/literary spaces\",\"position\":16,\"parent_id\":18,\"color\":14867664,\"urls\":{\"web\":{\"discover\":\"http://www.kickstarter.com/discover/categories/publishing/literary%20spaces\"}}}          79\n",
       "{\"id\":350,\"name\":\"Pottery\",\"slug\":\"crafts/pottery\",\"position\":8,\"parent_id\":26,\"color\":16744876,\"urls\":{\"web\":{\"discover\":\"http://www.kickstarter.com/discover/categories/crafts/pottery\"}}}                                             67\n",
       "{\"id\":355,\"name\":\"Weaving\",\"slug\":\"crafts/weaving\",\"position\":13,\"parent_id\":26,\"color\":16744876,\"urls\":{\"web\":{\"discover\":\"http://www.kickstarter.com/discover/categories/crafts/weaving\"}}}                                            67\n",
       "{\"id\":352,\"name\":\"Quilts\",\"slug\":\"crafts/quilts\",\"position\":10,\"parent_id\":26,\"color\":16744876,\"urls\":{\"web\":{\"discover\":\"http://www.kickstarter.com/discover/categories/crafts/quilts\"}}}                                               66\n",
       "{\"id\":349,\"name\":\"Letterpress\",\"slug\":\"publishing/letterpress\",\"position\":7,\"parent_id\":18,\"color\":14867664,\"urls\":{\"web\":{\"discover\":\"http://www.kickstarter.com/discover/categories/publishing/letterpress\"}}}                         55\n",
       "{\"id\":317,\"name\":\"Chiptune\",\"slug\":\"music/chiptune\",\"position\":2,\"parent_id\":14,\"color\":10878931,\"urls\":{\"web\":{\"discover\":\"http://www.kickstarter.com/discover/categories/music/chiptune\"}}}                                            38\n",
       "{\"id\":386,\"name\":\"Comedy\",\"slug\":\"music/comedy\",\"position\":4,\"parent_id\":14,\"color\":10878931,\"urls\":{\"web\":{\"discover\":\"http://www.kickstarter.com/discover/categories/music/comedy\"}}}                                                  37\n",
       "{\"id\":255,\"name\":\"Residencies\",\"slug\":\"dance/residencies\",\"position\":2,\"parent_id\":6,\"color\":10917369,\"urls\":{\"web\":{\"discover\":\"http://www.kickstarter.com/discover/categories/dance/residencies\"}}}                                    27\n",
       "{\"id\":354,\"name\":\"Taxidermy\",\"slug\":\"crafts/taxidermy\",\"position\":12,\"parent_id\":26,\"color\":16744876,\"urls\":{\"web\":{\"discover\":\"http://www.kickstarter.com/discover/categories/crafts/taxidermy\"}}}                                       5\n",
       "Name: category, Length: 169, dtype: int64"
      ]
     },
     "execution_count": 170,
     "metadata": {},
     "output_type": "execute_result"
    }
   ],
   "source": [
    "kickstarter['category'].value_counts()"
   ]
  },
  {
   "cell_type": "code",
   "execution_count": 171,
   "metadata": {},
   "outputs": [],
   "source": [
    "g = kickstarter['category']\n",
    "from ast import literal_eval\n",
    "g = g.apply(literal_eval)"
   ]
  },
  {
   "cell_type": "code",
   "execution_count": 175,
   "metadata": {},
   "outputs": [
    {
     "data": {
      "text/plain": [
       "'crafts'"
      ]
     },
     "execution_count": 175,
     "metadata": {},
     "output_type": "execute_result"
    }
   ],
   "source": [
    "g[0]['slug'].split('/')[0]"
   ]
  },
  {
   "cell_type": "code",
   "execution_count": 173,
   "metadata": {},
   "outputs": [],
   "source": [
    "child_category = []\n",
    "for i, name in enumerate(d['name'] for d in g): \n",
    "    child_category.append(name)"
   ]
  },
  {
   "cell_type": "code",
   "execution_count": 174,
   "metadata": {},
   "outputs": [],
   "source": [
    "kickstarter['child_category'] = child_category"
   ]
  },
  {
   "cell_type": "code",
   "execution_count": 176,
   "metadata": {},
   "outputs": [],
   "source": [
    "main_category = []\n",
    "for i, name in enumerate(d['slug'].split('/')[0] for d in g): \n",
    "    main_category.append(name)"
   ]
  },
  {
   "cell_type": "code",
   "execution_count": 178,
   "metadata": {},
   "outputs": [],
   "source": [
    "kickstarter['main_category'] = main_category"
   ]
  },
  {
   "cell_type": "code",
   "execution_count": 181,
   "metadata": {},
   "outputs": [],
   "source": [
    "#kickstarter.to_csv('kickstarter_make_EDA_graphs.csv', index = False)"
   ]
  },
  {
   "cell_type": "code",
   "execution_count": 182,
   "metadata": {},
   "outputs": [],
   "source": [
    "kickstarter = pd.get_dummies(columns = ['main_category'], drop_first = True, data = kickstarter)"
   ]
  },
  {
   "cell_type": "code",
   "execution_count": 183,
   "metadata": {},
   "outputs": [
    {
     "data": {
      "text/plain": [
       "Index(['backers_count', 'blurb', 'category', 'converted_pledged_amount',\n",
       "       'country', 'created_at', 'currency', 'current_currency', 'deadline',\n",
       "       'fx_rate', 'goal', 'id', 'launched_at', 'location', 'name', 'pledged',\n",
       "       'slug', 'spotlight', 'staff_pick', 'state_changed_at',\n",
       "       'static_usd_rate', 'usd_pledged', 'usd_type', 'state_successful',\n",
       "       'child_category', 'cam_length', 'blurb_length', 'main_category_comics',\n",
       "       'main_category_crafts', 'main_category_dance', 'main_category_design',\n",
       "       'main_category_fashion', 'main_category_film & video',\n",
       "       'main_category_food', 'main_category_games', 'main_category_journalism',\n",
       "       'main_category_music', 'main_category_photography',\n",
       "       'main_category_publishing', 'main_category_technology',\n",
       "       'main_category_theater'],\n",
       "      dtype='object')"
      ]
     },
     "execution_count": 183,
     "metadata": {},
     "output_type": "execute_result"
    }
   ],
   "source": [
    "kickstarter.columns"
   ]
  },
  {
   "cell_type": "code",
   "execution_count": null,
   "metadata": {},
   "outputs": [],
   "source": []
  }
 ],
 "metadata": {
  "kernelspec": {
   "display_name": "Python 3",
   "language": "python",
   "name": "python3"
  },
  "language_info": {
   "codemirror_mode": {
    "name": "ipython",
    "version": 3
   },
   "file_extension": ".py",
   "mimetype": "text/x-python",
   "name": "python",
   "nbconvert_exporter": "python",
   "pygments_lexer": "ipython3",
   "version": "3.7.3"
  }
 },
 "nbformat": 4,
 "nbformat_minor": 2
}
