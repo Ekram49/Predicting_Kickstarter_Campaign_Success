{
 "cells": [
  {
   "cell_type": "code",
   "execution_count": 21,
   "metadata": {},
   "outputs": [],
   "source": [
    "import pandas as pd"
   ]
  },
  {
   "cell_type": "code",
   "execution_count": 22,
   "metadata": {},
   "outputs": [],
   "source": [
    "kickstarter = pd.read_csv('kickstarter.csv')"
   ]
  },
  {
   "cell_type": "code",
   "execution_count": 23,
   "metadata": {},
   "outputs": [
    {
     "data": {
      "text/plain": [
       "(207049, 37)"
      ]
     },
     "execution_count": 23,
     "metadata": {},
     "output_type": "execute_result"
    }
   ],
   "source": [
    "kickstarter.shape"
   ]
  },
  {
   "cell_type": "code",
   "execution_count": 24,
   "metadata": {},
   "outputs": [
    {
     "data": {
      "text/plain": [
       "Index(['backers_count', 'blurb', 'category', 'converted_pledged_amount',\n",
       "       'country', 'created_at', 'creator', 'currency', 'currency_symbol',\n",
       "       'currency_trailing_code', 'current_currency', 'deadline',\n",
       "       'disable_communication', 'friends', 'fx_rate', 'goal', 'id',\n",
       "       'is_backing', 'is_starrable', 'is_starred', 'launched_at', 'location',\n",
       "       'name', 'permissions', 'photo', 'pledged', 'profile', 'slug',\n",
       "       'source_url', 'spotlight', 'staff_pick', 'state', 'state_changed_at',\n",
       "       'static_usd_rate', 'urls', 'usd_pledged', 'usd_type'],\n",
       "      dtype='object')"
      ]
     },
     "execution_count": 24,
     "metadata": {},
     "output_type": "execute_result"
    }
   ],
   "source": [
    "kickstarter.columns"
   ]
  },
  {
   "cell_type": "code",
   "execution_count": 25,
   "metadata": {},
   "outputs": [],
   "source": [
    "kickstarter = kickstarter.drop(columns = ['blurb', 'creator', 'currency_symbol', 'currency_trailing_code', 'disable_communication', 'friends', 'is_backing', 'is_starrable', 'is_starred', 'permissions', 'photo', 'profile', 'source_url', 'urls'])"
   ]
  },
  {
   "cell_type": "code",
   "execution_count": 26,
   "metadata": {},
   "outputs": [
    {
     "data": {
      "text/plain": [
       "Index(['backers_count', 'category', 'converted_pledged_amount', 'country',\n",
       "       'created_at', 'currency', 'current_currency', 'deadline', 'fx_rate',\n",
       "       'goal', 'id', 'launched_at', 'location', 'name', 'pledged', 'slug',\n",
       "       'spotlight', 'staff_pick', 'state', 'state_changed_at',\n",
       "       'static_usd_rate', 'usd_pledged', 'usd_type'],\n",
       "      dtype='object')"
      ]
     },
     "execution_count": 26,
     "metadata": {},
     "output_type": "execute_result"
    }
   ],
   "source": [
    "kickstarter.columns"
   ]
  },
  {
   "cell_type": "code",
   "execution_count": 28,
   "metadata": {},
   "outputs": [],
   "source": [
    "kickstarter = pd.get_dummies(columns = ['state'], drop_first = True, data = kickstarter)"
   ]
  },
  {
   "cell_type": "code",
   "execution_count": 29,
   "metadata": {},
   "outputs": [
    {
     "data": {
      "text/plain": [
       "Index(['backers_count', 'category', 'converted_pledged_amount', 'country',\n",
       "       'created_at', 'currency', 'current_currency', 'deadline', 'fx_rate',\n",
       "       'goal', 'id', 'launched_at', 'location', 'name', 'pledged', 'slug',\n",
       "       'spotlight', 'staff_pick', 'state_changed_at', 'static_usd_rate',\n",
       "       'usd_pledged', 'usd_type', 'state_successful'],\n",
       "      dtype='object')"
      ]
     },
     "execution_count": 29,
     "metadata": {},
     "output_type": "execute_result"
    }
   ],
   "source": [
    "kickstarter.columns"
   ]
  },
  {
   "cell_type": "code",
   "execution_count": 31,
   "metadata": {},
   "outputs": [
    {
     "data": {
      "text/plain": [
       "{\"id\":332,\"name\":\"Apps\",\"slug\":\"technology/apps\",\"position\":2,\"parent_id\":16,\"color\":6526716,\"urls\":{\"web\":{\"discover\":\"http://www.kickstarter.com/discover/categories/technology/apps\"}}}                                             4934\n",
       "{\"id\":262,\"name\":\"Accessories\",\"slug\":\"fashion/accessories\",\"position\":1,\"parent_id\":9,\"color\":16752598,\"urls\":{\"web\":{\"discover\":\"http://www.kickstarter.com/discover/categories/fashion/accessories\"}}}                              4075\n",
       "{\"id\":30,\"name\":\"Documentary\",\"slug\":\"film & video/documentary\",\"position\":4,\"parent_id\":11,\"color\":16734574,\"urls\":{\"web\":{\"discover\":\"http://www.kickstarter.com/discover/categories/film%20&%20video/documentary\"}}}                3971\n",
       "{\"id\":263,\"name\":\"Apparel\",\"slug\":\"fashion/apparel\",\"position\":2,\"parent_id\":9,\"color\":16752598,\"urls\":{\"web\":{\"discover\":\"http://www.kickstarter.com/discover/categories/fashion/apparel\"}}}                                          3870\n",
       "{\"id\":32,\"name\":\"Shorts\",\"slug\":\"film & video/shorts\",\"position\":16,\"parent_id\":11,\"color\":16734574,\"urls\":{\"web\":{\"discover\":\"http://www.kickstarter.com/discover/categories/film%20&%20video/shorts\"}}}                              3867\n",
       "{\"id\":39,\"name\":\"Hip-Hop\",\"slug\":\"music/hip-hop\",\"position\":8,\"parent_id\":14,\"color\":10878931,\"urls\":{\"web\":{\"discover\":\"http://www.kickstarter.com/discover/categories/music/hip-hop\"}}}                                              3701\n",
       "{\"id\":342,\"name\":\"Web\",\"slug\":\"technology/web\",\"position\":15,\"parent_id\":16,\"color\":6526716,\"urls\":{\"web\":{\"discover\":\"http://www.kickstarter.com/discover/categories/technology/web\"}}}                                               3594\n",
       "{\"id\":22,\"name\":\"Illustration\",\"slug\":\"art/illustration\",\"position\":4,\"parent_id\":1,\"color\":16760235,\"urls\":{\"web\":{\"discover\":\"http://www.kickstarter.com/discover/categories/art/illustration\"}}}                                    3426\n",
       "{\"id\":52,\"name\":\"Hardware\",\"slug\":\"technology/hardware\",\"position\":8,\"parent_id\":16,\"color\":6526716,\"urls\":{\"web\":{\"discover\":\"http://www.kickstarter.com/discover/categories/technology/hardware\"}}}                                  3426\n",
       "{\"id\":34,\"name\":\"Tabletop Games\",\"slug\":\"games/tabletop games\",\"position\":6,\"parent_id\":12,\"color\":51627,\"urls\":{\"web\":{\"discover\":\"http://www.kickstarter.com/discover/categories/games/tabletop%20games\"}}}                          3415\n",
       "{\"id\":23,\"name\":\"Painting\",\"slug\":\"art/painting\",\"position\":7,\"parent_id\":1,\"color\":16760235,\"urls\":{\"web\":{\"discover\":\"http://www.kickstarter.com/discover/categories/art/painting\"}}}                                                3283\n",
       "{\"id\":42,\"name\":\"Pop\",\"slug\":\"music/pop\",\"position\":14,\"parent_id\":14,\"color\":10878931,\"urls\":{\"web\":{\"discover\":\"http://www.kickstarter.com/discover/categories/music/pop\"}}}                                                         3268\n",
       "{\"id\":43,\"name\":\"Rock\",\"slug\":\"music/rock\",\"position\":17,\"parent_id\":14,\"color\":10878931,\"urls\":{\"web\":{\"discover\":\"http://www.kickstarter.com/discover/categories/music/rock\"}}}                                                      3262\n",
       "{\"id\":250,\"name\":\"Comic Books\",\"slug\":\"comics/comic books\",\"position\":2,\"parent_id\":3,\"color\":16776056,\"urls\":{\"web\":{\"discover\":\"http://www.kickstarter.com/discover/categories/comics/comic%20books\"}}}                              3253\n",
       "{\"id\":40,\"name\":\"Indie Rock\",\"slug\":\"music/indie rock\",\"position\":9,\"parent_id\":14,\"color\":10878931,\"urls\":{\"web\":{\"discover\":\"http://www.kickstarter.com/discover/categories/music/indie%20rock\"}}}                                   3204\n",
       "{\"id\":33,\"name\":\"Webseries\",\"slug\":\"film & video/webseries\",\"position\":19,\"parent_id\":11,\"color\":16734574,\"urls\":{\"web\":{\"discover\":\"http://www.kickstarter.com/discover/categories/film%20&%20video/webseries\"}}}                     3192\n",
       "{\"id\":53,\"name\":\"Public Art\",\"slug\":\"art/public art\",\"position\":9,\"parent_id\":1,\"color\":16760235,\"urls\":{\"web\":{\"discover\":\"http://www.kickstarter.com/discover/categories/art/public%20art\"}}}                                        3028\n",
       "{\"id\":17,\"name\":\"Theater\",\"slug\":\"theater\",\"position\":15,\"color\":16743775,\"urls\":{\"web\":{\"discover\":\"http://www.kickstarter.com/discover/categories/theater\"}}}                                                                        2962\n",
       "{\"id\":312,\"name\":\"Restaurants\",\"slug\":\"food/restaurants\",\"position\":9,\"parent_id\":10,\"color\":16725570,\"urls\":{\"web\":{\"discover\":\"http://www.kickstarter.com/discover/categories/food/restaurants\"}}}                                   2940\n",
       "{\"id\":337,\"name\":\"Gadgets\",\"slug\":\"technology/gadgets\",\"position\":7,\"parent_id\":16,\"color\":6526716,\"urls\":{\"web\":{\"discover\":\"http://www.kickstarter.com/discover/categories/technology/gadgets\"}}}                                    2906\n",
       "{\"id\":51,\"name\":\"Software\",\"slug\":\"technology/software\",\"position\":11,\"parent_id\":16,\"color\":6526716,\"urls\":{\"web\":{\"discover\":\"http://www.kickstarter.com/discover/categories/technology/software\"}}}                                 2847\n",
       "{\"id\":31,\"name\":\"Narrative Film\",\"slug\":\"film & video/narrative film\",\"position\":13,\"parent_id\":11,\"color\":16734574,\"urls\":{\"web\":{\"discover\":\"http://www.kickstarter.com/discover/categories/film%20&%20video/narrative%20film\"}}}    2832\n",
       "{\"id\":10,\"name\":\"Food\",\"slug\":\"food\",\"position\":8,\"color\":16725570,\"urls\":{\"web\":{\"discover\":\"http://www.kickstarter.com/discover/categories/food\"}}}                                                                                  2807\n",
       "{\"id\":54,\"name\":\"Mixed Media\",\"slug\":\"art/mixed media\",\"position\":6,\"parent_id\":1,\"color\":16760235,\"urls\":{\"web\":{\"discover\":\"http://www.kickstarter.com/discover/categories/art/mixed%20media\"}}}                                     2786\n",
       "{\"id\":45,\"name\":\"Art Books\",\"slug\":\"publishing/art books\",\"position\":3,\"parent_id\":18,\"color\":14867664,\"urls\":{\"web\":{\"discover\":\"http://www.kickstarter.com/discover/categories/publishing/art%20books\"}}}                            2772\n",
       "{\"id\":273,\"name\":\"Playing Cards\",\"slug\":\"games/playing cards\",\"position\":4,\"parent_id\":12,\"color\":51627,\"urls\":{\"web\":{\"discover\":\"http://www.kickstarter.com/discover/categories/games/playing%20cards\"}}}                            2683\n",
       "{\"id\":37,\"name\":\"Country & Folk\",\"slug\":\"music/country & folk\",\"position\":5,\"parent_id\":14,\"color\":10878931,\"urls\":{\"web\":{\"discover\":\"http://www.kickstarter.com/discover/categories/music/country%20&%20folk\"}}}                     2613\n",
       "{\"id\":36,\"name\":\"Classical Music\",\"slug\":\"music/classical music\",\"position\":3,\"parent_id\":14,\"color\":10878931,\"urls\":{\"web\":{\"discover\":\"http://www.kickstarter.com/discover/categories/music/classical%20music\"}}}                    2606\n",
       "{\"id\":272,\"name\":\"Mobile Games\",\"slug\":\"games/mobile games\",\"position\":3,\"parent_id\":12,\"color\":51627,\"urls\":{\"web\":{\"discover\":\"http://www.kickstarter.com/discover/categories/games/mobile%20games\"}}}                               2578\n",
       "{\"id\":307,\"name\":\"Drinks\",\"slug\":\"food/drinks\",\"position\":4,\"parent_id\":10,\"color\":16725570,\"urls\":{\"web\":{\"discover\":\"http://www.kickstarter.com/discover/categories/food/drinks\"}}}                                                  2520\n",
       "                                                                                                                                                                                                                                       ... \n",
       "{\"id\":275,\"name\":\"Animals\",\"slug\":\"photography/animals\",\"position\":1,\"parent_id\":15,\"color\":58341,\"urls\":{\"web\":{\"discover\":\"http://www.kickstarter.com/discover/categories/photography/animals\"}}}                                     216\n",
       "{\"id\":286,\"name\":\"Spaces\",\"slug\":\"theater/spaces\",\"position\":7,\"parent_id\":17,\"color\":16743775,\"urls\":{\"web\":{\"discover\":\"http://www.kickstarter.com/discover/categories/theater/spaces\"}}}                                             204\n",
       "{\"id\":300,\"name\":\"Romance\",\"slug\":\"film & video/romance\",\"position\":14,\"parent_id\":11,\"color\":16734574,\"urls\":{\"web\":{\"discover\":\"http://www.kickstarter.com/discover/categories/film%20&%20video/romance\"}}}                           198\n",
       "{\"id\":290,\"name\":\"Video Art\",\"slug\":\"art/video art\",\"position\":12,\"parent_id\":1,\"color\":16760235,\"urls\":{\"web\":{\"discover\":\"http://www.kickstarter.com/discover/categories/art/video%20art\"}}}                                          194\n",
       "{\"id\":304,\"name\":\"Bacon\",\"slug\":\"food/bacon\",\"position\":1,\"parent_id\":10,\"color\":16725570,\"urls\":{\"web\":{\"discover\":\"http://www.kickstarter.com/discover/categories/food/bacon\"}}}                                                      185\n",
       "{\"id\":351,\"name\":\"Printing\",\"slug\":\"crafts/printing\",\"position\":9,\"parent_id\":26,\"color\":16744876,\"urls\":{\"web\":{\"discover\":\"http://www.kickstarter.com/discover/categories/crafts/printing\"}}}                                         177\n",
       "{\"id\":251,\"name\":\"Events\",\"slug\":\"comics/events\",\"position\":3,\"parent_id\":3,\"color\":16776056,\"urls\":{\"web\":{\"discover\":\"http://www.kickstarter.com/discover/categories/comics/events\"}}}                                                166\n",
       "{\"id\":388,\"name\":\"Comedy\",\"slug\":\"theater/comedy\",\"position\":1,\"parent_id\":17,\"color\":16743775,\"urls\":{\"web\":{\"discover\":\"http://www.kickstarter.com/discover/categories/theater/comedy\"}}}                                             163\n",
       "{\"id\":320,\"name\":\"Latin\",\"slug\":\"music/latin\",\"position\":12,\"parent_id\":14,\"color\":10878931,\"urls\":{\"web\":{\"discover\":\"http://www.kickstarter.com/discover/categories/music/latin\"}}}                                                   162\n",
       "{\"id\":327,\"name\":\"Translations\",\"slug\":\"publishing/translations\",\"position\":13,\"parent_id\":18,\"color\":14867664,\"urls\":{\"web\":{\"discover\":\"http://www.kickstarter.com/discover/categories/publishing/translations\"}}}                    161\n",
       "{\"id\":353,\"name\":\"Stationery\",\"slug\":\"crafts/stationery\",\"position\":11,\"parent_id\":26,\"color\":16744876,\"urls\":{\"web\":{\"discover\":\"http://www.kickstarter.com/discover/categories/crafts/stationery\"}}}                                  153\n",
       "{\"id\":358,\"name\":\"Photo\",\"slug\":\"journalism/photo\",\"position\":2,\"parent_id\":13,\"color\":1228010,\"urls\":{\"web\":{\"discover\":\"http://www.kickstarter.com/discover/categories/journalism/photo\"}}}                                           148\n",
       "{\"id\":344,\"name\":\"Crochet\",\"slug\":\"crafts/crochet\",\"position\":2,\"parent_id\":26,\"color\":16744876,\"urls\":{\"web\":{\"discover\":\"http://www.kickstarter.com/discover/categories/crafts/crochet\"}}}                                            136\n",
       "{\"id\":268,\"name\":\"Pet Fashion\",\"slug\":\"fashion/pet fashion\",\"position\":7,\"parent_id\":9,\"color\":16752598,\"urls\":{\"web\":{\"discover\":\"http://www.kickstarter.com/discover/categories/fashion/pet%20fashion\"}}}                             135\n",
       "{\"id\":256,\"name\":\"Spaces\",\"slug\":\"dance/spaces\",\"position\":3,\"parent_id\":6,\"color\":10917369,\"urls\":{\"web\":{\"discover\":\"http://www.kickstarter.com/discover/categories/dance/spaces\"}}}                                                  132\n",
       "{\"id\":261,\"name\":\"Typography\",\"slug\":\"design/typography\",\"position\":6,\"parent_id\":7,\"color\":2577151,\"urls\":{\"web\":{\"discover\":\"http://www.kickstarter.com/discover/categories/design/typography\"}}}                                     123\n",
       "{\"id\":387,\"name\":\"Comedy\",\"slug\":\"publishing/comedy\",\"position\":6,\"parent_id\":18,\"color\":14867664,\"urls\":{\"web\":{\"discover\":\"http://www.kickstarter.com/discover/categories/publishing/comedy\"}}}                                       121\n",
       "{\"id\":257,\"name\":\"Workshops\",\"slug\":\"dance/workshops\",\"position\":4,\"parent_id\":6,\"color\":10917369,\"urls\":{\"web\":{\"discover\":\"http://www.kickstarter.com/discover/categories/dance/workshops\"}}}                                         112\n",
       "{\"id\":347,\"name\":\"Glass\",\"slug\":\"crafts/glass\",\"position\":5,\"parent_id\":26,\"color\":16744876,\"urls\":{\"web\":{\"discover\":\"http://www.kickstarter.com/discover/categories/crafts/glass\"}}}                                                  101\n",
       "{\"id\":346,\"name\":\"Embroidery\",\"slug\":\"crafts/embroidery\",\"position\":4,\"parent_id\":26,\"color\":16744876,\"urls\":{\"web\":{\"discover\":\"http://www.kickstarter.com/discover/categories/crafts/embroidery\"}}}                                    96\n",
       "{\"id\":348,\"name\":\"Knitting\",\"slug\":\"crafts/knitting\",\"position\":6,\"parent_id\":26,\"color\":16744876,\"urls\":{\"web\":{\"discover\":\"http://www.kickstarter.com/discover/categories/crafts/knitting\"}}}                                          96\n",
       "{\"id\":389,\"name\":\"Literary Spaces\",\"slug\":\"publishing/literary spaces\",\"position\":16,\"parent_id\":18,\"color\":14867664,\"urls\":{\"web\":{\"discover\":\"http://www.kickstarter.com/discover/categories/publishing/literary%20spaces\"}}}          79\n",
       "{\"id\":355,\"name\":\"Weaving\",\"slug\":\"crafts/weaving\",\"position\":13,\"parent_id\":26,\"color\":16744876,\"urls\":{\"web\":{\"discover\":\"http://www.kickstarter.com/discover/categories/crafts/weaving\"}}}                                            67\n",
       "{\"id\":350,\"name\":\"Pottery\",\"slug\":\"crafts/pottery\",\"position\":8,\"parent_id\":26,\"color\":16744876,\"urls\":{\"web\":{\"discover\":\"http://www.kickstarter.com/discover/categories/crafts/pottery\"}}}                                             67\n",
       "{\"id\":352,\"name\":\"Quilts\",\"slug\":\"crafts/quilts\",\"position\":10,\"parent_id\":26,\"color\":16744876,\"urls\":{\"web\":{\"discover\":\"http://www.kickstarter.com/discover/categories/crafts/quilts\"}}}                                               66\n",
       "{\"id\":349,\"name\":\"Letterpress\",\"slug\":\"publishing/letterpress\",\"position\":7,\"parent_id\":18,\"color\":14867664,\"urls\":{\"web\":{\"discover\":\"http://www.kickstarter.com/discover/categories/publishing/letterpress\"}}}                         55\n",
       "{\"id\":317,\"name\":\"Chiptune\",\"slug\":\"music/chiptune\",\"position\":2,\"parent_id\":14,\"color\":10878931,\"urls\":{\"web\":{\"discover\":\"http://www.kickstarter.com/discover/categories/music/chiptune\"}}}                                            38\n",
       "{\"id\":386,\"name\":\"Comedy\",\"slug\":\"music/comedy\",\"position\":4,\"parent_id\":14,\"color\":10878931,\"urls\":{\"web\":{\"discover\":\"http://www.kickstarter.com/discover/categories/music/comedy\"}}}                                                  37\n",
       "{\"id\":255,\"name\":\"Residencies\",\"slug\":\"dance/residencies\",\"position\":2,\"parent_id\":6,\"color\":10917369,\"urls\":{\"web\":{\"discover\":\"http://www.kickstarter.com/discover/categories/dance/residencies\"}}}                                    27\n",
       "{\"id\":354,\"name\":\"Taxidermy\",\"slug\":\"crafts/taxidermy\",\"position\":12,\"parent_id\":26,\"color\":16744876,\"urls\":{\"web\":{\"discover\":\"http://www.kickstarter.com/discover/categories/crafts/taxidermy\"}}}                                       5\n",
       "Name: category, Length: 169, dtype: int64"
      ]
     },
     "execution_count": 31,
     "metadata": {},
     "output_type": "execute_result"
    }
   ],
   "source": [
    "kickstarter['category'].value_counts()"
   ]
  },
  {
   "cell_type": "code",
   "execution_count": 32,
   "metadata": {},
   "outputs": [],
   "source": [
    "g = kickstarter['category']\n",
    "from ast import literal_eval\n",
    "g = g.apply(literal_eval)"
   ]
  },
  {
   "cell_type": "code",
   "execution_count": 40,
   "metadata": {},
   "outputs": [
    {
     "data": {
      "text/plain": [
       "'Woodworking'"
      ]
     },
     "execution_count": 40,
     "metadata": {},
     "output_type": "execute_result"
    }
   ],
   "source": [
    "g[0]['name']"
   ]
  },
  {
   "cell_type": "code",
   "execution_count": 41,
   "metadata": {},
   "outputs": [],
   "source": [
    "child_category = []\n",
    "for i, name in enumerate(d['name'] for d in g): \n",
    "    child_category.append(name)"
   ]
  },
  {
   "cell_type": "code",
   "execution_count": 39,
   "metadata": {},
   "outputs": [],
   "source": [
    "kickstarter['main_category'] = parent_category"
   ]
  },
  {
   "cell_type": "code",
   "execution_count": 43,
   "metadata": {},
   "outputs": [],
   "source": [
    "kickstarter['child_category'] = child_category"
   ]
  },
  {
   "cell_type": "code",
   "execution_count": 44,
   "metadata": {},
   "outputs": [
    {
     "data": {
      "text/plain": [
       "Index(['backers_count', 'category', 'converted_pledged_amount', 'country',\n",
       "       'created_at', 'currency', 'current_currency', 'deadline', 'fx_rate',\n",
       "       'goal', 'id', 'launched_at', 'location', 'name', 'pledged', 'slug',\n",
       "       'spotlight', 'staff_pick', 'state_changed_at', 'static_usd_rate',\n",
       "       'usd_pledged', 'usd_type', 'state_successful', 'main_category',\n",
       "       'child_category'],\n",
       "      dtype='object')"
      ]
     },
     "execution_count": 44,
     "metadata": {},
     "output_type": "execute_result"
    }
   ],
   "source": [
    "kickstarter.columns"
   ]
  },
  {
   "cell_type": "code",
   "execution_count": 45,
   "metadata": {},
   "outputs": [],
   "source": [
    "kickstarter = kickstarter.drop(columns = 'category')"
   ]
  },
  {
   "cell_type": "code",
   "execution_count": 47,
   "metadata": {},
   "outputs": [
    {
     "data": {
      "text/plain": [
       "music           30147\n",
       "film & video    28848\n",
       "technology      24382\n",
       "art             22350\n",
       "publishing      18071\n",
       "food            16297\n",
       "fashion         14051\n",
       "games           13099\n",
       "comics           9372\n",
       "theater          7050\n",
       "photography      6316\n",
       "design           6268\n",
       "crafts           4725\n",
       "journalism       3777\n",
       "dance            2296\n",
       "Name: main_category, dtype: int64"
      ]
     },
     "execution_count": 47,
     "metadata": {},
     "output_type": "execute_result"
    }
   ],
   "source": [
    "kickstarter['main_category'].value_counts()"
   ]
  },
  {
   "cell_type": "code",
   "execution_count": 48,
   "metadata": {},
   "outputs": [],
   "source": [
    "kickstarter = pd.get_dummies(columns = ['main_category'], drop_first = True, data = kickstarter)"
   ]
  },
  {
   "cell_type": "code",
   "execution_count": 49,
   "metadata": {},
   "outputs": [
    {
     "data": {
      "text/plain": [
       "Index(['backers_count', 'converted_pledged_amount', 'country', 'created_at',\n",
       "       'currency', 'current_currency', 'deadline', 'fx_rate', 'goal', 'id',\n",
       "       'launched_at', 'location', 'name', 'pledged', 'slug', 'spotlight',\n",
       "       'staff_pick', 'state_changed_at', 'static_usd_rate', 'usd_pledged',\n",
       "       'usd_type', 'state_successful', 'child_category',\n",
       "       'main_category_comics', 'main_category_crafts', 'main_category_dance',\n",
       "       'main_category_design', 'main_category_fashion',\n",
       "       'main_category_film & video', 'main_category_food',\n",
       "       'main_category_games', 'main_category_journalism',\n",
       "       'main_category_music', 'main_category_photography',\n",
       "       'main_category_publishing', 'main_category_technology',\n",
       "       'main_category_theater'],\n",
       "      dtype='object')"
      ]
     },
     "execution_count": 49,
     "metadata": {},
     "output_type": "execute_result"
    }
   ],
   "source": [
    "kickstarter.columns"
   ]
  },
  {
   "cell_type": "code",
   "execution_count": 50,
   "metadata": {},
   "outputs": [],
   "source": [
    "kickstarter.to_csv('kickstarter_04_24_19_8_48_AM.csv', index = False)"
   ]
  },
  {
   "cell_type": "code",
   "execution_count": 55,
   "metadata": {},
   "outputs": [
    {
     "data": {
      "text/plain": [
       "US    156814\n",
       "GB     19697\n",
       "CA      8420\n",
       "AU      4364\n",
       "DE      2664\n",
       "FR      2043\n",
       "IT      1919\n",
       "NL      1682\n",
       "MX      1632\n",
       "ES      1513\n",
       "SE      1137\n",
       "NZ       832\n",
       "DK       748\n",
       "HK       545\n",
       "CH       519\n",
       "IE       519\n",
       "SG       493\n",
       "BE       448\n",
       "NO       435\n",
       "AT       385\n",
       "JP       197\n",
       "LU        43\n",
       "Name: country, dtype: int64"
      ]
     },
     "execution_count": 55,
     "metadata": {},
     "output_type": "execute_result"
    }
   ],
   "source": [
    "kickstarter['country'].value_counts()"
   ]
  },
  {
   "cell_type": "code",
   "execution_count": 70,
   "metadata": {},
   "outputs": [],
   "source": [
    "kickstarter = kickstarter.replace('LU', 'OTHER')\n",
    "        "
   ]
  },
  {
   "cell_type": "code",
   "execution_count": 71,
   "metadata": {},
   "outputs": [
    {
     "data": {
      "text/plain": [
       "US       156814\n",
       "GB        19697\n",
       "CA         8420\n",
       "OTHER      7814\n",
       "AU         4364\n",
       "DE         2664\n",
       "FR         2043\n",
       "IT         1919\n",
       "NL         1682\n",
       "MX         1632\n",
       "Name: country, dtype: int64"
      ]
     },
     "execution_count": 71,
     "metadata": {},
     "output_type": "execute_result"
    }
   ],
   "source": [
    "kickstarter['country'].value_counts()"
   ]
  },
  {
   "cell_type": "code",
   "execution_count": 72,
   "metadata": {},
   "outputs": [
    {
     "data": {
      "text/plain": [
       "Index(['backers_count', 'converted_pledged_amount', 'country', 'created_at',\n",
       "       'currency', 'current_currency', 'deadline', 'fx_rate', 'goal', 'id',\n",
       "       'launched_at', 'location', 'name', 'pledged', 'slug', 'spotlight',\n",
       "       'staff_pick', 'state_changed_at', 'static_usd_rate', 'usd_pledged',\n",
       "       'usd_type', 'state_successful', 'child_category',\n",
       "       'main_category_comics', 'main_category_crafts', 'main_category_dance',\n",
       "       'main_category_design', 'main_category_fashion',\n",
       "       'main_category_film & video', 'main_category_food',\n",
       "       'main_category_games', 'main_category_journalism',\n",
       "       'main_category_music', 'main_category_photography',\n",
       "       'main_category_publishing', 'main_category_technology',\n",
       "       'main_category_theater'],\n",
       "      dtype='object')"
      ]
     },
     "execution_count": 72,
     "metadata": {},
     "output_type": "execute_result"
    }
   ],
   "source": [
    "kickstarter.columns"
   ]
  },
  {
   "cell_type": "code",
   "execution_count": 73,
   "metadata": {},
   "outputs": [],
   "source": [
    "kickstarter = pd.get_dummies(columns = ['country'], drop_first = True, data = kickstarter)"
   ]
  },
  {
   "cell_type": "code",
   "execution_count": 74,
   "metadata": {},
   "outputs": [
    {
     "data": {
      "text/plain": [
       "Index(['backers_count', 'converted_pledged_amount', 'created_at', 'currency',\n",
       "       'current_currency', 'deadline', 'fx_rate', 'goal', 'id', 'launched_at',\n",
       "       'location', 'name', 'pledged', 'slug', 'spotlight', 'staff_pick',\n",
       "       'state_changed_at', 'static_usd_rate', 'usd_pledged', 'usd_type',\n",
       "       'state_successful', 'child_category', 'main_category_comics',\n",
       "       'main_category_crafts', 'main_category_dance', 'main_category_design',\n",
       "       'main_category_fashion', 'main_category_film & video',\n",
       "       'main_category_food', 'main_category_games', 'main_category_journalism',\n",
       "       'main_category_music', 'main_category_photography',\n",
       "       'main_category_publishing', 'main_category_technology',\n",
       "       'main_category_theater', 'country_CA', 'country_DE', 'country_FR',\n",
       "       'country_GB', 'country_IT', 'country_MX', 'country_NL', 'country_OTHER',\n",
       "       'country_US'],\n",
       "      dtype='object')"
      ]
     },
     "execution_count": 74,
     "metadata": {},
     "output_type": "execute_result"
    }
   ],
   "source": [
    "kickstarter.columns"
   ]
  },
  {
   "cell_type": "code",
   "execution_count": null,
   "metadata": {},
   "outputs": [],
   "source": []
  }
 ],
 "metadata": {
  "kernelspec": {
   "display_name": "Python 3",
   "language": "python",
   "name": "python3"
  },
  "language_info": {
   "codemirror_mode": {
    "name": "ipython",
    "version": 3
   },
   "file_extension": ".py",
   "mimetype": "text/x-python",
   "name": "python",
   "nbconvert_exporter": "python",
   "pygments_lexer": "ipython3",
   "version": "3.7.3"
  }
 },
 "nbformat": 4,
 "nbformat_minor": 2
}
