{
 "cells": [
  {
   "cell_type": "markdown",
   "metadata": {},
   "source": [
    "### Transforming data into useful form for modeling and for explorative data analysis ###"
   ]
  },
  {
   "cell_type": "code",
   "execution_count": 235,
   "metadata": {},
   "outputs": [],
   "source": [
    "import pandas as pd\n",
    "import numpy as np\n",
    "import matplotlib.pyplot as plt\n",
    "import seaborn as sns\n",
    "%matplotlib inline"
   ]
  },
  {
   "cell_type": "code",
   "execution_count": 236,
   "metadata": {},
   "outputs": [],
   "source": [
    "# Data came from the following link: https://webrobots.io/kickstarter-datasets/"
   ]
  },
  {
   "cell_type": "code",
   "execution_count": 237,
   "metadata": {},
   "outputs": [
    {
     "name": "stderr",
     "output_type": "stream",
     "text": [
      "/anaconda3/lib/python3.7/site-packages/IPython/core/interactiveshell.py:3049: DtypeWarning:\n",
      "\n",
      "Columns (28) have mixed types. Specify dtype option on import or set low_memory=False.\n",
      "\n"
     ]
    }
   ],
   "source": [
    "kickstarter = pd.read_csv('kickstarter.csv')"
   ]
  },
  {
   "cell_type": "code",
   "execution_count": 238,
   "metadata": {},
   "outputs": [
    {
     "data": {
      "text/plain": [
       "(207049, 37)"
      ]
     },
     "execution_count": 238,
     "metadata": {},
     "output_type": "execute_result"
    }
   ],
   "source": [
    "kickstarter.shape"
   ]
  },
  {
   "cell_type": "code",
   "execution_count": 239,
   "metadata": {},
   "outputs": [
    {
     "data": {
      "text/plain": [
       "Index(['backers_count', 'blurb', 'category', 'converted_pledged_amount',\n",
       "       'country', 'created_at', 'creator', 'currency', 'currency_symbol',\n",
       "       'currency_trailing_code', 'current_currency', 'deadline',\n",
       "       'disable_communication', 'friends', 'fx_rate', 'goal', 'id',\n",
       "       'is_backing', 'is_starrable', 'is_starred', 'launched_at', 'location',\n",
       "       'name', 'permissions', 'photo', 'pledged', 'profile', 'slug',\n",
       "       'source_url', 'spotlight', 'staff_pick', 'state', 'state_changed_at',\n",
       "       'static_usd_rate', 'urls', 'usd_pledged', 'usd_type'],\n",
       "      dtype='object')"
      ]
     },
     "execution_count": 239,
     "metadata": {},
     "output_type": "execute_result"
    }
   ],
   "source": [
    "kickstarter.columns"
   ]
  },
  {
   "cell_type": "code",
   "execution_count": 242,
   "metadata": {},
   "outputs": [],
   "source": [
    "kickstarter = kickstarter.drop(columns = ['creator', 'currency_symbol', 'currency_trailing_code', 'disable_communication', 'friends', 'is_backing', 'is_starrable', 'is_starred', 'permissions', 'photo', 'profile', 'source_url', 'urls'])"
   ]
  },
  {
   "cell_type": "code",
   "execution_count": 243,
   "metadata": {},
   "outputs": [
    {
     "data": {
      "text/plain": [
       "Index(['backers_count', 'blurb', 'category', 'converted_pledged_amount',\n",
       "       'country', 'created_at', 'currency', 'current_currency', 'deadline',\n",
       "       'fx_rate', 'goal', 'id', 'launched_at', 'location', 'name', 'pledged',\n",
       "       'slug', 'spotlight', 'staff_pick', 'state', 'state_changed_at',\n",
       "       'static_usd_rate', 'usd_pledged', 'usd_type'],\n",
       "      dtype='object')"
      ]
     },
     "execution_count": 243,
     "metadata": {},
     "output_type": "execute_result"
    }
   ],
   "source": [
    "kickstarter.columns"
   ]
  },
  {
   "cell_type": "code",
   "execution_count": 244,
   "metadata": {},
   "outputs": [],
   "source": [
    "kickstarter = pd.get_dummies(columns = ['state'], drop_first = True, data = kickstarter)"
   ]
  },
  {
   "cell_type": "code",
   "execution_count": 247,
   "metadata": {},
   "outputs": [],
   "source": [
    "g = kickstarter['category']\n",
    "from ast import literal_eval\n",
    "g = g.apply(literal_eval)"
   ]
  },
  {
   "cell_type": "code",
   "execution_count": 249,
   "metadata": {},
   "outputs": [],
   "source": [
    "child_category = []\n",
    "for i, name in enumerate(d['name'] for d in g): \n",
    "    child_category.append(name)"
   ]
  },
  {
   "cell_type": "code",
   "execution_count": 250,
   "metadata": {},
   "outputs": [],
   "source": [
    "kickstarter['main_category'] = parent_category"
   ]
  },
  {
   "cell_type": "code",
   "execution_count": 251,
   "metadata": {},
   "outputs": [],
   "source": [
    "kickstarter['child_category'] = child_category"
   ]
  },
  {
   "cell_type": "code",
   "execution_count": 179,
   "metadata": {},
   "outputs": [],
   "source": [
    "#kickstarter = kickstarter.drop(columns = 'category')"
   ]
  },
  {
   "cell_type": "code",
   "execution_count": 253,
   "metadata": {},
   "outputs": [
    {
     "data": {
      "text/plain": [
       "music           30147\n",
       "film & video    28848\n",
       "technology      24382\n",
       "art             22350\n",
       "publishing      18071\n",
       "food            16297\n",
       "fashion         14051\n",
       "games           13099\n",
       "comics           9372\n",
       "theater          7050\n",
       "photography      6316\n",
       "design           6268\n",
       "crafts           4725\n",
       "journalism       3777\n",
       "dance            2296\n",
       "Name: main_category, dtype: int64"
      ]
     },
     "execution_count": 253,
     "metadata": {},
     "output_type": "execute_result"
    }
   ],
   "source": [
    "kickstarter['main_category'].value_counts()"
   ]
  },
  {
   "cell_type": "code",
   "execution_count": 181,
   "metadata": {},
   "outputs": [],
   "source": [
    "kickstarter = pd.get_dummies(columns = ['main_category'], drop_first = True, data = kickstarter)"
   ]
  },
  {
   "cell_type": "code",
   "execution_count": 183,
   "metadata": {},
   "outputs": [],
   "source": [
    "kickstarter.to_csv('kickstarter_04_24_19_8_48_AM.csv', index = False)"
   ]
  },
  {
   "cell_type": "code",
   "execution_count": 254,
   "metadata": {},
   "outputs": [
    {
     "data": {
      "text/plain": [
       "US    156814\n",
       "GB     19697\n",
       "CA      8420\n",
       "AU      4364\n",
       "DE      2664\n",
       "FR      2043\n",
       "IT      1919\n",
       "NL      1682\n",
       "MX      1632\n",
       "ES      1513\n",
       "SE      1137\n",
       "NZ       832\n",
       "DK       748\n",
       "HK       545\n",
       "CH       519\n",
       "IE       519\n",
       "SG       493\n",
       "BE       448\n",
       "NO       435\n",
       "AT       385\n",
       "JP       197\n",
       "LU        43\n",
       "Name: country, dtype: int64"
      ]
     },
     "execution_count": 254,
     "metadata": {},
     "output_type": "execute_result"
    }
   ],
   "source": [
    "kickstarter['country'].value_counts()"
   ]
  },
  {
   "cell_type": "code",
   "execution_count": 255,
   "metadata": {},
   "outputs": [],
   "source": [
    "kickstarter = kickstarter.replace('SE', 'OTHER')\n",
    "kickstarter = kickstarter.replace('NZ', 'OTHER')\n",
    "kickstarter = kickstarter.replace('DK', 'OTHER')\n",
    "kickstarter = kickstarter.replace('HK', 'OTHER')\n",
    "kickstarter = kickstarter.replace('CH', 'OTHER')\n",
    "kickstarter = kickstarter.replace('IE', 'OTHER')\n",
    "kickstarter = kickstarter.replace('SG', 'OTHER')\n",
    "kickstarter = kickstarter.replace('BE', 'OTHER')\n",
    "kickstarter = kickstarter.replace('NO', 'OTHER')\n",
    "kickstarter = kickstarter.replace('AT', 'OTHER')\n",
    "kickstarter = kickstarter.replace('JP', 'OTHER')\n",
    "kickstarter = kickstarter.replace('LU', 'OTHER')"
   ]
  },
  {
   "cell_type": "code",
   "execution_count": 256,
   "metadata": {},
   "outputs": [
    {
     "data": {
      "text/plain": [
       "US       156814\n",
       "GB        19697\n",
       "CA         8420\n",
       "OTHER      6301\n",
       "AU         4364\n",
       "DE         2664\n",
       "FR         2043\n",
       "IT         1919\n",
       "NL         1682\n",
       "MX         1632\n",
       "ES         1513\n",
       "Name: country, dtype: int64"
      ]
     },
     "execution_count": 256,
     "metadata": {},
     "output_type": "execute_result"
    }
   ],
   "source": [
    "kickstarter['country'].value_counts()"
   ]
  },
  {
   "cell_type": "code",
   "execution_count": 189,
   "metadata": {},
   "outputs": [],
   "source": [
    "kickstarter = pd.get_dummies(columns = ['country'], drop_first = True, data = kickstarter)"
   ]
  },
  {
   "cell_type": "code",
   "execution_count": 193,
   "metadata": {},
   "outputs": [],
   "source": [
    "kickstarter = pd.get_dummies(columns = ['staff_pick'], drop_first = True, data = kickstarter)"
   ]
  },
  {
   "cell_type": "code",
   "execution_count": 194,
   "metadata": {},
   "outputs": [],
   "source": [
    "kickstarter = pd.get_dummies(columns = ['spotlight'], drop_first = True, data = kickstarter)"
   ]
  },
  {
   "cell_type": "code",
   "execution_count": 196,
   "metadata": {},
   "outputs": [
    {
     "data": {
      "text/plain": [
       "1    112120\n",
       "0     94929\n",
       "Name: state_successful, dtype: int64"
      ]
     },
     "execution_count": 196,
     "metadata": {},
     "output_type": "execute_result"
    }
   ],
   "source": [
    "kickstarter['state_successful'].value_counts()"
   ]
  },
  {
   "cell_type": "code",
   "execution_count": 197,
   "metadata": {},
   "outputs": [],
   "source": [
    "kickstarter.to_csv('kickstarter_with_all_money_04_24_19_11_16_AM.csv', index = False)"
   ]
  },
  {
   "cell_type": "code",
   "execution_count": 198,
   "metadata": {},
   "outputs": [],
   "source": [
    "kickstarter = kickstarter.drop(columns = ['currency', 'current_currency', 'fx_rate',  'pledged', 'static_usd_rate', 'usd_pledged', 'usd_type'])"
   ]
  },
  {
   "cell_type": "code",
   "execution_count": 200,
   "metadata": {},
   "outputs": [],
   "source": [
    "kickstarter = kickstarter.drop(columns = 'name')"
   ]
  },
  {
   "cell_type": "code",
   "execution_count": 274,
   "metadata": {},
   "outputs": [
    {
     "data": {
      "text/html": [
       "<div>\n",
       "<style scoped>\n",
       "    .dataframe tbody tr th:only-of-type {\n",
       "        vertical-align: middle;\n",
       "    }\n",
       "\n",
       "    .dataframe tbody tr th {\n",
       "        vertical-align: top;\n",
       "    }\n",
       "\n",
       "    .dataframe thead th {\n",
       "        text-align: right;\n",
       "    }\n",
       "</style>\n",
       "<table border=\"1\" class=\"dataframe\">\n",
       "  <thead>\n",
       "    <tr style=\"text-align: right;\">\n",
       "      <th></th>\n",
       "      <th>created_at</th>\n",
       "      <th>deadline</th>\n",
       "      <th>launched_at</th>\n",
       "      <th>state_changed_at</th>\n",
       "    </tr>\n",
       "  </thead>\n",
       "  <tbody>\n",
       "    <tr>\n",
       "      <th>0</th>\n",
       "      <td>2016-09-11 22:05:51</td>\n",
       "      <td>2016-12-05 19:42:23</td>\n",
       "      <td>2016-11-05 18:42:23</td>\n",
       "      <td>2016-12-05 19:42:23</td>\n",
       "    </tr>\n",
       "    <tr>\n",
       "      <th>1</th>\n",
       "      <td>2015-07-10 14:59:32</td>\n",
       "      <td>2015-08-24 12:00:34</td>\n",
       "      <td>2015-07-21 12:00:34</td>\n",
       "      <td>2015-08-24 12:00:34</td>\n",
       "    </tr>\n",
       "    <tr>\n",
       "      <th>2</th>\n",
       "      <td>2015-03-24 17:41:14</td>\n",
       "      <td>2015-05-15 16:22:34</td>\n",
       "      <td>2015-04-15 16:22:34</td>\n",
       "      <td>2015-05-15 16:22:34</td>\n",
       "    </tr>\n",
       "  </tbody>\n",
       "</table>\n",
       "</div>"
      ],
      "text/plain": [
       "            created_at             deadline          launched_at  \\\n",
       "0  2016-09-11 22:05:51  2016-12-05 19:42:23  2016-11-05 18:42:23   \n",
       "1  2015-07-10 14:59:32  2015-08-24 12:00:34  2015-07-21 12:00:34   \n",
       "2  2015-03-24 17:41:14  2015-05-15 16:22:34  2015-04-15 16:22:34   \n",
       "\n",
       "      state_changed_at  \n",
       "0  2016-12-05 19:42:23  \n",
       "1  2015-08-24 12:00:34  \n",
       "2  2015-05-15 16:22:34  "
      ]
     },
     "execution_count": 274,
     "metadata": {},
     "output_type": "execute_result"
    }
   ],
   "source": [
    "kickstarter[['created_at', 'deadline', 'launched_at', 'state_changed_at']].head(3)"
   ]
  },
  {
   "cell_type": "code",
   "execution_count": 261,
   "metadata": {},
   "outputs": [],
   "source": [
    "deadline_list = kickstarter['deadline']"
   ]
  },
  {
   "cell_type": "code",
   "execution_count": 262,
   "metadata": {},
   "outputs": [],
   "source": [
    "from datetime import datetime\n",
    "new_list = []\n",
    "for n in deadline_list:\n",
    "\n",
    "# if you encounter a \"year is out of range\" error the timestamp\n",
    "# may be in milliseconds, try `ts /= 1000` in that case\n",
    "    new_date = datetime.utcfromtimestamp(n).strftime('%Y-%m-%d %H:%M:%S')\n",
    "    new_list.append(new_date)"
   ]
  },
  {
   "cell_type": "code",
   "execution_count": 263,
   "metadata": {},
   "outputs": [],
   "source": [
    "kickstarter['deadline'] = new_list"
   ]
  },
  {
   "cell_type": "code",
   "execution_count": 264,
   "metadata": {},
   "outputs": [],
   "source": [
    "created_at_list = kickstarter['created_at']"
   ]
  },
  {
   "cell_type": "code",
   "execution_count": 265,
   "metadata": {},
   "outputs": [],
   "source": [
    "new_list = []\n",
    "for n in created_at_list:\n",
    "\n",
    "# if you encounter a \"year is out of range\" error the timestamp\n",
    "# may be in milliseconds, try `ts /= 1000` in that case\n",
    "    new_date = datetime.utcfromtimestamp(n).strftime('%Y-%m-%d %H:%M:%S')\n",
    "    new_list.append(new_date)"
   ]
  },
  {
   "cell_type": "code",
   "execution_count": 266,
   "metadata": {},
   "outputs": [],
   "source": [
    "kickstarter['created_at'] = new_list"
   ]
  },
  {
   "cell_type": "code",
   "execution_count": 267,
   "metadata": {},
   "outputs": [],
   "source": [
    "launched_at_list = kickstarter['launched_at']"
   ]
  },
  {
   "cell_type": "code",
   "execution_count": 268,
   "metadata": {},
   "outputs": [],
   "source": [
    "new_list = []\n",
    "for n in launched_at_list:\n",
    "\n",
    "# if you encounter a \"year is out of range\" error the timestamp\n",
    "# may be in milliseconds, try `ts /= 1000` in that case\n",
    "    new_date = datetime.utcfromtimestamp(n).strftime('%Y-%m-%d %H:%M:%S')\n",
    "    new_list.append(new_date)"
   ]
  },
  {
   "cell_type": "code",
   "execution_count": 269,
   "metadata": {},
   "outputs": [],
   "source": [
    "kickstarter['launched_at'] = new_list"
   ]
  },
  {
   "cell_type": "code",
   "execution_count": 271,
   "metadata": {},
   "outputs": [],
   "source": [
    "launched_at_list = kickstarter['state_changed_at']"
   ]
  },
  {
   "cell_type": "code",
   "execution_count": 272,
   "metadata": {},
   "outputs": [],
   "source": [
    "new_list = []\n",
    "for n in launched_at_list:\n",
    "\n",
    "# if you encounter a \"year is out of range\" error the timestamp\n",
    "# may be in milliseconds, try `ts /= 1000` in that case\n",
    "    new_date = datetime.utcfromtimestamp(n).strftime('%Y-%m-%d %H:%M:%S')\n",
    "    new_list.append(new_date)"
   ]
  },
  {
   "cell_type": "code",
   "execution_count": 273,
   "metadata": {},
   "outputs": [],
   "source": [
    "kickstarter['state_changed_at'] = new_list"
   ]
  },
  {
   "cell_type": "code",
   "execution_count": 276,
   "metadata": {},
   "outputs": [],
   "source": [
    "#kickstarter.to_csv('kickstarter_features_04_25_19_12_59_pm.csv', index = False)"
   ]
  },
  {
   "cell_type": "code",
   "execution_count": 227,
   "metadata": {},
   "outputs": [],
   "source": [
    "cols = kickstarter.columns.tolist()"
   ]
  },
  {
   "cell_type": "code",
   "execution_count": 228,
   "metadata": {},
   "outputs": [],
   "source": [
    "cols = ['id',\n",
    "        'blurb',\n",
    "        'slug', \n",
    "        'state_successful',\n",
    "        'converted_pledged_amount', \n",
    "        'goal', \n",
    "        'backers_count', \n",
    "        'created_at', \n",
    "        'launched_at',\n",
    "        'deadline', \n",
    "        'staff_pick_True',\n",
    "        'spotlight_True', \n",
    "        'child_category',\n",
    "         'main_category_comics',\n",
    "         'main_category_crafts',\n",
    "         'main_category_dance',\n",
    "         'main_category_design',\n",
    "         'main_category_fashion',\n",
    "         'main_category_film & video',\n",
    "         'main_category_food',\n",
    "         'main_category_games',\n",
    "         'main_category_journalism',\n",
    "         'main_category_music',\n",
    "         'main_category_photography',\n",
    "         'main_category_publishing',\n",
    "         'main_category_technology',\n",
    "         'main_category_theater',\n",
    "         'country_CA',\n",
    "         'country_DE',\n",
    "         'country_FR',\n",
    "         'country_GB',\n",
    "         'country_IT',\n",
    "         'country_MX',\n",
    "         'country_NL',\n",
    "         'country_OTHER',\n",
    "         'country_US',\n",
    "        'location']"
   ]
  },
  {
   "cell_type": "code",
   "execution_count": 229,
   "metadata": {},
   "outputs": [],
   "source": [
    "kickstarter = kickstarter[cols]"
   ]
  },
  {
   "cell_type": "code",
   "execution_count": 232,
   "metadata": {},
   "outputs": [],
   "source": [
    "#kickstarter.to_csv('kickstarter_cleaned_04_24_19_1_08_pm.csv', index = False)"
   ]
  },
  {
   "cell_type": "code",
   "execution_count": 233,
   "metadata": {},
   "outputs": [],
   "source": [
    "#import pickle\n",
    "#pickling notes\n",
    "#with open('kickstarter_cleaned_04_24_19_1_08_pm.pkl', 'wb') as f:\n",
    "    #pickle.dump(kickstarter, f)"
   ]
  },
  {
   "cell_type": "code",
   "execution_count": null,
   "metadata": {},
   "outputs": [],
   "source": []
  }
 ],
 "metadata": {
  "kernelspec": {
   "display_name": "Python 3",
   "language": "python",
   "name": "python3"
  },
  "language_info": {
   "codemirror_mode": {
    "name": "ipython",
    "version": 3
   },
   "file_extension": ".py",
   "mimetype": "text/x-python",
   "name": "python",
   "nbconvert_exporter": "python",
   "pygments_lexer": "ipython3",
   "version": "3.7.3"
  }
 },
 "nbformat": 4,
 "nbformat_minor": 2
}
