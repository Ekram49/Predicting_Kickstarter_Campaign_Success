{
 "cells": [
  {
   "cell_type": "code",
   "execution_count": 21,
   "metadata": {},
   "outputs": [],
   "source": [
    "import pandas as pd"
   ]
  },
  {
   "cell_type": "code",
   "execution_count": 22,
   "metadata": {},
   "outputs": [],
   "source": [
    "kickstarter = pd.read_csv('kickstarter.csv')"
   ]
  },
  {
   "cell_type": "code",
   "execution_count": 23,
   "metadata": {},
   "outputs": [
    {
     "data": {
      "text/plain": [
       "(207049, 37)"
      ]
     },
     "execution_count": 23,
     "metadata": {},
     "output_type": "execute_result"
    }
   ],
   "source": [
    "kickstarter.shape"
   ]
  },
  {
   "cell_type": "code",
   "execution_count": 24,
   "metadata": {},
   "outputs": [
    {
     "data": {
      "text/plain": [
       "Index(['backers_count', 'blurb', 'category', 'converted_pledged_amount',\n",
       "       'country', 'created_at', 'creator', 'currency', 'currency_symbol',\n",
       "       'currency_trailing_code', 'current_currency', 'deadline',\n",
       "       'disable_communication', 'friends', 'fx_rate', 'goal', 'id',\n",
       "       'is_backing', 'is_starrable', 'is_starred', 'launched_at', 'location',\n",
       "       'name', 'permissions', 'photo', 'pledged', 'profile', 'slug',\n",
       "       'source_url', 'spotlight', 'staff_pick', 'state', 'state_changed_at',\n",
       "       'static_usd_rate', 'urls', 'usd_pledged', 'usd_type'],\n",
       "      dtype='object')"
      ]
     },
     "execution_count": 24,
     "metadata": {},
     "output_type": "execute_result"
    }
   ],
   "source": [
    "kickstarter.columns"
   ]
  },
  {
   "cell_type": "code",
   "execution_count": 25,
   "metadata": {},
   "outputs": [],
   "source": [
    "kickstarter = kickstarter.drop(columns = ['blurb', 'creator', 'currency_symbol', 'currency_trailing_code', 'disable_communication', 'friends', 'is_backing', 'is_starrable', 'is_starred', 'permissions', 'photo', 'profile', 'source_url', 'urls'])"
   ]
  },
  {
   "cell_type": "code",
   "execution_count": 26,
   "metadata": {},
   "outputs": [
    {
     "data": {
      "text/plain": [
       "Index(['backers_count', 'category', 'converted_pledged_amount', 'country',\n",
       "       'created_at', 'currency', 'current_currency', 'deadline', 'fx_rate',\n",
       "       'goal', 'id', 'launched_at', 'location', 'name', 'pledged', 'slug',\n",
       "       'spotlight', 'staff_pick', 'state', 'state_changed_at',\n",
       "       'static_usd_rate', 'usd_pledged', 'usd_type'],\n",
       "      dtype='object')"
      ]
     },
     "execution_count": 26,
     "metadata": {},
     "output_type": "execute_result"
    }
   ],
   "source": [
    "kickstarter.columns"
   ]
  },
  {
   "cell_type": "code",
   "execution_count": 28,
   "metadata": {},
   "outputs": [],
   "source": [
    "kickstarter = pd.get_dummies(columns = ['state'], drop_first = True, data = kickstarter)"
   ]
  },
  {
   "cell_type": "code",
   "execution_count": 29,
   "metadata": {},
   "outputs": [
    {
     "data": {
      "text/plain": [
       "Index(['backers_count', 'category', 'converted_pledged_amount', 'country',\n",
       "       'created_at', 'currency', 'current_currency', 'deadline', 'fx_rate',\n",
       "       'goal', 'id', 'launched_at', 'location', 'name', 'pledged', 'slug',\n",
       "       'spotlight', 'staff_pick', 'state_changed_at', 'static_usd_rate',\n",
       "       'usd_pledged', 'usd_type', 'state_successful'],\n",
       "      dtype='object')"
      ]
     },
     "execution_count": 29,
     "metadata": {},
     "output_type": "execute_result"
    }
   ],
   "source": [
    "kickstarter.columns"
   ]
  },
  {
   "cell_type": "code",
   "execution_count": 31,
   "metadata": {},
   "outputs": [
    {
     "data": {
      "text/plain": [
       "{\"id\":332,\"name\":\"Apps\",\"slug\":\"technology/apps\",\"position\":2,\"parent_id\":16,\"color\":6526716,\"urls\":{\"web\":{\"discover\":\"http://www.kickstarter.com/discover/categories/technology/apps\"}}}                                             4934\n",
       "{\"id\":262,\"name\":\"Accessories\",\"slug\":\"fashion/accessories\",\"position\":1,\"parent_id\":9,\"color\":16752598,\"urls\":{\"web\":{\"discover\":\"http://www.kickstarter.com/discover/categories/fashion/accessories\"}}}                              4075\n",
       "{\"id\":30,\"name\":\"Documentary\",\"slug\":\"film & video/documentary\",\"position\":4,\"parent_id\":11,\"color\":16734574,\"urls\":{\"web\":{\"discover\":\"http://www.kickstarter.com/discover/categories/film%20&%20video/documentary\"}}}                3971\n",
       "{\"id\":263,\"name\":\"Apparel\",\"slug\":\"fashion/apparel\",\"position\":2,\"parent_id\":9,\"color\":16752598,\"urls\":{\"web\":{\"discover\":\"http://www.kickstarter.com/discover/categories/fashion/apparel\"}}}                                          3870\n",
       "{\"id\":32,\"name\":\"Shorts\",\"slug\":\"film & video/shorts\",\"position\":16,\"parent_id\":11,\"color\":16734574,\"urls\":{\"web\":{\"discover\":\"http://www.kickstarter.com/discover/categories/film%20&%20video/shorts\"}}}                              3867\n",
       "{\"id\":39,\"name\":\"Hip-Hop\",\"slug\":\"music/hip-hop\",\"position\":8,\"parent_id\":14,\"color\":10878931,\"urls\":{\"web\":{\"discover\":\"http://www.kickstarter.com/discover/categories/music/hip-hop\"}}}                                              3701\n",
       "{\"id\":342,\"name\":\"Web\",\"slug\":\"technology/web\",\"position\":15,\"parent_id\":16,\"color\":6526716,\"urls\":{\"web\":{\"discover\":\"http://www.kickstarter.com/discover/categories/technology/web\"}}}                                               3594\n",
       "{\"id\":22,\"name\":\"Illustration\",\"slug\":\"art/illustration\",\"position\":4,\"parent_id\":1,\"color\":16760235,\"urls\":{\"web\":{\"discover\":\"http://www.kickstarter.com/discover/categories/art/illustration\"}}}                                    3426\n",
       "{\"id\":52,\"name\":\"Hardware\",\"slug\":\"technology/hardware\",\"position\":8,\"parent_id\":16,\"color\":6526716,\"urls\":{\"web\":{\"discover\":\"http://www.kickstarter.com/discover/categories/technology/hardware\"}}}                                  3426\n",
       "{\"id\":34,\"name\":\"Tabletop Games\",\"slug\":\"games/tabletop games\",\"position\":6,\"parent_id\":12,\"color\":51627,\"urls\":{\"web\":{\"discover\":\"http://www.kickstarter.com/discover/categories/games/tabletop%20games\"}}}                          3415\n",
       "{\"id\":23,\"name\":\"Painting\",\"slug\":\"art/painting\",\"position\":7,\"parent_id\":1,\"color\":16760235,\"urls\":{\"web\":{\"discover\":\"http://www.kickstarter.com/discover/categories/art/painting\"}}}                                                3283\n",
       "{\"id\":42,\"name\":\"Pop\",\"slug\":\"music/pop\",\"position\":14,\"parent_id\":14,\"color\":10878931,\"urls\":{\"web\":{\"discover\":\"http://www.kickstarter.com/discover/categories/music/pop\"}}}                                                         3268\n",
       "{\"id\":43,\"name\":\"Rock\",\"slug\":\"music/rock\",\"position\":17,\"parent_id\":14,\"color\":10878931,\"urls\":{\"web\":{\"discover\":\"http://www.kickstarter.com/discover/categories/music/rock\"}}}                                                      3262\n",
       "{\"id\":250,\"name\":\"Comic Books\",\"slug\":\"comics/comic books\",\"position\":2,\"parent_id\":3,\"color\":16776056,\"urls\":{\"web\":{\"discover\":\"http://www.kickstarter.com/discover/categories/comics/comic%20books\"}}}                              3253\n",
       "{\"id\":40,\"name\":\"Indie Rock\",\"slug\":\"music/indie rock\",\"position\":9,\"parent_id\":14,\"color\":10878931,\"urls\":{\"web\":{\"discover\":\"http://www.kickstarter.com/discover/categories/music/indie%20rock\"}}}                                   3204\n",
       "{\"id\":33,\"name\":\"Webseries\",\"slug\":\"film & video/webseries\",\"position\":19,\"parent_id\":11,\"color\":16734574,\"urls\":{\"web\":{\"discover\":\"http://www.kickstarter.com/discover/categories/film%20&%20video/webseries\"}}}                     3192\n",
       "{\"id\":53,\"name\":\"Public Art\",\"slug\":\"art/public art\",\"position\":9,\"parent_id\":1,\"color\":16760235,\"urls\":{\"web\":{\"discover\":\"http://www.kickstarter.com/discover/categories/art/public%20art\"}}}                                        3028\n",
       "{\"id\":17,\"name\":\"Theater\",\"slug\":\"theater\",\"position\":15,\"color\":16743775,\"urls\":{\"web\":{\"discover\":\"http://www.kickstarter.com/discover/categories/theater\"}}}                                                                        2962\n",
       "{\"id\":312,\"name\":\"Restaurants\",\"slug\":\"food/restaurants\",\"position\":9,\"parent_id\":10,\"color\":16725570,\"urls\":{\"web\":{\"discover\":\"http://www.kickstarter.com/discover/categories/food/restaurants\"}}}                                   2940\n",
       "{\"id\":337,\"name\":\"Gadgets\",\"slug\":\"technology/gadgets\",\"position\":7,\"parent_id\":16,\"color\":6526716,\"urls\":{\"web\":{\"discover\":\"http://www.kickstarter.com/discover/categories/technology/gadgets\"}}}                                    2906\n",
       "{\"id\":51,\"name\":\"Software\",\"slug\":\"technology/software\",\"position\":11,\"parent_id\":16,\"color\":6526716,\"urls\":{\"web\":{\"discover\":\"http://www.kickstarter.com/discover/categories/technology/software\"}}}                                 2847\n",
       "{\"id\":31,\"name\":\"Narrative Film\",\"slug\":\"film & video/narrative film\",\"position\":13,\"parent_id\":11,\"color\":16734574,\"urls\":{\"web\":{\"discover\":\"http://www.kickstarter.com/discover/categories/film%20&%20video/narrative%20film\"}}}    2832\n",
       "{\"id\":10,\"name\":\"Food\",\"slug\":\"food\",\"position\":8,\"color\":16725570,\"urls\":{\"web\":{\"discover\":\"http://www.kickstarter.com/discover/categories/food\"}}}                                                                                  2807\n",
       "{\"id\":54,\"name\":\"Mixed Media\",\"slug\":\"art/mixed media\",\"position\":6,\"parent_id\":1,\"color\":16760235,\"urls\":{\"web\":{\"discover\":\"http://www.kickstarter.com/discover/categories/art/mixed%20media\"}}}                                     2786\n",
       "{\"id\":45,\"name\":\"Art Books\",\"slug\":\"publishing/art books\",\"position\":3,\"parent_id\":18,\"color\":14867664,\"urls\":{\"web\":{\"discover\":\"http://www.kickstarter.com/discover/categories/publishing/art%20books\"}}}                            2772\n",
       "{\"id\":273,\"name\":\"Playing Cards\",\"slug\":\"games/playing cards\",\"position\":4,\"parent_id\":12,\"color\":51627,\"urls\":{\"web\":{\"discover\":\"http://www.kickstarter.com/discover/categories/games/playing%20cards\"}}}                            2683\n",
       "{\"id\":37,\"name\":\"Country & Folk\",\"slug\":\"music/country & folk\",\"position\":5,\"parent_id\":14,\"color\":10878931,\"urls\":{\"web\":{\"discover\":\"http://www.kickstarter.com/discover/categories/music/country%20&%20folk\"}}}                     2613\n",
       "{\"id\":36,\"name\":\"Classical Music\",\"slug\":\"music/classical music\",\"position\":3,\"parent_id\":14,\"color\":10878931,\"urls\":{\"web\":{\"discover\":\"http://www.kickstarter.com/discover/categories/music/classical%20music\"}}}                    2606\n",
       "{\"id\":272,\"name\":\"Mobile Games\",\"slug\":\"games/mobile games\",\"position\":3,\"parent_id\":12,\"color\":51627,\"urls\":{\"web\":{\"discover\":\"http://www.kickstarter.com/discover/categories/games/mobile%20games\"}}}                               2578\n",
       "{\"id\":307,\"name\":\"Drinks\",\"slug\":\"food/drinks\",\"position\":4,\"parent_id\":10,\"color\":16725570,\"urls\":{\"web\":{\"discover\":\"http://www.kickstarter.com/discover/categories/food/drinks\"}}}                                                  2520\n",
       "                                                                                                                                                                                                                                       ... \n",
       "{\"id\":275,\"name\":\"Animals\",\"slug\":\"photography/animals\",\"position\":1,\"parent_id\":15,\"color\":58341,\"urls\":{\"web\":{\"discover\":\"http://www.kickstarter.com/discover/categories/photography/animals\"}}}                                     216\n",
       "{\"id\":286,\"name\":\"Spaces\",\"slug\":\"theater/spaces\",\"position\":7,\"parent_id\":17,\"color\":16743775,\"urls\":{\"web\":{\"discover\":\"http://www.kickstarter.com/discover/categories/theater/spaces\"}}}                                             204\n",
       "{\"id\":300,\"name\":\"Romance\",\"slug\":\"film & video/romance\",\"position\":14,\"parent_id\":11,\"color\":16734574,\"urls\":{\"web\":{\"discover\":\"http://www.kickstarter.com/discover/categories/film%20&%20video/romance\"}}}                           198\n",
       "{\"id\":290,\"name\":\"Video Art\",\"slug\":\"art/video art\",\"position\":12,\"parent_id\":1,\"color\":16760235,\"urls\":{\"web\":{\"discover\":\"http://www.kickstarter.com/discover/categories/art/video%20art\"}}}                                          194\n",
       "{\"id\":304,\"name\":\"Bacon\",\"slug\":\"food/bacon\",\"position\":1,\"parent_id\":10,\"color\":16725570,\"urls\":{\"web\":{\"discover\":\"http://www.kickstarter.com/discover/categories/food/bacon\"}}}                                                      185\n",
       "{\"id\":351,\"name\":\"Printing\",\"slug\":\"crafts/printing\",\"position\":9,\"parent_id\":26,\"color\":16744876,\"urls\":{\"web\":{\"discover\":\"http://www.kickstarter.com/discover/categories/crafts/printing\"}}}                                         177\n",
       "{\"id\":251,\"name\":\"Events\",\"slug\":\"comics/events\",\"position\":3,\"parent_id\":3,\"color\":16776056,\"urls\":{\"web\":{\"discover\":\"http://www.kickstarter.com/discover/categories/comics/events\"}}}                                                166\n",
       "{\"id\":388,\"name\":\"Comedy\",\"slug\":\"theater/comedy\",\"position\":1,\"parent_id\":17,\"color\":16743775,\"urls\":{\"web\":{\"discover\":\"http://www.kickstarter.com/discover/categories/theater/comedy\"}}}                                             163\n",
       "{\"id\":320,\"name\":\"Latin\",\"slug\":\"music/latin\",\"position\":12,\"parent_id\":14,\"color\":10878931,\"urls\":{\"web\":{\"discover\":\"http://www.kickstarter.com/discover/categories/music/latin\"}}}                                                   162\n",
       "{\"id\":327,\"name\":\"Translations\",\"slug\":\"publishing/translations\",\"position\":13,\"parent_id\":18,\"color\":14867664,\"urls\":{\"web\":{\"discover\":\"http://www.kickstarter.com/discover/categories/publishing/translations\"}}}                    161\n",
       "{\"id\":353,\"name\":\"Stationery\",\"slug\":\"crafts/stationery\",\"position\":11,\"parent_id\":26,\"color\":16744876,\"urls\":{\"web\":{\"discover\":\"http://www.kickstarter.com/discover/categories/crafts/stationery\"}}}                                  153\n",
       "{\"id\":358,\"name\":\"Photo\",\"slug\":\"journalism/photo\",\"position\":2,\"parent_id\":13,\"color\":1228010,\"urls\":{\"web\":{\"discover\":\"http://www.kickstarter.com/discover/categories/journalism/photo\"}}}                                           148\n",
       "{\"id\":344,\"name\":\"Crochet\",\"slug\":\"crafts/crochet\",\"position\":2,\"parent_id\":26,\"color\":16744876,\"urls\":{\"web\":{\"discover\":\"http://www.kickstarter.com/discover/categories/crafts/crochet\"}}}                                            136\n",
       "{\"id\":268,\"name\":\"Pet Fashion\",\"slug\":\"fashion/pet fashion\",\"position\":7,\"parent_id\":9,\"color\":16752598,\"urls\":{\"web\":{\"discover\":\"http://www.kickstarter.com/discover/categories/fashion/pet%20fashion\"}}}                             135\n",
       "{\"id\":256,\"name\":\"Spaces\",\"slug\":\"dance/spaces\",\"position\":3,\"parent_id\":6,\"color\":10917369,\"urls\":{\"web\":{\"discover\":\"http://www.kickstarter.com/discover/categories/dance/spaces\"}}}                                                  132\n",
       "{\"id\":261,\"name\":\"Typography\",\"slug\":\"design/typography\",\"position\":6,\"parent_id\":7,\"color\":2577151,\"urls\":{\"web\":{\"discover\":\"http://www.kickstarter.com/discover/categories/design/typography\"}}}                                     123\n",
       "{\"id\":387,\"name\":\"Comedy\",\"slug\":\"publishing/comedy\",\"position\":6,\"parent_id\":18,\"color\":14867664,\"urls\":{\"web\":{\"discover\":\"http://www.kickstarter.com/discover/categories/publishing/comedy\"}}}                                       121\n",
       "{\"id\":257,\"name\":\"Workshops\",\"slug\":\"dance/workshops\",\"position\":4,\"parent_id\":6,\"color\":10917369,\"urls\":{\"web\":{\"discover\":\"http://www.kickstarter.com/discover/categories/dance/workshops\"}}}                                         112\n",
       "{\"id\":347,\"name\":\"Glass\",\"slug\":\"crafts/glass\",\"position\":5,\"parent_id\":26,\"color\":16744876,\"urls\":{\"web\":{\"discover\":\"http://www.kickstarter.com/discover/categories/crafts/glass\"}}}                                                  101\n",
       "{\"id\":346,\"name\":\"Embroidery\",\"slug\":\"crafts/embroidery\",\"position\":4,\"parent_id\":26,\"color\":16744876,\"urls\":{\"web\":{\"discover\":\"http://www.kickstarter.com/discover/categories/crafts/embroidery\"}}}                                    96\n",
       "{\"id\":348,\"name\":\"Knitting\",\"slug\":\"crafts/knitting\",\"position\":6,\"parent_id\":26,\"color\":16744876,\"urls\":{\"web\":{\"discover\":\"http://www.kickstarter.com/discover/categories/crafts/knitting\"}}}                                          96\n",
       "{\"id\":389,\"name\":\"Literary Spaces\",\"slug\":\"publishing/literary spaces\",\"position\":16,\"parent_id\":18,\"color\":14867664,\"urls\":{\"web\":{\"discover\":\"http://www.kickstarter.com/discover/categories/publishing/literary%20spaces\"}}}          79\n",
       "{\"id\":355,\"name\":\"Weaving\",\"slug\":\"crafts/weaving\",\"position\":13,\"parent_id\":26,\"color\":16744876,\"urls\":{\"web\":{\"discover\":\"http://www.kickstarter.com/discover/categories/crafts/weaving\"}}}                                            67\n",
       "{\"id\":350,\"name\":\"Pottery\",\"slug\":\"crafts/pottery\",\"position\":8,\"parent_id\":26,\"color\":16744876,\"urls\":{\"web\":{\"discover\":\"http://www.kickstarter.com/discover/categories/crafts/pottery\"}}}                                             67\n",
       "{\"id\":352,\"name\":\"Quilts\",\"slug\":\"crafts/quilts\",\"position\":10,\"parent_id\":26,\"color\":16744876,\"urls\":{\"web\":{\"discover\":\"http://www.kickstarter.com/discover/categories/crafts/quilts\"}}}                                               66\n",
       "{\"id\":349,\"name\":\"Letterpress\",\"slug\":\"publishing/letterpress\",\"position\":7,\"parent_id\":18,\"color\":14867664,\"urls\":{\"web\":{\"discover\":\"http://www.kickstarter.com/discover/categories/publishing/letterpress\"}}}                         55\n",
       "{\"id\":317,\"name\":\"Chiptune\",\"slug\":\"music/chiptune\",\"position\":2,\"parent_id\":14,\"color\":10878931,\"urls\":{\"web\":{\"discover\":\"http://www.kickstarter.com/discover/categories/music/chiptune\"}}}                                            38\n",
       "{\"id\":386,\"name\":\"Comedy\",\"slug\":\"music/comedy\",\"position\":4,\"parent_id\":14,\"color\":10878931,\"urls\":{\"web\":{\"discover\":\"http://www.kickstarter.com/discover/categories/music/comedy\"}}}                                                  37\n",
       "{\"id\":255,\"name\":\"Residencies\",\"slug\":\"dance/residencies\",\"position\":2,\"parent_id\":6,\"color\":10917369,\"urls\":{\"web\":{\"discover\":\"http://www.kickstarter.com/discover/categories/dance/residencies\"}}}                                    27\n",
       "{\"id\":354,\"name\":\"Taxidermy\",\"slug\":\"crafts/taxidermy\",\"position\":12,\"parent_id\":26,\"color\":16744876,\"urls\":{\"web\":{\"discover\":\"http://www.kickstarter.com/discover/categories/crafts/taxidermy\"}}}                                       5\n",
       "Name: category, Length: 169, dtype: int64"
      ]
     },
     "execution_count": 31,
     "metadata": {},
     "output_type": "execute_result"
    }
   ],
   "source": [
    "kickstarter['category'].value_counts()"
   ]
  },
  {
   "cell_type": "code",
   "execution_count": 32,
   "metadata": {},
   "outputs": [],
   "source": [
    "g = kickstarter['category']\n",
    "from ast import literal_eval\n",
    "g = g.apply(literal_eval)"
   ]
  },
  {
   "cell_type": "code",
   "execution_count": 40,
   "metadata": {},
   "outputs": [
    {
     "data": {
      "text/plain": [
       "'Woodworking'"
      ]
     },
     "execution_count": 40,
     "metadata": {},
     "output_type": "execute_result"
    }
   ],
   "source": [
    "g[0]['name']"
   ]
  },
  {
   "cell_type": "code",
   "execution_count": 41,
   "metadata": {},
   "outputs": [],
   "source": [
    "child_category = []\n",
    "for i, name in enumerate(d['name'] for d in g): \n",
    "    child_category.append(name)"
   ]
  },
  {
   "cell_type": "code",
   "execution_count": 39,
   "metadata": {},
   "outputs": [],
   "source": [
    "kickstarter['main_category'] = parent_category"
   ]
  },
  {
   "cell_type": "code",
   "execution_count": 43,
   "metadata": {},
   "outputs": [],
   "source": [
    "kickstarter['child_category'] = child_category"
   ]
  },
  {
   "cell_type": "code",
   "execution_count": 44,
   "metadata": {},
   "outputs": [
    {
     "data": {
      "text/plain": [
       "Index(['backers_count', 'category', 'converted_pledged_amount', 'country',\n",
       "       'created_at', 'currency', 'current_currency', 'deadline', 'fx_rate',\n",
       "       'goal', 'id', 'launched_at', 'location', 'name', 'pledged', 'slug',\n",
       "       'spotlight', 'staff_pick', 'state_changed_at', 'static_usd_rate',\n",
       "       'usd_pledged', 'usd_type', 'state_successful', 'main_category',\n",
       "       'child_category'],\n",
       "      dtype='object')"
      ]
     },
     "execution_count": 44,
     "metadata": {},
     "output_type": "execute_result"
    }
   ],
   "source": [
    "kickstarter.columns"
   ]
  },
  {
   "cell_type": "code",
   "execution_count": 45,
   "metadata": {},
   "outputs": [],
   "source": [
    "kickstarter = kickstarter.drop(columns = 'category')"
   ]
  },
  {
   "cell_type": "code",
   "execution_count": 47,
   "metadata": {},
   "outputs": [
    {
     "data": {
      "text/plain": [
       "music           30147\n",
       "film & video    28848\n",
       "technology      24382\n",
       "art             22350\n",
       "publishing      18071\n",
       "food            16297\n",
       "fashion         14051\n",
       "games           13099\n",
       "comics           9372\n",
       "theater          7050\n",
       "photography      6316\n",
       "design           6268\n",
       "crafts           4725\n",
       "journalism       3777\n",
       "dance            2296\n",
       "Name: main_category, dtype: int64"
      ]
     },
     "execution_count": 47,
     "metadata": {},
     "output_type": "execute_result"
    }
   ],
   "source": [
    "kickstarter['main_category'].value_counts()"
   ]
  },
  {
   "cell_type": "code",
   "execution_count": 48,
   "metadata": {},
   "outputs": [],
   "source": [
    "kickstarter = pd.get_dummies(columns = ['main_category'], drop_first = True, data = kickstarter)"
   ]
  },
  {
   "cell_type": "code",
   "execution_count": 49,
   "metadata": {},
   "outputs": [
    {
     "data": {
      "text/plain": [
       "Index(['backers_count', 'converted_pledged_amount', 'country', 'created_at',\n",
       "       'currency', 'current_currency', 'deadline', 'fx_rate', 'goal', 'id',\n",
       "       'launched_at', 'location', 'name', 'pledged', 'slug', 'spotlight',\n",
       "       'staff_pick', 'state_changed_at', 'static_usd_rate', 'usd_pledged',\n",
       "       'usd_type', 'state_successful', 'child_category',\n",
       "       'main_category_comics', 'main_category_crafts', 'main_category_dance',\n",
       "       'main_category_design', 'main_category_fashion',\n",
       "       'main_category_film & video', 'main_category_food',\n",
       "       'main_category_games', 'main_category_journalism',\n",
       "       'main_category_music', 'main_category_photography',\n",
       "       'main_category_publishing', 'main_category_technology',\n",
       "       'main_category_theater'],\n",
       "      dtype='object')"
      ]
     },
     "execution_count": 49,
     "metadata": {},
     "output_type": "execute_result"
    }
   ],
   "source": [
    "kickstarter.columns"
   ]
  },
  {
   "cell_type": "code",
   "execution_count": 50,
   "metadata": {},
   "outputs": [],
   "source": [
    "kickstarter.to_csv('kickstarter_04_24_19_8_48_AM.csv', index = False)"
   ]
  },
  {
   "cell_type": "code",
   "execution_count": 55,
   "metadata": {},
   "outputs": [
    {
     "data": {
      "text/plain": [
       "US    156814\n",
       "GB     19697\n",
       "CA      8420\n",
       "AU      4364\n",
       "DE      2664\n",
       "FR      2043\n",
       "IT      1919\n",
       "NL      1682\n",
       "MX      1632\n",
       "ES      1513\n",
       "SE      1137\n",
       "NZ       832\n",
       "DK       748\n",
       "HK       545\n",
       "CH       519\n",
       "IE       519\n",
       "SG       493\n",
       "BE       448\n",
       "NO       435\n",
       "AT       385\n",
       "JP       197\n",
       "LU        43\n",
       "Name: country, dtype: int64"
      ]
     },
     "execution_count": 55,
     "metadata": {},
     "output_type": "execute_result"
    }
   ],
   "source": [
    "kickstarter['country'].value_counts()"
   ]
  },
  {
   "cell_type": "code",
   "execution_count": 70,
   "metadata": {},
   "outputs": [],
   "source": [
    "kickstarter = kickstarter.replace('LU', 'OTHER')\n",
    "        "
   ]
  },
  {
   "cell_type": "code",
   "execution_count": 71,
   "metadata": {},
   "outputs": [
    {
     "data": {
      "text/plain": [
       "US       156814\n",
       "GB        19697\n",
       "CA         8420\n",
       "OTHER      7814\n",
       "AU         4364\n",
       "DE         2664\n",
       "FR         2043\n",
       "IT         1919\n",
       "NL         1682\n",
       "MX         1632\n",
       "Name: country, dtype: int64"
      ]
     },
     "execution_count": 71,
     "metadata": {},
     "output_type": "execute_result"
    }
   ],
   "source": [
    "kickstarter['country'].value_counts()"
   ]
  },
  {
   "cell_type": "code",
   "execution_count": 72,
   "metadata": {},
   "outputs": [
    {
     "data": {
      "text/plain": [
       "Index(['backers_count', 'converted_pledged_amount', 'country', 'created_at',\n",
       "       'currency', 'current_currency', 'deadline', 'fx_rate', 'goal', 'id',\n",
       "       'launched_at', 'location', 'name', 'pledged', 'slug', 'spotlight',\n",
       "       'staff_pick', 'state_changed_at', 'static_usd_rate', 'usd_pledged',\n",
       "       'usd_type', 'state_successful', 'child_category',\n",
       "       'main_category_comics', 'main_category_crafts', 'main_category_dance',\n",
       "       'main_category_design', 'main_category_fashion',\n",
       "       'main_category_film & video', 'main_category_food',\n",
       "       'main_category_games', 'main_category_journalism',\n",
       "       'main_category_music', 'main_category_photography',\n",
       "       'main_category_publishing', 'main_category_technology',\n",
       "       'main_category_theater'],\n",
       "      dtype='object')"
      ]
     },
     "execution_count": 72,
     "metadata": {},
     "output_type": "execute_result"
    }
   ],
   "source": [
    "kickstarter.columns"
   ]
  },
  {
   "cell_type": "code",
   "execution_count": 73,
   "metadata": {},
   "outputs": [],
   "source": [
    "kickstarter = pd.get_dummies(columns = ['country'], drop_first = True, data = kickstarter)"
   ]
  },
  {
   "cell_type": "code",
   "execution_count": 74,
   "metadata": {},
   "outputs": [
    {
     "data": {
      "text/plain": [
       "Index(['backers_count', 'converted_pledged_amount', 'created_at', 'currency',\n",
       "       'current_currency', 'deadline', 'fx_rate', 'goal', 'id', 'launched_at',\n",
       "       'location', 'name', 'pledged', 'slug', 'spotlight', 'staff_pick',\n",
       "       'state_changed_at', 'static_usd_rate', 'usd_pledged', 'usd_type',\n",
       "       'state_successful', 'child_category', 'main_category_comics',\n",
       "       'main_category_crafts', 'main_category_dance', 'main_category_design',\n",
       "       'main_category_fashion', 'main_category_film & video',\n",
       "       'main_category_food', 'main_category_games', 'main_category_journalism',\n",
       "       'main_category_music', 'main_category_photography',\n",
       "       'main_category_publishing', 'main_category_technology',\n",
       "       'main_category_theater', 'country_CA', 'country_DE', 'country_FR',\n",
       "       'country_GB', 'country_IT', 'country_MX', 'country_NL', 'country_OTHER',\n",
       "       'country_US'],\n",
       "      dtype='object')"
      ]
     },
     "execution_count": 74,
     "metadata": {},
     "output_type": "execute_result"
    }
   ],
   "source": [
    "kickstarter.columns"
   ]
  },
  {
   "cell_type": "code",
   "execution_count": 75,
   "metadata": {},
   "outputs": [
    {
     "data": {
      "text/html": [
       "<div>\n",
       "<style scoped>\n",
       "    .dataframe tbody tr th:only-of-type {\n",
       "        vertical-align: middle;\n",
       "    }\n",
       "\n",
       "    .dataframe tbody tr th {\n",
       "        vertical-align: top;\n",
       "    }\n",
       "\n",
       "    .dataframe thead th {\n",
       "        text-align: right;\n",
       "    }\n",
       "</style>\n",
       "<table border=\"1\" class=\"dataframe\">\n",
       "  <thead>\n",
       "    <tr style=\"text-align: right;\">\n",
       "      <th></th>\n",
       "      <th>backers_count</th>\n",
       "      <th>converted_pledged_amount</th>\n",
       "      <th>created_at</th>\n",
       "      <th>deadline</th>\n",
       "      <th>fx_rate</th>\n",
       "      <th>goal</th>\n",
       "      <th>id</th>\n",
       "      <th>launched_at</th>\n",
       "      <th>pledged</th>\n",
       "      <th>state_changed_at</th>\n",
       "      <th>...</th>\n",
       "      <th>main_category_theater</th>\n",
       "      <th>country_CA</th>\n",
       "      <th>country_DE</th>\n",
       "      <th>country_FR</th>\n",
       "      <th>country_GB</th>\n",
       "      <th>country_IT</th>\n",
       "      <th>country_MX</th>\n",
       "      <th>country_NL</th>\n",
       "      <th>country_OTHER</th>\n",
       "      <th>country_US</th>\n",
       "    </tr>\n",
       "  </thead>\n",
       "  <tbody>\n",
       "    <tr>\n",
       "      <th>count</th>\n",
       "      <td>207049.000000</td>\n",
       "      <td>2.070490e+05</td>\n",
       "      <td>2.070490e+05</td>\n",
       "      <td>2.070490e+05</td>\n",
       "      <td>207049.000000</td>\n",
       "      <td>2.070490e+05</td>\n",
       "      <td>2.070490e+05</td>\n",
       "      <td>2.070490e+05</td>\n",
       "      <td>2.070490e+05</td>\n",
       "      <td>2.070490e+05</td>\n",
       "      <td>...</td>\n",
       "      <td>207049.000000</td>\n",
       "      <td>207049.000000</td>\n",
       "      <td>207049.000000</td>\n",
       "      <td>207049.000000</td>\n",
       "      <td>207049.000000</td>\n",
       "      <td>207049.000000</td>\n",
       "      <td>207049.000000</td>\n",
       "      <td>207049.000000</td>\n",
       "      <td>207049.000000</td>\n",
       "      <td>207049.000000</td>\n",
       "    </tr>\n",
       "    <tr>\n",
       "      <th>mean</th>\n",
       "      <td>136.686683</td>\n",
       "      <td>1.157873e+04</td>\n",
       "      <td>1.427366e+09</td>\n",
       "      <td>1.434036e+09</td>\n",
       "      <td>0.999263</td>\n",
       "      <td>4.414080e+04</td>\n",
       "      <td>1.074044e+09</td>\n",
       "      <td>1.431167e+09</td>\n",
       "      <td>1.416369e+04</td>\n",
       "      <td>1.434036e+09</td>\n",
       "      <td>...</td>\n",
       "      <td>0.034050</td>\n",
       "      <td>0.040667</td>\n",
       "      <td>0.012867</td>\n",
       "      <td>0.009867</td>\n",
       "      <td>0.095132</td>\n",
       "      <td>0.009268</td>\n",
       "      <td>0.007882</td>\n",
       "      <td>0.008124</td>\n",
       "      <td>0.037740</td>\n",
       "      <td>0.757376</td>\n",
       "    </tr>\n",
       "    <tr>\n",
       "      <th>std</th>\n",
       "      <td>890.951528</td>\n",
       "      <td>8.314121e+04</td>\n",
       "      <td>6.796018e+07</td>\n",
       "      <td>6.788946e+07</td>\n",
       "      <td>0.182331</td>\n",
       "      <td>1.075333e+06</td>\n",
       "      <td>6.188918e+08</td>\n",
       "      <td>6.800383e+07</td>\n",
       "      <td>2.322216e+05</td>\n",
       "      <td>6.788947e+07</td>\n",
       "      <td>...</td>\n",
       "      <td>0.181358</td>\n",
       "      <td>0.197517</td>\n",
       "      <td>0.112699</td>\n",
       "      <td>0.098843</td>\n",
       "      <td>0.293398</td>\n",
       "      <td>0.095825</td>\n",
       "      <td>0.088431</td>\n",
       "      <td>0.089765</td>\n",
       "      <td>0.190567</td>\n",
       "      <td>0.428670</td>\n",
       "    </tr>\n",
       "    <tr>\n",
       "      <th>min</th>\n",
       "      <td>0.000000</td>\n",
       "      <td>0.000000e+00</td>\n",
       "      <td>1.240366e+09</td>\n",
       "      <td>1.241334e+09</td>\n",
       "      <td>0.008779</td>\n",
       "      <td>1.000000e-02</td>\n",
       "      <td>8.624000e+03</td>\n",
       "      <td>1.240603e+09</td>\n",
       "      <td>0.000000e+00</td>\n",
       "      <td>1.241334e+09</td>\n",
       "      <td>...</td>\n",
       "      <td>0.000000</td>\n",
       "      <td>0.000000</td>\n",
       "      <td>0.000000</td>\n",
       "      <td>0.000000</td>\n",
       "      <td>0.000000</td>\n",
       "      <td>0.000000</td>\n",
       "      <td>0.000000</td>\n",
       "      <td>0.000000</td>\n",
       "      <td>0.000000</td>\n",
       "      <td>0.000000</td>\n",
       "    </tr>\n",
       "    <tr>\n",
       "      <th>25%</th>\n",
       "      <td>3.000000</td>\n",
       "      <td>9.100000e+01</td>\n",
       "      <td>1.381315e+09</td>\n",
       "      <td>1.390241e+09</td>\n",
       "      <td>1.000000</td>\n",
       "      <td>1.500000e+03</td>\n",
       "      <td>5.371622e+08</td>\n",
       "      <td>1.387385e+09</td>\n",
       "      <td>9.700000e+01</td>\n",
       "      <td>1.390241e+09</td>\n",
       "      <td>...</td>\n",
       "      <td>0.000000</td>\n",
       "      <td>0.000000</td>\n",
       "      <td>0.000000</td>\n",
       "      <td>0.000000</td>\n",
       "      <td>0.000000</td>\n",
       "      <td>0.000000</td>\n",
       "      <td>0.000000</td>\n",
       "      <td>0.000000</td>\n",
       "      <td>0.000000</td>\n",
       "      <td>1.000000</td>\n",
       "    </tr>\n",
       "    <tr>\n",
       "      <th>50%</th>\n",
       "      <td>24.000000</td>\n",
       "      <td>1.367000e+03</td>\n",
       "      <td>1.429378e+09</td>\n",
       "      <td>1.435730e+09</td>\n",
       "      <td>1.000000</td>\n",
       "      <td>5.000000e+03</td>\n",
       "      <td>1.075551e+09</td>\n",
       "      <td>1.432849e+09</td>\n",
       "      <td>1.372000e+03</td>\n",
       "      <td>1.435730e+09</td>\n",
       "      <td>...</td>\n",
       "      <td>0.000000</td>\n",
       "      <td>0.000000</td>\n",
       "      <td>0.000000</td>\n",
       "      <td>0.000000</td>\n",
       "      <td>0.000000</td>\n",
       "      <td>0.000000</td>\n",
       "      <td>0.000000</td>\n",
       "      <td>0.000000</td>\n",
       "      <td>0.000000</td>\n",
       "      <td>1.000000</td>\n",
       "    </tr>\n",
       "    <tr>\n",
       "      <th>75%</th>\n",
       "      <td>82.000000</td>\n",
       "      <td>6.000000e+03</td>\n",
       "      <td>1.484225e+09</td>\n",
       "      <td>1.490839e+09</td>\n",
       "      <td>1.000000</td>\n",
       "      <td>1.500000e+04</td>\n",
       "      <td>1.608816e+09</td>\n",
       "      <td>1.488207e+09</td>\n",
       "      <td>6.078000e+03</td>\n",
       "      <td>1.490839e+09</td>\n",
       "      <td>...</td>\n",
       "      <td>0.000000</td>\n",
       "      <td>0.000000</td>\n",
       "      <td>0.000000</td>\n",
       "      <td>0.000000</td>\n",
       "      <td>0.000000</td>\n",
       "      <td>0.000000</td>\n",
       "      <td>0.000000</td>\n",
       "      <td>0.000000</td>\n",
       "      <td>0.000000</td>\n",
       "      <td>1.000000</td>\n",
       "    </tr>\n",
       "    <tr>\n",
       "      <th>max</th>\n",
       "      <td>105857.000000</td>\n",
       "      <td>8.596474e+06</td>\n",
       "      <td>1.551738e+09</td>\n",
       "      <td>1.552534e+09</td>\n",
       "      <td>1.785406</td>\n",
       "      <td>1.000000e+08</td>\n",
       "      <td>2.147476e+09</td>\n",
       "      <td>1.551752e+09</td>\n",
       "      <td>8.103074e+07</td>\n",
       "      <td>1.552534e+09</td>\n",
       "      <td>...</td>\n",
       "      <td>1.000000</td>\n",
       "      <td>1.000000</td>\n",
       "      <td>1.000000</td>\n",
       "      <td>1.000000</td>\n",
       "      <td>1.000000</td>\n",
       "      <td>1.000000</td>\n",
       "      <td>1.000000</td>\n",
       "      <td>1.000000</td>\n",
       "      <td>1.000000</td>\n",
       "      <td>1.000000</td>\n",
       "    </tr>\n",
       "  </tbody>\n",
       "</table>\n",
       "<p>8 rows × 36 columns</p>\n",
       "</div>"
      ],
      "text/plain": [
       "       backers_count  converted_pledged_amount    created_at      deadline  \\\n",
       "count  207049.000000              2.070490e+05  2.070490e+05  2.070490e+05   \n",
       "mean      136.686683              1.157873e+04  1.427366e+09  1.434036e+09   \n",
       "std       890.951528              8.314121e+04  6.796018e+07  6.788946e+07   \n",
       "min         0.000000              0.000000e+00  1.240366e+09  1.241334e+09   \n",
       "25%         3.000000              9.100000e+01  1.381315e+09  1.390241e+09   \n",
       "50%        24.000000              1.367000e+03  1.429378e+09  1.435730e+09   \n",
       "75%        82.000000              6.000000e+03  1.484225e+09  1.490839e+09   \n",
       "max    105857.000000              8.596474e+06  1.551738e+09  1.552534e+09   \n",
       "\n",
       "             fx_rate          goal            id   launched_at       pledged  \\\n",
       "count  207049.000000  2.070490e+05  2.070490e+05  2.070490e+05  2.070490e+05   \n",
       "mean        0.999263  4.414080e+04  1.074044e+09  1.431167e+09  1.416369e+04   \n",
       "std         0.182331  1.075333e+06  6.188918e+08  6.800383e+07  2.322216e+05   \n",
       "min         0.008779  1.000000e-02  8.624000e+03  1.240603e+09  0.000000e+00   \n",
       "25%         1.000000  1.500000e+03  5.371622e+08  1.387385e+09  9.700000e+01   \n",
       "50%         1.000000  5.000000e+03  1.075551e+09  1.432849e+09  1.372000e+03   \n",
       "75%         1.000000  1.500000e+04  1.608816e+09  1.488207e+09  6.078000e+03   \n",
       "max         1.785406  1.000000e+08  2.147476e+09  1.551752e+09  8.103074e+07   \n",
       "\n",
       "       state_changed_at  ...  main_category_theater     country_CA  \\\n",
       "count      2.070490e+05  ...          207049.000000  207049.000000   \n",
       "mean       1.434036e+09  ...               0.034050       0.040667   \n",
       "std        6.788947e+07  ...               0.181358       0.197517   \n",
       "min        1.241334e+09  ...               0.000000       0.000000   \n",
       "25%        1.390241e+09  ...               0.000000       0.000000   \n",
       "50%        1.435730e+09  ...               0.000000       0.000000   \n",
       "75%        1.490839e+09  ...               0.000000       0.000000   \n",
       "max        1.552534e+09  ...               1.000000       1.000000   \n",
       "\n",
       "          country_DE     country_FR     country_GB     country_IT  \\\n",
       "count  207049.000000  207049.000000  207049.000000  207049.000000   \n",
       "mean        0.012867       0.009867       0.095132       0.009268   \n",
       "std         0.112699       0.098843       0.293398       0.095825   \n",
       "min         0.000000       0.000000       0.000000       0.000000   \n",
       "25%         0.000000       0.000000       0.000000       0.000000   \n",
       "50%         0.000000       0.000000       0.000000       0.000000   \n",
       "75%         0.000000       0.000000       0.000000       0.000000   \n",
       "max         1.000000       1.000000       1.000000       1.000000   \n",
       "\n",
       "          country_MX     country_NL  country_OTHER     country_US  \n",
       "count  207049.000000  207049.000000  207049.000000  207049.000000  \n",
       "mean        0.007882       0.008124       0.037740       0.757376  \n",
       "std         0.088431       0.089765       0.190567       0.428670  \n",
       "min         0.000000       0.000000       0.000000       0.000000  \n",
       "25%         0.000000       0.000000       0.000000       1.000000  \n",
       "50%         0.000000       0.000000       0.000000       1.000000  \n",
       "75%         0.000000       0.000000       0.000000       1.000000  \n",
       "max         1.000000       1.000000       1.000000       1.000000  \n",
       "\n",
       "[8 rows x 36 columns]"
      ]
     },
     "execution_count": 75,
     "metadata": {},
     "output_type": "execute_result"
    }
   ],
   "source": [
    "kickstarter.describe()"
   ]
  },
  {
   "cell_type": "code",
   "execution_count": 78,
   "metadata": {},
   "outputs": [
    {
     "data": {
      "text/plain": [
       "False    181545\n",
       "True      25504\n",
       "Name: staff_pick, dtype: int64"
      ]
     },
     "execution_count": 78,
     "metadata": {},
     "output_type": "execute_result"
    }
   ],
   "source": [
    "kickstarter['staff_pick'].value_counts()"
   ]
  },
  {
   "cell_type": "code",
   "execution_count": 79,
   "metadata": {},
   "outputs": [],
   "source": [
    "kickstarter = pd.get_dummies(columns = ['staff_pick'], drop_first = True, data = kickstarter)"
   ]
  },
  {
   "cell_type": "code",
   "execution_count": 80,
   "metadata": {},
   "outputs": [],
   "source": [
    "kickstarter = pd.get_dummies(columns = ['spotlight'], drop_first = True, data = kickstarter)"
   ]
  },
  {
   "cell_type": "code",
   "execution_count": 81,
   "metadata": {},
   "outputs": [
    {
     "data": {
      "text/plain": [
       "Index(['backers_count', 'converted_pledged_amount', 'created_at', 'currency',\n",
       "       'current_currency', 'deadline', 'fx_rate', 'goal', 'id', 'launched_at',\n",
       "       'location', 'name', 'pledged', 'slug', 'state_changed_at',\n",
       "       'static_usd_rate', 'usd_pledged', 'usd_type', 'state_successful',\n",
       "       'child_category', 'main_category_comics', 'main_category_crafts',\n",
       "       'main_category_dance', 'main_category_design', 'main_category_fashion',\n",
       "       'main_category_film & video', 'main_category_food',\n",
       "       'main_category_games', 'main_category_journalism',\n",
       "       'main_category_music', 'main_category_photography',\n",
       "       'main_category_publishing', 'main_category_technology',\n",
       "       'main_category_theater', 'country_CA', 'country_DE', 'country_FR',\n",
       "       'country_GB', 'country_IT', 'country_MX', 'country_NL', 'country_OTHER',\n",
       "       'country_US', 'staff_pick_True', 'spotlight_True'],\n",
       "      dtype='object')"
      ]
     },
     "execution_count": 81,
     "metadata": {},
     "output_type": "execute_result"
    }
   ],
   "source": [
    "kickstarter.columns"
   ]
  },
  {
   "cell_type": "code",
   "execution_count": 83,
   "metadata": {},
   "outputs": [
    {
     "data": {
      "text/plain": [
       "1    112120\n",
       "0     94929\n",
       "Name: state_successful, dtype: int64"
      ]
     },
     "execution_count": 83,
     "metadata": {},
     "output_type": "execute_result"
    }
   ],
   "source": [
    "kickstarter['state_successful'].value_counts()"
   ]
  },
  {
   "cell_type": "code",
   "execution_count": 86,
   "metadata": {},
   "outputs": [],
   "source": [
    "kickstarter.to_csv('kickstarter_with_all_money_04_24_19_11_16_AM.csv', index = False)"
   ]
  },
  {
   "cell_type": "code",
   "execution_count": 90,
   "metadata": {},
   "outputs": [],
   "source": [
    "kickstarter = kickstarter.drop(columns = ['currency', 'current_currency', 'fx_rate',  'pledged', 'static_usd_rate', 'usd_pledged', 'usd_type'])"
   ]
  },
  {
   "cell_type": "code",
   "execution_count": 91,
   "metadata": {},
   "outputs": [
    {
     "data": {
      "text/plain": [
       "Index(['backers_count', 'converted_pledged_amount', 'created_at', 'deadline',\n",
       "       'goal', 'id', 'launched_at', 'location', 'name', 'slug',\n",
       "       'state_changed_at', 'state_successful', 'child_category',\n",
       "       'main_category_comics', 'main_category_crafts', 'main_category_dance',\n",
       "       'main_category_design', 'main_category_fashion',\n",
       "       'main_category_film & video', 'main_category_food',\n",
       "       'main_category_games', 'main_category_journalism',\n",
       "       'main_category_music', 'main_category_photography',\n",
       "       'main_category_publishing', 'main_category_technology',\n",
       "       'main_category_theater', 'country_CA', 'country_DE', 'country_FR',\n",
       "       'country_GB', 'country_IT', 'country_MX', 'country_NL', 'country_OTHER',\n",
       "       'country_US', 'staff_pick_True', 'spotlight_True'],\n",
       "      dtype='object')"
      ]
     },
     "execution_count": 91,
     "metadata": {},
     "output_type": "execute_result"
    }
   ],
   "source": [
    "kickstarter.columns"
   ]
  },
  {
   "cell_type": "code",
   "execution_count": 95,
   "metadata": {},
   "outputs": [],
   "source": [
    "kickstarter = kickstarter.drop(columns = 'name')"
   ]
  },
  {
   "cell_type": "code",
   "execution_count": 96,
   "metadata": {},
   "outputs": [
    {
     "data": {
      "text/html": [
       "<div>\n",
       "<style scoped>\n",
       "    .dataframe tbody tr th:only-of-type {\n",
       "        vertical-align: middle;\n",
       "    }\n",
       "\n",
       "    .dataframe tbody tr th {\n",
       "        vertical-align: top;\n",
       "    }\n",
       "\n",
       "    .dataframe thead th {\n",
       "        text-align: right;\n",
       "    }\n",
       "</style>\n",
       "<table border=\"1\" class=\"dataframe\">\n",
       "  <thead>\n",
       "    <tr style=\"text-align: right;\">\n",
       "      <th></th>\n",
       "      <th>created_at</th>\n",
       "      <th>deadline</th>\n",
       "      <th>launched_at</th>\n",
       "      <th>state_changed_at</th>\n",
       "    </tr>\n",
       "  </thead>\n",
       "  <tbody>\n",
       "    <tr>\n",
       "      <th>0</th>\n",
       "      <td>1473631551</td>\n",
       "      <td>1480966943</td>\n",
       "      <td>1478371343</td>\n",
       "      <td>1480966943</td>\n",
       "    </tr>\n",
       "    <tr>\n",
       "      <th>1</th>\n",
       "      <td>1436540372</td>\n",
       "      <td>1440417634</td>\n",
       "      <td>1437480034</td>\n",
       "      <td>1440417634</td>\n",
       "    </tr>\n",
       "    <tr>\n",
       "      <th>2</th>\n",
       "      <td>1427218874</td>\n",
       "      <td>1431706954</td>\n",
       "      <td>1429114954</td>\n",
       "      <td>1431706954</td>\n",
       "    </tr>\n",
       "    <tr>\n",
       "      <th>3</th>\n",
       "      <td>1495110632</td>\n",
       "      <td>1500217383</td>\n",
       "      <td>1496329383</td>\n",
       "      <td>1500217384</td>\n",
       "    </tr>\n",
       "    <tr>\n",
       "      <th>4</th>\n",
       "      <td>1497146525</td>\n",
       "      <td>1504984630</td>\n",
       "      <td>1502392630</td>\n",
       "      <td>1504984630</td>\n",
       "    </tr>\n",
       "    <tr>\n",
       "      <th>5</th>\n",
       "      <td>1439865413</td>\n",
       "      <td>1445203037</td>\n",
       "      <td>1440019037</td>\n",
       "      <td>1445203037</td>\n",
       "    </tr>\n",
       "    <tr>\n",
       "      <th>6</th>\n",
       "      <td>1338911191</td>\n",
       "      <td>1344432241</td>\n",
       "      <td>1341840241</td>\n",
       "      <td>1344432241</td>\n",
       "    </tr>\n",
       "    <tr>\n",
       "      <th>7</th>\n",
       "      <td>1410125022</td>\n",
       "      <td>1412901292</td>\n",
       "      <td>1410309292</td>\n",
       "      <td>1412901292</td>\n",
       "    </tr>\n",
       "    <tr>\n",
       "      <th>8</th>\n",
       "      <td>1445387359</td>\n",
       "      <td>1449241515</td>\n",
       "      <td>1446649515</td>\n",
       "      <td>1449241515</td>\n",
       "    </tr>\n",
       "    <tr>\n",
       "      <th>9</th>\n",
       "      <td>1474759392</td>\n",
       "      <td>1480110638</td>\n",
       "      <td>1474923038</td>\n",
       "      <td>1480110638</td>\n",
       "    </tr>\n",
       "    <tr>\n",
       "      <th>10</th>\n",
       "      <td>1398137110</td>\n",
       "      <td>1400872621</td>\n",
       "      <td>1398280621</td>\n",
       "      <td>1400872621</td>\n",
       "    </tr>\n",
       "    <tr>\n",
       "      <th>11</th>\n",
       "      <td>1424299285</td>\n",
       "      <td>1432662659</td>\n",
       "      <td>1429638659</td>\n",
       "      <td>1432662664</td>\n",
       "    </tr>\n",
       "    <tr>\n",
       "      <th>12</th>\n",
       "      <td>1459735088</td>\n",
       "      <td>1467394435</td>\n",
       "      <td>1466184835</td>\n",
       "      <td>1467394436</td>\n",
       "    </tr>\n",
       "    <tr>\n",
       "      <th>13</th>\n",
       "      <td>1480452895</td>\n",
       "      <td>1483052494</td>\n",
       "      <td>1480460494</td>\n",
       "      <td>1483052494</td>\n",
       "    </tr>\n",
       "    <tr>\n",
       "      <th>14</th>\n",
       "      <td>1475172139</td>\n",
       "      <td>1479483160</td>\n",
       "      <td>1476887560</td>\n",
       "      <td>1479483160</td>\n",
       "    </tr>\n",
       "    <tr>\n",
       "      <th>15</th>\n",
       "      <td>1465292207</td>\n",
       "      <td>1468067383</td>\n",
       "      <td>1465475383</td>\n",
       "      <td>1468067383</td>\n",
       "    </tr>\n",
       "    <tr>\n",
       "      <th>16</th>\n",
       "      <td>1485875237</td>\n",
       "      <td>1488470477</td>\n",
       "      <td>1485878477</td>\n",
       "      <td>1488470478</td>\n",
       "    </tr>\n",
       "    <tr>\n",
       "      <th>17</th>\n",
       "      <td>1504062400</td>\n",
       "      <td>1506830400</td>\n",
       "      <td>1504118575</td>\n",
       "      <td>1506830400</td>\n",
       "    </tr>\n",
       "    <tr>\n",
       "      <th>18</th>\n",
       "      <td>1430644143</td>\n",
       "      <td>1431249706</td>\n",
       "      <td>1430644906</td>\n",
       "      <td>1431249707</td>\n",
       "    </tr>\n",
       "    <tr>\n",
       "      <th>19</th>\n",
       "      <td>1360725811</td>\n",
       "      <td>1363400580</td>\n",
       "      <td>1360899697</td>\n",
       "      <td>1363400583</td>\n",
       "    </tr>\n",
       "    <tr>\n",
       "      <th>20</th>\n",
       "      <td>1399246304</td>\n",
       "      <td>1402071452</td>\n",
       "      <td>1399479452</td>\n",
       "      <td>1402071452</td>\n",
       "    </tr>\n",
       "    <tr>\n",
       "      <th>21</th>\n",
       "      <td>1409418805</td>\n",
       "      <td>1412602664</td>\n",
       "      <td>1410010664</td>\n",
       "      <td>1412602665</td>\n",
       "    </tr>\n",
       "    <tr>\n",
       "      <th>22</th>\n",
       "      <td>1518673534</td>\n",
       "      <td>1521363894</td>\n",
       "      <td>1518775494</td>\n",
       "      <td>1521363894</td>\n",
       "    </tr>\n",
       "    <tr>\n",
       "      <th>23</th>\n",
       "      <td>1511921158</td>\n",
       "      <td>1514783995</td>\n",
       "      <td>1511932795</td>\n",
       "      <td>1514783995</td>\n",
       "    </tr>\n",
       "    <tr>\n",
       "      <th>24</th>\n",
       "      <td>1340041412</td>\n",
       "      <td>1343749042</td>\n",
       "      <td>1340725042</td>\n",
       "      <td>1343749042</td>\n",
       "    </tr>\n",
       "    <tr>\n",
       "      <th>25</th>\n",
       "      <td>1331665465</td>\n",
       "      <td>1338266435</td>\n",
       "      <td>1336538435</td>\n",
       "      <td>1338266435</td>\n",
       "    </tr>\n",
       "    <tr>\n",
       "      <th>26</th>\n",
       "      <td>1467350092</td>\n",
       "      <td>1471621787</td>\n",
       "      <td>1469029787</td>\n",
       "      <td>1471621787</td>\n",
       "    </tr>\n",
       "    <tr>\n",
       "      <th>27</th>\n",
       "      <td>1479513527</td>\n",
       "      <td>1480305600</td>\n",
       "      <td>1479547850</td>\n",
       "      <td>1480305600</td>\n",
       "    </tr>\n",
       "    <tr>\n",
       "      <th>28</th>\n",
       "      <td>1426127246</td>\n",
       "      <td>1428723632</td>\n",
       "      <td>1426131632</td>\n",
       "      <td>1428723635</td>\n",
       "    </tr>\n",
       "    <tr>\n",
       "      <th>29</th>\n",
       "      <td>1459732160</td>\n",
       "      <td>1466998320</td>\n",
       "      <td>1464045840</td>\n",
       "      <td>1466998320</td>\n",
       "    </tr>\n",
       "    <tr>\n",
       "      <th>...</th>\n",
       "      <td>...</td>\n",
       "      <td>...</td>\n",
       "      <td>...</td>\n",
       "      <td>...</td>\n",
       "    </tr>\n",
       "    <tr>\n",
       "      <th>207019</th>\n",
       "      <td>1540258325</td>\n",
       "      <td>1542430740</td>\n",
       "      <td>1541453101</td>\n",
       "      <td>1542430740</td>\n",
       "    </tr>\n",
       "    <tr>\n",
       "      <th>207020</th>\n",
       "      <td>1540202139</td>\n",
       "      <td>1542970203</td>\n",
       "      <td>1540374603</td>\n",
       "      <td>1542970204</td>\n",
       "    </tr>\n",
       "    <tr>\n",
       "      <th>207021</th>\n",
       "      <td>1539812239</td>\n",
       "      <td>1542496917</td>\n",
       "      <td>1539901317</td>\n",
       "      <td>1542496919</td>\n",
       "    </tr>\n",
       "    <tr>\n",
       "      <th>207022</th>\n",
       "      <td>1540912969</td>\n",
       "      <td>1543677123</td>\n",
       "      <td>1541081523</td>\n",
       "      <td>1543677125</td>\n",
       "    </tr>\n",
       "    <tr>\n",
       "      <th>207023</th>\n",
       "      <td>1536605283</td>\n",
       "      <td>1544220000</td>\n",
       "      <td>1541975065</td>\n",
       "      <td>1544220079</td>\n",
       "    </tr>\n",
       "    <tr>\n",
       "      <th>207024</th>\n",
       "      <td>1534246371</td>\n",
       "      <td>1542596400</td>\n",
       "      <td>1540810823</td>\n",
       "      <td>1542596402</td>\n",
       "    </tr>\n",
       "    <tr>\n",
       "      <th>207025</th>\n",
       "      <td>1540319523</td>\n",
       "      <td>1543035540</td>\n",
       "      <td>1540335988</td>\n",
       "      <td>1543035542</td>\n",
       "    </tr>\n",
       "    <tr>\n",
       "      <th>207026</th>\n",
       "      <td>1540755943</td>\n",
       "      <td>1543921140</td>\n",
       "      <td>1541545282</td>\n",
       "      <td>1543921140</td>\n",
       "    </tr>\n",
       "    <tr>\n",
       "      <th>207027</th>\n",
       "      <td>1529463716</td>\n",
       "      <td>1532928518</td>\n",
       "      <td>1529472518</td>\n",
       "      <td>1532928518</td>\n",
       "    </tr>\n",
       "    <tr>\n",
       "      <th>207028</th>\n",
       "      <td>1537211275</td>\n",
       "      <td>1543759458</td>\n",
       "      <td>1541163858</td>\n",
       "      <td>1543759458</td>\n",
       "    </tr>\n",
       "    <tr>\n",
       "      <th>207029</th>\n",
       "      <td>1539342557</td>\n",
       "      <td>1542991434</td>\n",
       "      <td>1540309434</td>\n",
       "      <td>1542991435</td>\n",
       "    </tr>\n",
       "    <tr>\n",
       "      <th>207030</th>\n",
       "      <td>1540104965</td>\n",
       "      <td>1543025346</td>\n",
       "      <td>1540429746</td>\n",
       "      <td>1543025346</td>\n",
       "    </tr>\n",
       "    <tr>\n",
       "      <th>207031</th>\n",
       "      <td>1537889744</td>\n",
       "      <td>1542992805</td>\n",
       "      <td>1540397205</td>\n",
       "      <td>1542992807</td>\n",
       "    </tr>\n",
       "    <tr>\n",
       "      <th>207032</th>\n",
       "      <td>1536062388</td>\n",
       "      <td>1542876333</td>\n",
       "      <td>1540280733</td>\n",
       "      <td>1542876333</td>\n",
       "    </tr>\n",
       "    <tr>\n",
       "      <th>207033</th>\n",
       "      <td>1538370233</td>\n",
       "      <td>1543813140</td>\n",
       "      <td>1541171989</td>\n",
       "      <td>1543813140</td>\n",
       "    </tr>\n",
       "    <tr>\n",
       "      <th>207034</th>\n",
       "      <td>1536767249</td>\n",
       "      <td>1542560241</td>\n",
       "      <td>1539964641</td>\n",
       "      <td>1542560243</td>\n",
       "    </tr>\n",
       "    <tr>\n",
       "      <th>207035</th>\n",
       "      <td>1541830434</td>\n",
       "      <td>1544153541</td>\n",
       "      <td>1542252741</td>\n",
       "      <td>1544153541</td>\n",
       "    </tr>\n",
       "    <tr>\n",
       "      <th>207036</th>\n",
       "      <td>1539225633</td>\n",
       "      <td>1544633858</td>\n",
       "      <td>1542041858</td>\n",
       "      <td>1544633858</td>\n",
       "    </tr>\n",
       "    <tr>\n",
       "      <th>207037</th>\n",
       "      <td>1539747934</td>\n",
       "      <td>1543629600</td>\n",
       "      <td>1542064984</td>\n",
       "      <td>1543629601</td>\n",
       "    </tr>\n",
       "    <tr>\n",
       "      <th>207038</th>\n",
       "      <td>1543114637</td>\n",
       "      <td>1543763289</td>\n",
       "      <td>1543158489</td>\n",
       "      <td>1543763289</td>\n",
       "    </tr>\n",
       "    <tr>\n",
       "      <th>207039</th>\n",
       "      <td>1539503348</td>\n",
       "      <td>1544508020</td>\n",
       "      <td>1541916020</td>\n",
       "      <td>1544508021</td>\n",
       "    </tr>\n",
       "    <tr>\n",
       "      <th>207040</th>\n",
       "      <td>1533989352</td>\n",
       "      <td>1542819600</td>\n",
       "      <td>1540228259</td>\n",
       "      <td>1542819600</td>\n",
       "    </tr>\n",
       "    <tr>\n",
       "      <th>207041</th>\n",
       "      <td>1534419038</td>\n",
       "      <td>1542826739</td>\n",
       "      <td>1540231139</td>\n",
       "      <td>1542826739</td>\n",
       "    </tr>\n",
       "    <tr>\n",
       "      <th>207042</th>\n",
       "      <td>1536106366</td>\n",
       "      <td>1543121940</td>\n",
       "      <td>1540343282</td>\n",
       "      <td>1543121942</td>\n",
       "    </tr>\n",
       "    <tr>\n",
       "      <th>207043</th>\n",
       "      <td>1333722349</td>\n",
       "      <td>1336104000</td>\n",
       "      <td>1334184815</td>\n",
       "      <td>1336104018</td>\n",
       "    </tr>\n",
       "    <tr>\n",
       "      <th>207044</th>\n",
       "      <td>1538398669</td>\n",
       "      <td>1542401340</td>\n",
       "      <td>1539703064</td>\n",
       "      <td>1542401342</td>\n",
       "    </tr>\n",
       "    <tr>\n",
       "      <th>207045</th>\n",
       "      <td>1333129731</td>\n",
       "      <td>1335326340</td>\n",
       "      <td>1334025793</td>\n",
       "      <td>1335326342</td>\n",
       "    </tr>\n",
       "    <tr>\n",
       "      <th>207046</th>\n",
       "      <td>1334038066</td>\n",
       "      <td>1336881540</td>\n",
       "      <td>1334193525</td>\n",
       "      <td>1336881541</td>\n",
       "    </tr>\n",
       "    <tr>\n",
       "      <th>207047</th>\n",
       "      <td>1526648959</td>\n",
       "      <td>1543993145</td>\n",
       "      <td>1541401145</td>\n",
       "      <td>1543993147</td>\n",
       "    </tr>\n",
       "    <tr>\n",
       "      <th>207048</th>\n",
       "      <td>1537116318</td>\n",
       "      <td>1544454000</td>\n",
       "      <td>1541775677</td>\n",
       "      <td>1544454000</td>\n",
       "    </tr>\n",
       "  </tbody>\n",
       "</table>\n",
       "<p>207049 rows × 4 columns</p>\n",
       "</div>"
      ],
      "text/plain": [
       "        created_at    deadline  launched_at  state_changed_at\n",
       "0       1473631551  1480966943   1478371343        1480966943\n",
       "1       1436540372  1440417634   1437480034        1440417634\n",
       "2       1427218874  1431706954   1429114954        1431706954\n",
       "3       1495110632  1500217383   1496329383        1500217384\n",
       "4       1497146525  1504984630   1502392630        1504984630\n",
       "5       1439865413  1445203037   1440019037        1445203037\n",
       "6       1338911191  1344432241   1341840241        1344432241\n",
       "7       1410125022  1412901292   1410309292        1412901292\n",
       "8       1445387359  1449241515   1446649515        1449241515\n",
       "9       1474759392  1480110638   1474923038        1480110638\n",
       "10      1398137110  1400872621   1398280621        1400872621\n",
       "11      1424299285  1432662659   1429638659        1432662664\n",
       "12      1459735088  1467394435   1466184835        1467394436\n",
       "13      1480452895  1483052494   1480460494        1483052494\n",
       "14      1475172139  1479483160   1476887560        1479483160\n",
       "15      1465292207  1468067383   1465475383        1468067383\n",
       "16      1485875237  1488470477   1485878477        1488470478\n",
       "17      1504062400  1506830400   1504118575        1506830400\n",
       "18      1430644143  1431249706   1430644906        1431249707\n",
       "19      1360725811  1363400580   1360899697        1363400583\n",
       "20      1399246304  1402071452   1399479452        1402071452\n",
       "21      1409418805  1412602664   1410010664        1412602665\n",
       "22      1518673534  1521363894   1518775494        1521363894\n",
       "23      1511921158  1514783995   1511932795        1514783995\n",
       "24      1340041412  1343749042   1340725042        1343749042\n",
       "25      1331665465  1338266435   1336538435        1338266435\n",
       "26      1467350092  1471621787   1469029787        1471621787\n",
       "27      1479513527  1480305600   1479547850        1480305600\n",
       "28      1426127246  1428723632   1426131632        1428723635\n",
       "29      1459732160  1466998320   1464045840        1466998320\n",
       "...            ...         ...          ...               ...\n",
       "207019  1540258325  1542430740   1541453101        1542430740\n",
       "207020  1540202139  1542970203   1540374603        1542970204\n",
       "207021  1539812239  1542496917   1539901317        1542496919\n",
       "207022  1540912969  1543677123   1541081523        1543677125\n",
       "207023  1536605283  1544220000   1541975065        1544220079\n",
       "207024  1534246371  1542596400   1540810823        1542596402\n",
       "207025  1540319523  1543035540   1540335988        1543035542\n",
       "207026  1540755943  1543921140   1541545282        1543921140\n",
       "207027  1529463716  1532928518   1529472518        1532928518\n",
       "207028  1537211275  1543759458   1541163858        1543759458\n",
       "207029  1539342557  1542991434   1540309434        1542991435\n",
       "207030  1540104965  1543025346   1540429746        1543025346\n",
       "207031  1537889744  1542992805   1540397205        1542992807\n",
       "207032  1536062388  1542876333   1540280733        1542876333\n",
       "207033  1538370233  1543813140   1541171989        1543813140\n",
       "207034  1536767249  1542560241   1539964641        1542560243\n",
       "207035  1541830434  1544153541   1542252741        1544153541\n",
       "207036  1539225633  1544633858   1542041858        1544633858\n",
       "207037  1539747934  1543629600   1542064984        1543629601\n",
       "207038  1543114637  1543763289   1543158489        1543763289\n",
       "207039  1539503348  1544508020   1541916020        1544508021\n",
       "207040  1533989352  1542819600   1540228259        1542819600\n",
       "207041  1534419038  1542826739   1540231139        1542826739\n",
       "207042  1536106366  1543121940   1540343282        1543121942\n",
       "207043  1333722349  1336104000   1334184815        1336104018\n",
       "207044  1538398669  1542401340   1539703064        1542401342\n",
       "207045  1333129731  1335326340   1334025793        1335326342\n",
       "207046  1334038066  1336881540   1334193525        1336881541\n",
       "207047  1526648959  1543993145   1541401145        1543993147\n",
       "207048  1537116318  1544454000   1541775677        1544454000\n",
       "\n",
       "[207049 rows x 4 columns]"
      ]
     },
     "execution_count": 96,
     "metadata": {},
     "output_type": "execute_result"
    }
   ],
   "source": [
    "kickstarter[['created_at', 'deadline', 'launched_at', 'state_changed_at']]"
   ]
  },
  {
   "cell_type": "code",
   "execution_count": null,
   "metadata": {},
   "outputs": [],
   "source": []
  }
 ],
 "metadata": {
  "kernelspec": {
   "display_name": "Python 3",
   "language": "python",
   "name": "python3"
  },
  "language_info": {
   "codemirror_mode": {
    "name": "ipython",
    "version": 3
   },
   "file_extension": ".py",
   "mimetype": "text/x-python",
   "name": "python",
   "nbconvert_exporter": "python",
   "pygments_lexer": "ipython3",
   "version": "3.7.3"
  }
 },
 "nbformat": 4,
 "nbformat_minor": 2
}
