{
 "cells": [
  {
   "cell_type": "code",
   "execution_count": 1,
   "metadata": {},
   "outputs": [],
   "source": [
    "import pandas as pd\n",
    "import numpy as np\n",
    "import matplotlib.pyplot as plt\n",
    "import seaborn as sns\n",
    "\n",
    "from sklearn.model_selection import train_test_split\n",
    "from sklearn.preprocessing import StandardScaler\n",
    "from sklearn.neighbors import KNeighborsClassifier\n",
    "from sklearn.metrics import classification_report\n",
    "from sklearn.metrics import confusion_matrix\n",
    "from sklearn.metrics import roc_auc_score, roc_curve\n",
    "from sklearn.metrics import roc_curve, auc\n",
    "from sklearn.linear_model import LogisticRegression\n",
    "from sklearn import naive_bayes\n",
    "from sklearn.svm import LinearSVC, SVC\n",
    "from sklearn.tree import DecisionTreeClassifier\n",
    "from sklearn.ensemble import RandomForestClassifier\n",
    "from sklearn.model_selection import GridSearchCV"
   ]
  },
  {
   "cell_type": "code",
   "execution_count": 2,
   "metadata": {},
   "outputs": [],
   "source": [
    "kickstarter = pd.read_csv('kickstarter_04_25_19_ready_for_modeling.csv')"
   ]
  },
  {
   "cell_type": "code",
   "execution_count": 3,
   "metadata": {},
   "outputs": [],
   "source": [
    "# Checking for class imbalance"
   ]
  },
  {
   "cell_type": "code",
   "execution_count": 4,
   "metadata": {},
   "outputs": [
    {
     "data": {
      "text/plain": [
       "<matplotlib.axes._subplots.AxesSubplot at 0x1a1fbbed30>"
      ]
     },
     "execution_count": 4,
     "metadata": {},
     "output_type": "execute_result"
    },
    {
     "data": {
      "image/png": "[encoded data removed]",
      "text/plain": [
       "<Figure size 432x288 with 1 Axes>"
      ]
     },
     "metadata": {
      "needs_background": "light"
     },
     "output_type": "display_data"
    }
   ],
   "source": [
    "sns.countplot(kickstarter['state_successful'])"
   ]
  },
  {
   "cell_type": "code",
   "execution_count": 5,
   "metadata": {},
   "outputs": [
    {
     "data": {
      "text/plain": [
       "1    112120\n",
       "0     94929\n",
       "Name: state_successful, dtype: int64"
      ]
     },
     "execution_count": 5,
     "metadata": {},
     "output_type": "execute_result"
    }
   ],
   "source": [
    "kickstarter['state_successful'].value_counts()"
   ]
  },
  {
   "cell_type": "code",
   "execution_count": 6,
   "metadata": {},
   "outputs": [
    {
     "data": {
      "text/plain": [
       "(207049, 24)"
      ]
     },
     "execution_count": 6,
     "metadata": {},
     "output_type": "execute_result"
    }
   ],
   "source": [
    "kickstarter.shape"
   ]
  },
  {
   "cell_type": "code",
   "execution_count": 7,
   "metadata": {},
   "outputs": [
    {
     "name": "stdout",
     "output_type": "stream",
     "text": [
      "0.5415143275263343\n",
      "0.4584856724736657\n"
     ]
    }
   ],
   "source": [
    "percent_success = 112120/207049\n",
    "percent_fail = 94929/207049\n",
    "print(percent_success)\n",
    "print(percent_fail)"
   ]
  },
  {
   "cell_type": "code",
   "execution_count": 8,
   "metadata": {},
   "outputs": [],
   "source": [
    "# the classes appear to be pretty well balanced already so we're going to proceed."
   ]
  },
  {
   "cell_type": "code",
   "execution_count": 9,
   "metadata": {},
   "outputs": [
    {
     "data": {
      "text/plain": [
       "Index(['id', 'slug', 'state_successful', 'goal', 'staff_pick_True',\n",
       "       'cam_length', 'blurb_length', 'country_US', 'main_category_comics',\n",
       "       'main_category_crafts', 'main_category_dance', 'main_category_design',\n",
       "       'main_category_fashion', 'main_category_film & video',\n",
       "       'main_category_food', 'main_category_games', 'main_category_journalism',\n",
       "       'main_category_music', 'main_category_photography',\n",
       "       'main_category_publishing', 'main_category_technology',\n",
       "       'main_category_theater', 'location', 'child_category'],\n",
       "      dtype='object')"
      ]
     },
     "execution_count": 9,
     "metadata": {},
     "output_type": "execute_result"
    }
   ],
   "source": [
    "kickstarter.columns"
   ]
  },
  {
   "cell_type": "code",
   "execution_count": 10,
   "metadata": {},
   "outputs": [],
   "source": [
    "X = kickstarter[['goal', 'staff_pick_True',\n",
    "       'cam_length', 'blurb_length', 'country_US', 'main_category_comics',\n",
    "       'main_category_crafts', 'main_category_dance', 'main_category_design',\n",
    "       'main_category_fashion', 'main_category_film & video',\n",
    "       'main_category_food', 'main_category_games', 'main_category_journalism',\n",
    "       'main_category_music', 'main_category_photography',\n",
    "       'main_category_publishing', 'main_category_technology',\n",
    "       'main_category_theater']]\n",
    "y = kickstarter['state_successful']"
   ]
  },
  {
   "cell_type": "code",
   "execution_count": 11,
   "metadata": {},
   "outputs": [
    {
     "name": "stderr",
     "output_type": "stream",
     "text": [
      "/anaconda3/lib/python3.7/site-packages/sklearn/preprocessing/data.py:645: DataConversionWarning: Data with input dtype int64, float64 were all converted to float64 by StandardScaler.\n",
      "  return self.partial_fit(X, y)\n",
      "/anaconda3/lib/python3.7/site-packages/ipykernel_launcher.py:3: DataConversionWarning: Data with input dtype int64, float64 were all converted to float64 by StandardScaler.\n",
      "  This is separate from the ipykernel package so we can avoid doing imports until\n"
     ]
    }
   ],
   "source": [
    "scaler = StandardScaler()\n",
    "scaler.fit(X)\n",
    "X_scaled = scaler.transform(X)"
   ]
  },
  {
   "cell_type": "code",
   "execution_count": 12,
   "metadata": {},
   "outputs": [
    {
     "data": {
      "text/plain": [
       "((207049, 19), (207049,))"
      ]
     },
     "execution_count": 12,
     "metadata": {},
     "output_type": "execute_result"
    }
   ],
   "source": [
    "X.shape, y.shape"
   ]
  },
  {
   "cell_type": "code",
   "execution_count": 13,
   "metadata": {},
   "outputs": [],
   "source": [
    "X_mid, X_test, y_mid, y_test = train_test_split(X_scaled, y, test_size=0.20, random_state=42, stratify = y)"
   ]
  },
  {
   "cell_type": "code",
   "execution_count": null,
   "metadata": {},
   "outputs": [
    {
     "data": {
      "text/plain": [
       "((165639, 19), (165639,), (41410, 19), (41410,))"
      ]
     },
     "execution_count": 14,
     "metadata": {},
     "output_type": "execute_result"
    }
   ],
   "source": [
    "X_mid.shape, y_mid.shape, X_test.shape, y_test.shape"
   ]
  },
  {
   "cell_type": "code",
   "execution_count": null,
   "metadata": {},
   "outputs": [],
   "source": [
    "X_train, X_val, y_train, y_val = train_test_split(X_mid, y_mid, test_size=0.25, random_state=42, stratify = y_mid)"
   ]
  },
  {
   "cell_type": "code",
   "execution_count": null,
   "metadata": {},
   "outputs": [
    {
     "data": {
      "text/plain": [
       "((124229, 19), (124229,), (41410, 19), (41410,))"
      ]
     },
     "execution_count": 16,
     "metadata": {},
     "output_type": "execute_result"
    }
   ],
   "source": [
    "X_train.shape, y_train.shape, X_val.shape, y_val.shape"
   ]
  },
  {
   "cell_type": "code",
   "execution_count": null,
   "metadata": {},
   "outputs": [],
   "source": [
    "# running the training data through all the models with default parameters for comparison"
   ]
  },
  {
   "cell_type": "markdown",
   "metadata": {},
   "source": [
    "### KNN ###"
   ]
  },
  {
   "cell_type": "code",
   "execution_count": null,
   "metadata": {},
   "outputs": [],
   "source": [
    "knn = KNeighborsClassifier()"
   ]
  },
  {
   "cell_type": "code",
   "execution_count": null,
   "metadata": {},
   "outputs": [
    {
     "data": {
      "text/plain": [
       "KNeighborsClassifier(algorithm='auto', leaf_size=30, metric='minkowski',\n",
       "           metric_params=None, n_jobs=None, n_neighbors=5, p=2,\n",
       "           weights='uniform')"
      ]
     },
     "execution_count": 19,
     "metadata": {},
     "output_type": "execute_result"
    }
   ],
   "source": [
    "knn.fit(X_train, y_train)"
   ]
  },
  {
   "cell_type": "code",
   "execution_count": null,
   "metadata": {},
   "outputs": [],
   "source": [
    "knn_pred = knn.predict(X_val)"
   ]
  },
  {
   "cell_type": "code",
   "execution_count": null,
   "metadata": {},
   "outputs": [
    {
     "name": "stdout",
     "output_type": "stream",
     "text": [
      "KNN Results:\n",
      "[[11500  7486]\n",
      " [ 6318 16106]]\n",
      "              precision    recall  f1-score   support\n",
      "\n",
      "           0       0.65      0.61      0.62     18986\n",
      "           1       0.68      0.72      0.70     22424\n",
      "\n",
      "   micro avg       0.67      0.67      0.67     41410\n",
      "   macro avg       0.66      0.66      0.66     41410\n",
      "weighted avg       0.67      0.67      0.67     41410\n",
      "\n"
     ]
    }
   ],
   "source": [
    "print('KNN Results:')\n",
    "print(confusion_matrix(y_val,knn_pred))\n",
    "print(classification_report(y_val, knn_pred))\n",
    "print('KNN score: %f' % knn.fit(X_train, y_train).score(X_val, y_val))"
   ]
  },
  {
   "cell_type": "code",
   "execution_count": null,
   "metadata": {},
   "outputs": [],
   "source": [
    "knn_y_score = knn.predict_proba(X_val)[:, 1]\n",
    "knn_fpr, knn_tpr, knn_auc_thresholds = roc_curve(y_val, knn_y_score)\n",
    "roc_auc_knn = auc(knn_fpr, knn_tpr)\n",
    "print(auc(knn_fpr, knn_tpr))"
   ]
  },
  {
   "cell_type": "code",
   "execution_count": null,
   "metadata": {},
   "outputs": [],
   "source": [
    "plt.figure()\n",
    "lw = 2\n",
    "plt.plot(knn_fpr, knn_tpr, color='darkorange',\n",
    "         lw=lw, label='KNN curve (area = %0.2f)' % roc_auc_knn)\n",
    "plt.plot([0, 1], [0, 1], color='navy', lw=lw, linestyle='--')\n",
    "plt.xlim([0.0, 1.0])\n",
    "plt.ylim([0.0, 1.05])\n",
    "plt.xlabel('False Positive Rate')\n",
    "plt.ylabel('True Positive Rate')\n",
    "plt.title('ROC Curves')\n",
    "plt.legend(loc=\"lower right\")\n",
    "plt.show()"
   ]
  },
  {
   "cell_type": "markdown",
   "metadata": {},
   "source": [
    "### Logistic Regression ###"
   ]
  },
  {
   "cell_type": "code",
   "execution_count": null,
   "metadata": {},
   "outputs": [],
   "source": [
    "logistic = LogisticRegression()"
   ]
  },
  {
   "cell_type": "code",
   "execution_count": null,
   "metadata": {},
   "outputs": [],
   "source": [
    "logistic.fit(X_train, y_train)"
   ]
  },
  {
   "cell_type": "code",
   "execution_count": null,
   "metadata": {},
   "outputs": [],
   "source": [
    "logistic_pred = logistic.predict(X_val)"
   ]
  },
  {
   "cell_type": "code",
   "execution_count": null,
   "metadata": {},
   "outputs": [],
   "source": [
    "print('Logistic Results:')\n",
    "print(confusion_matrix(y_val,logistic_pred))\n",
    "print(classification_report(y_val, logistic_pred))\n",
    "print('Logistic score: %f' % logistic.fit(X_train, y_train).score(X_val, y_val))"
   ]
  },
  {
   "cell_type": "code",
   "execution_count": null,
   "metadata": {},
   "outputs": [],
   "source": [
    "logistic_y_score = logistic.predict_proba(X_val)[:, 1]\n",
    "logistic_fpr, logistic_tpr, logistic_auc_thresholds = roc_curve(y_val, logistic_y_score)\n",
    "roc_auc_logistic = auc(logistic_fpr, logistic_tpr)\n",
    "print(auc(logistic_fpr, logistic_tpr))"
   ]
  },
  {
   "cell_type": "code",
   "execution_count": null,
   "metadata": {},
   "outputs": [],
   "source": [
    "plt.figure(figsize=(10,10))\n",
    "lw = 2\n",
    "plt.plot(knn_fpr, knn_tpr, color='darkorange',\n",
    "         lw=lw, label='KNN curve (area = %0.2f)' % roc_auc_knn)\n",
    "plt.plot(logistic_fpr, logistic_tpr, color='darkblue',\n",
    "         lw=lw, label='Logistic curve (area = %0.2f)' % roc_auc_logistic)\n",
    "plt.plot([0, 1], [0, 1], color='navy', lw=lw, linestyle='--')\n",
    "plt.xlim([0.0, 1.0])\n",
    "plt.ylim([0.0, 1.0])\n",
    "plt.xlabel('False Positive Rate')\n",
    "plt.ylabel('True Positive Rate')\n",
    "plt.title('ROC Curves')\n",
    "plt.legend(loc=\"lower right\")\n",
    "plt.show()"
   ]
  },
  {
   "cell_type": "markdown",
   "metadata": {},
   "source": [
    "### Naive Bayes ###"
   ]
  },
  {
   "cell_type": "code",
   "execution_count": null,
   "metadata": {},
   "outputs": [],
   "source": [
    "gaussian = naive_bayes.GaussianNB()\n",
    "bernoulli = naive_bayes.BernoulliNB()"
   ]
  },
  {
   "cell_type": "code",
   "execution_count": null,
   "metadata": {},
   "outputs": [],
   "source": [
    "gaussian.fit(X_train, y_train)"
   ]
  },
  {
   "cell_type": "code",
   "execution_count": null,
   "metadata": {},
   "outputs": [],
   "source": [
    "gaussian_pred = gaussian.predict(X_val)"
   ]
  },
  {
   "cell_type": "code",
   "execution_count": null,
   "metadata": {},
   "outputs": [],
   "source": [
    "print('Gaussian Results:')\n",
    "print(confusion_matrix(y_val,gaussian_pred))\n",
    "print(classification_report(y_val, gaussian_pred))\n",
    "print('Gaussian score: %f' % gaussian.fit(X_train, y_train).score(X_val, y_val))"
   ]
  },
  {
   "cell_type": "code",
   "execution_count": null,
   "metadata": {},
   "outputs": [],
   "source": [
    "gaussian_y_score = gaussian.predict_proba(X_val)[:, 1]\n",
    "gaussian_fpr, gaussian_tpr, auc_thresholds = roc_curve(y_val, gaussian_y_score)\n",
    "roc_auc_gaussian = auc(gaussian_fpr, gaussian_tpr)\n",
    "print(auc(gaussian_fpr, gaussian_tpr))"
   ]
  },
  {
   "cell_type": "code",
   "execution_count": null,
   "metadata": {},
   "outputs": [],
   "source": [
    "plt.figure(figsize=(10,10))\n",
    "lw = 2\n",
    "plt.plot(knn_fpr, knn_tpr, color='darkorange',\n",
    "         lw=lw, label='KNN curve (area = %0.2f)' % roc_auc_knn)\n",
    "plt.plot(logistic_fpr, logistic_tpr, color='darkblue',\n",
    "         lw=lw, label='Logistic curve (area = %0.2f)' % roc_auc_logistic)\n",
    "plt.plot(gaussian_fpr, gaussian_tpr, color='darkred',\n",
    "         lw=lw, label='Gaussian NB (area = %0.2f)' % roc_auc_gaussian)\n",
    "plt.plot([0, 1], [0, 1], color='navy', lw=lw, linestyle='--')\n",
    "plt.xlim([0.0, 1.0])\n",
    "plt.ylim([0.0, 1.0])\n",
    "plt.xlabel('False Positive Rate')\n",
    "plt.ylabel('True Positive Rate')\n",
    "plt.title('ROC Curves')\n",
    "plt.legend(loc=\"lower right\")\n",
    "plt.show()"
   ]
  },
  {
   "cell_type": "code",
   "execution_count": null,
   "metadata": {},
   "outputs": [],
   "source": [
    "bernoulli.fit(X_train, y_train)"
   ]
  },
  {
   "cell_type": "code",
   "execution_count": null,
   "metadata": {},
   "outputs": [],
   "source": [
    "bernoulli_pred = bernoulli.predict(X_val)"
   ]
  },
  {
   "cell_type": "code",
   "execution_count": null,
   "metadata": {},
   "outputs": [],
   "source": [
    "print('Bernoulli Results:')\n",
    "print(confusion_matrix(y_val,bernoulli_pred))\n",
    "print(classification_report(y_val, bernoulli_pred))\n",
    "print('Bernoulli score: %f' % bernoulli.fit(X_train, y_train).score(X_val, y_val))"
   ]
  },
  {
   "cell_type": "code",
   "execution_count": null,
   "metadata": {},
   "outputs": [],
   "source": [
    "bernoulli_y_score = bernoulli.predict_proba(X_val)[:, 1]\n",
    "bernoulli_fpr, bernoulli_tpr, auc_thresholds = roc_curve(y_val, bernoulli_y_score)\n",
    "roc_auc_bernoulli = auc(bernoulli_fpr, bernoulli_tpr)\n",
    "print(auc(bernoulli_fpr, bernoulli_tpr))"
   ]
  },
  {
   "cell_type": "code",
   "execution_count": null,
   "metadata": {},
   "outputs": [],
   "source": [
    "plt.figure(figsize=(10,10))\n",
    "lw = 2\n",
    "plt.plot(logistic_fpr, logistic_tpr, color='darkblue',\n",
    "         lw=lw, label='Logistic curve (area = %0.2f)' % roc_auc_logistic)\n",
    "plt.plot(gaussian_fpr, gaussian_tpr, color='darkred',\n",
    "         lw=lw, label='Gaussian NB (area = %0.2f)' % roc_auc_gaussian)\n",
    "plt.plot(bernoulli_fpr, bernoulli_tpr, color='black',\n",
    "         lw=lw, label='Bernoulli NB (AUC = %0.2f)' % roc_auc_bernoulli)\n",
    "plt.plot(knn_fpr, knn_tpr, color='darkorange',\n",
    "         lw=lw, label='KNN curve (area = %0.2f)' % roc_auc_knn)\n",
    "plt.plot([0, 1], [0, 1], color='navy', lw=lw, linestyle='--')\n",
    "plt.xlim([0.0, 1.0])\n",
    "plt.ylim([0.0, 1.0])\n",
    "plt.xlabel('False Positive Rate')\n",
    "plt.ylabel('True Positive Rate')\n",
    "plt.title('ROC Curves')\n",
    "plt.legend(loc=\"lower right\")\n",
    "plt.show()"
   ]
  },
  {
   "cell_type": "markdown",
   "metadata": {},
   "source": [
    "### Decision Tree ###"
   ]
  },
  {
   "cell_type": "code",
   "execution_count": null,
   "metadata": {},
   "outputs": [],
   "source": [
    "tree = DecisionTreeClassifier()"
   ]
  },
  {
   "cell_type": "code",
   "execution_count": null,
   "metadata": {},
   "outputs": [],
   "source": [
    "tree.fit(X_train, y_train)"
   ]
  },
  {
   "cell_type": "code",
   "execution_count": null,
   "metadata": {},
   "outputs": [],
   "source": [
    "tree_pred = tree.predict(X_val)"
   ]
  },
  {
   "cell_type": "code",
   "execution_count": null,
   "metadata": {},
   "outputs": [],
   "source": [
    "print('Tree Results:')\n",
    "print(confusion_matrix(y_val, tree_pred))\n",
    "print(classification_report(y_val, tree_pred))\n",
    "print('Tree score: %f' % tree.fit(X_train, y_train).score(X_val, y_val))"
   ]
  },
  {
   "cell_type": "code",
   "execution_count": null,
   "metadata": {},
   "outputs": [],
   "source": [
    "tree_y_score = tree.predict_proba(X_val)[:, 1]\n",
    "tree_fpr, tree_tpr, auc_thresholds = roc_curve(y_val, tree_y_score)\n",
    "roc_auc_tree = auc(tree_fpr, tree_tpr)\n",
    "print(auc(tree_fpr, tree_tpr))"
   ]
  },
  {
   "cell_type": "code",
   "execution_count": null,
   "metadata": {},
   "outputs": [],
   "source": [
    "plt.figure(figsize=(10,10))\n",
    "lw = 2\n",
    "plt.plot(logistic_fpr, logistic_tpr, color='darkblue',\n",
    "         lw=lw, label='Logistic curve (area = %0.2f)' % roc_auc_logistic)\n",
    "plt.plot(bernoulli_fpr, bernoulli_tpr, color='black',\n",
    "         lw=lw, label='Bernoulli NB (AUC = %0.2f)' % roc_auc_bernoulli)\n",
    "plt.plot(gaussian_fpr, gaussian_tpr, color='darkred',\n",
    "         lw=lw, label='Gaussian NB (area = %0.2f)' % roc_auc_gaussian)\n",
    "plt.plot(knn_fpr, knn_tpr, color='darkorange',\n",
    "         lw=lw, label='KNN curve (area = %0.2f)' % roc_auc_knn)\n",
    "plt.plot(tree_fpr, tree_tpr, color='brown',\n",
    "         lw=lw, label='Tree (AUC = %0.2f)' % roc_auc_tree)\n",
    "plt.plot([0, 1], [0, 1], color='navy', lw=lw, linestyle='--')\n",
    "plt.xlim([0.0, 1.0])\n",
    "plt.ylim([0.0, 1.0])\n",
    "plt.xlabel('False Positive Rate')\n",
    "plt.ylabel('True Positive Rate')\n",
    "plt.title('ROC Curves')\n",
    "plt.legend(loc=\"lower right\")\n",
    "plt.show()"
   ]
  },
  {
   "cell_type": "markdown",
   "metadata": {},
   "source": [
    "### Random Forest ###"
   ]
  },
  {
   "cell_type": "code",
   "execution_count": null,
   "metadata": {},
   "outputs": [],
   "source": [
    "forest = RandomForestClassifier()"
   ]
  },
  {
   "cell_type": "code",
   "execution_count": null,
   "metadata": {},
   "outputs": [],
   "source": [
    "forest.fit(X_train, y_train)"
   ]
  },
  {
   "cell_type": "code",
   "execution_count": null,
   "metadata": {},
   "outputs": [],
   "source": [
    "forest_pred = forest.predict(X_val)"
   ]
  },
  {
   "cell_type": "code",
   "execution_count": null,
   "metadata": {},
   "outputs": [],
   "source": [
    "print('Forest Results:')\n",
    "print(confusion_matrix(y_val, tree_pred))\n",
    "print(classification_report(y_val, forest_pred))\n",
    "print('Forest score: %f' % forest.fit(X_train, y_train).score(X_val, y_val))"
   ]
  },
  {
   "cell_type": "code",
   "execution_count": null,
   "metadata": {},
   "outputs": [],
   "source": [
    "forest_y_score = forest.predict_proba(X_val)[:, 1]\n",
    "forest_fpr, forest_tpr, auc_thresholds = roc_curve(y_val, forest_y_score)\n",
    "roc_auc_forest = auc(forest_fpr, forest_tpr)\n",
    "print(auc(forest_fpr, forest_tpr))"
   ]
  },
  {
   "cell_type": "code",
   "execution_count": null,
   "metadata": {},
   "outputs": [],
   "source": [
    "plt.figure(figsize=(10,10))\n",
    "lw = 2\n",
    "\n",
    "plt.plot(logistic_fpr, logistic_tpr, color='blue',\n",
    "         lw=lw, label='Logistic curve (area = %0.2f)' % roc_auc_logistic)\n",
    "plt.plot(bernoulli_fpr, bernoulli_tpr, color='black',\n",
    "         lw=lw, label='Bernoulli NB (AUC = %0.2f)' % roc_auc_bernoulli)\n",
    "plt.plot(gaussian_fpr, gaussian_tpr, color='red',\n",
    "         lw=lw, label='Gaussian NB (area = %0.2f)' % roc_auc_gaussian)\n",
    "plt.plot(forest_fpr, forest_tpr, color='purple',\n",
    "         lw=lw, label='Random Forest (AUC = %0.2f)' % roc_auc_forest)\n",
    "plt.plot(knn_fpr, knn_tpr, color='orange',\n",
    "         lw=lw, label='KNN curve (area = %0.2f)' % roc_auc_knn)\n",
    "plt.plot(tree_fpr, tree_tpr, color='brown',\n",
    "         lw=lw, label='Decision Tree (AUC = %0.2f)' % roc_auc_tree)\n",
    "plt.plot([0, 1], [0, 1], color='navy', lw=lw, linestyle='--')\n",
    "plt.xlim([0.0, 1.0])\n",
    "plt.ylim([0.0, 1.0])\n",
    "plt.xlabel('False Positive Rate')\n",
    "plt.ylabel('True Positive Rate')\n",
    "plt.title('ROC Curves')\n",
    "plt.legend(loc=\"lower right\")\n",
    "plt.show()"
   ]
  },
  {
   "cell_type": "code",
   "execution_count": null,
   "metadata": {},
   "outputs": [],
   "source": [
    "import matplotlib.pylab as pylab\n",
    "params = {'legend.fontsize': 'x-large',\n",
    "          'figure.figsize': (15,15),\n",
    "         'axes.labelsize': 'x-large',\n",
    "         'axes.titlesize':'x-large',\n",
    "         'xtick.labelsize':'x-large',\n",
    "         'ytick.labelsize':'x-large'}\n",
    "pylab.rcParams.update(params)"
   ]
  },
  {
   "cell_type": "markdown",
   "metadata": {},
   "source": [
    "### SVM ###"
   ]
  },
  {
   "cell_type": "code",
   "execution_count": null,
   "metadata": {},
   "outputs": [],
   "source": [
    "SVC = SVC(C=10, cache_size=200, class_weight=None, coef0=0.0,\n",
    "  decision_function_shape='ovr', degree=3, gamma=0.001, kernel='rbf',\n",
    "  max_iter=-1, probability=True, random_state=None, shrinking=True,\n",
    "  tol=0.001, verbose=False)"
   ]
  },
  {
   "cell_type": "code",
   "execution_count": null,
   "metadata": {},
   "outputs": [],
   "source": [
    "SVC.fit(X_train, y_train)"
   ]
  },
  {
   "cell_type": "code",
   "execution_count": null,
   "metadata": {},
   "outputs": [],
   "source": [
    "SVC_pred = SVC.predict(X_val)"
   ]
  },
  {
   "cell_type": "code",
   "execution_count": null,
   "metadata": {},
   "outputs": [],
   "source": [
    "print('SVC Results:')\n",
    "print(confusion_matrix(y_val, SVC_pred))\n",
    "print(classification_report(y_val, SVC_pred))\n",
    "print('SVC score: %f' % SVC.fit(X_train, y_train).score(X_val, y_val))"
   ]
  },
  {
   "cell_type": "markdown",
   "metadata": {},
   "source": [
    "SVC Results:\n",
    "[[11222  7764]\n",
    " [ 5288 17136]]\n",
    "              precision    recall  f1-score   support\n",
    "\n",
    "           0       0.68      0.59      0.63     18986\n",
    "           1       0.69      0.76      0.72     22424\n",
    "\n",
    "   micro avg       0.68      0.68      0.68     41410\n",
    "   macro avg       0.68      0.68      0.68     41410\n",
    "weighted avg       0.68      0.68      0.68     41410\n",
    "\n",
    "/anaconda3/lib/python3.7/site-packages/sklearn/svm/base.py:196: FutureWarning: The default value of gamma will change from 'auto' to 'scale' in version 0.22 to account better for unscaled features. Set gamma explicitly to 'auto' or 'scale' to avoid this warning.\n",
    "  \"avoid this warning.\", FutureWarning)\n",
    "SVC score: 0.684810"
   ]
  },
  {
   "cell_type": "code",
   "execution_count": null,
   "metadata": {},
   "outputs": [],
   "source": [
    "#from sklearn.calibration import CalibratedClassifierCV\n",
    "#clf = CalibratedClassifierCV(SVC)\n",
    "#clf.fit(X_train, y_train)\n",
    "#CalibratedClassifierCV(base_estimator=SVC())"
   ]
  },
  {
   "cell_type": "code",
   "execution_count": null,
   "metadata": {},
   "outputs": [],
   "source": [
    "#SVC.probability = True"
   ]
  },
  {
   "cell_type": "code",
   "execution_count": null,
   "metadata": {},
   "outputs": [],
   "source": [
    "SVC_y_score = SVC.predict_proba(X_val)[:, 1]"
   ]
  },
  {
   "cell_type": "code",
   "execution_count": null,
   "metadata": {},
   "outputs": [],
   "source": [
    "SVC_fpr, SVC_tpr, auc_thresholds = roc_curve(y_val, SVC_y_score)\n",
    "roc_auc_SVC = auc(SVC_fpr, SVC_tpr)\n",
    "print(auc(SVC_fpr, SVC_tpr))"
   ]
  },
  {
   "cell_type": "code",
   "execution_count": null,
   "metadata": {},
   "outputs": [],
   "source": [
    "fig = plt.figure(figsize=(14,14))\n",
    "lw = 2\n",
    "\n",
    "plt.plot(logistic_fpr, logistic_tpr, color='darkblue',\n",
    "         lw=lw, label='Logistic curve (AUC = %0.2f)' % roc_auc_logistic)\n",
    "plt.plot(bernoulli_fpr, bernoulli_tpr, color='black',\n",
    "         lw=lw, label='Bernoulli NB (AUC = %0.2f)' % roc_auc_bernoulli)\n",
    "plt.plot(SVC_fpr, SVC_tpr, color='green',\n",
    "         lw=lw, label='SVM (AUC = %0.2f)' % roc_auc_SVC)\n",
    "plt.plot(gaussian_fpr, gaussian_tpr, color='darkred',\n",
    "         lw=lw, label='Gaussian NB (AUC = %0.2f)' % roc_auc_gaussian)\n",
    "plt.plot(forest_fpr, forest_tpr, color='purple',\n",
    "         lw=lw, label='Random Forest (AUC = %0.2f)' % roc_auc_forest)\n",
    "plt.plot(knn_fpr, knn_tpr, color='darkorange',\n",
    "         lw=lw, label='KNN curve (AUC = %0.2f)' % roc_auc_knn)\n",
    "plt.plot(tree_fpr, tree_tpr, color='brown',\n",
    "         lw=lw, label='Decision Tree (AUC = %0.2f)' % roc_auc_tree)\n",
    "plt.plot([0, 1], [0, 1], color='navy', lw=lw, linestyle='--')\n",
    "plt.xlim([0.0, 1.0])\n",
    "plt.ylim([0.0, 1.0])\n",
    "plt.xlabel('False Positive Rate',fontsize = 20)\n",
    "plt.ylabel('True Positive Rate', fontsize = 20)\n",
    "plt.title('ROC Curves', fontsize = 20)\n",
    "plt.legend(loc=\"lower right\", fontsize = 20)\n",
    "plt.tight_layout()\n",
    "#plt.savefig('roc_curves_all.png')\n",
    "#plt.savefig('roc_curves_svg_all.svg')\n",
    "plt.show()"
   ]
  },
  {
   "cell_type": "code",
   "execution_count": null,
   "metadata": {},
   "outputs": [],
   "source": [
    "import xgboost as xgb\n",
    "from xgboost import XGBClassifier"
   ]
  },
  {
   "cell_type": "code",
   "execution_count": null,
   "metadata": {},
   "outputs": [],
   "source": [
    "xgBoost = XGBClassifier()"
   ]
  },
  {
   "cell_type": "code",
   "execution_count": null,
   "metadata": {},
   "outputs": [],
   "source": [
    "xgBoost.fit(X_train, y_train)"
   ]
  },
  {
   "cell_type": "code",
   "execution_count": null,
   "metadata": {},
   "outputs": [],
   "source": [
    "xgBoost_pred = xgBoost.predict(X_val)"
   ]
  },
  {
   "cell_type": "code",
   "execution_count": null,
   "metadata": {},
   "outputs": [],
   "source": [
    "print('XGBoost Results:')\n",
    "print(confusion_matrix(y_val, xgBoost_pred))\n",
    "print(classification_report(y_val, xgBoost_pred))\n",
    "print('XGBoost score: %f' % xgBoost.fit(X_train, y_train).score(X_val, y_val))"
   ]
  },
  {
   "cell_type": "code",
   "execution_count": null,
   "metadata": {},
   "outputs": [],
   "source": [
    "xgBoost_y_score = xgBoost.predict_proba(X_val)[:, 1]"
   ]
  },
  {
   "cell_type": "code",
   "execution_count": null,
   "metadata": {},
   "outputs": [],
   "source": [
    "xgBoost_fpr, xgBoost_tpr, auc_thresholds = roc_curve(y_val, xgBoost_y_score)\n",
    "roc_auc_xgBoost = auc(xgBoost_fpr, xgBoost_tpr)\n",
    "print(auc(xgBoost_fpr, xgBoost_tpr))"
   ]
  },
  {
   "cell_type": "code",
   "execution_count": null,
   "metadata": {},
   "outputs": [],
   "source": [
    "fig = plt.figure(figsize=(14,14))\n",
    "lw = 2\n",
    "\n",
    "plt.plot(xgBoost_fpr, xgBoost_tpr, color='green',\n",
    "         lw=lw, label='XGBoost (AUC = %0.2f)' % roc_auc_xgBoost)\n",
    "plt.plot(logistic_fpr, logistic_tpr, color='darkblue',\n",
    "         lw=lw, label='Logistic curve (AUC = %0.2f)' % roc_auc_logistic)\n",
    "plt.plot(bernoulli_fpr, bernoulli_tpr, color='black',\n",
    "         #lw=lw, label='Bernoulli NB (AUC = %0.2f)' % roc_auc_bernoulli)\n",
    "plt.plot(SVC_fpr, SVC_tpr, color='green',\n",
    "         #lw=lw, label='SVM (AUC = %0.2f)' % roc_auc_SVC)\n",
    "plt.plot(gaussian_fpr, gaussian_tpr, color='darkred',\n",
    "         #lw=lw, label='Gaussian NB (AUC = %0.2f)' % roc_auc_gaussian)\n",
    "plt.plot(forest_fpr, forest_tpr, color='purple',\n",
    "         #lw=lw, label='Random Forest (AUC = %0.2f)' % roc_auc_forest)\n",
    "plt.plot(knn_fpr, knn_tpr, color='darkorange',\n",
    "         #lw=lw, label='KNN curve (AUC = %0.2f)' % roc_auc_knn)\n",
    "plt.plot(tree_fpr, tree_tpr, color='brown',\n",
    "         #lw=lw, label='Decision Tree (AUC = %0.2f)' % roc_auc_tree)\n",
    "plt.plot([0, 1], [0, 1], color='navy', lw=lw, linestyle='--')\n",
    "plt.xlim([0.0, 1.0])\n",
    "plt.ylim([0.0, 1.0])\n",
    "plt.xlabel('False Positive Rate',fontsize = 20)\n",
    "plt.ylabel('True Positive Rate', fontsize = 20)\n",
    "plt.title('ROC Curves', fontsize = 20)\n",
    "plt.legend(loc=\"lower right\", fontsize = 20)\n",
    "plt.tight_layout()\n",
    "plt.savefig('roc_curves_all_ALL.png')\n",
    "#plt.savefig('roc_curves_svg_all.svg')\n",
    "plt.show()"
   ]
  },
  {
   "cell_type": "code",
   "execution_count": null,
   "metadata": {},
   "outputs": [],
   "source": [
    "max_depth = [3,4,5,6,7,8,9,10]\n",
    "min_child_weight = [1,2,3,4,5,6,7,8,9,10,11]\n",
    "\n",
    "\n",
    "param_grid = dict(max_depth = max_depth, min_child_weight=min_child_weight)\n",
    "xgBoost_grid_search = XGBClassifier()\n",
    "xgBoost_grid = GridSearchCV(xgBoost_grid_search, param_grid, cv=5, scoring='roc_auc', verbose=2, n_jobs=-1)\n",
    "xgBoost_grid.fit(X_train, y_train)\n",
    "xgBoost_grid_predictions = xgBoost_grid.predict(X_val)\n",
    "xgBoost_best_params = xgBoost_grid.best_params_\n",
    "xgBoost_best_estimator = xgBoost_grid.best_estimator_\n",
    "xgBoost_best_cm = confusion_matrix(y_val,xgBoost_grid_predictions)\n",
    "xgBoost_best_cr = classification_report(y_val,xgBoost_grid_predictions)\n",
    "print(xgBoost_best_params, xgBoost_best_estimator, xgBoost_best_cm, xgBoost_best_cr)"
   ]
  },
  {
   "cell_type": "code",
   "execution_count": null,
   "metadata": {},
   "outputs": [],
   "source": [
    "xgBoost_y_score = xgBoost_grid.predict_proba(X_val)[:, 1]"
   ]
  },
  {
   "cell_type": "code",
   "execution_count": null,
   "metadata": {},
   "outputs": [],
   "source": [
    "xgBoost_grid_fpr, xgBoost_grid_tpr, auc_thresholds = roc_curve(y_val, xgBoost_grid_y_score)\n",
    "roc_auc_xgBoost_grid = auc(xgBoost_grid_fpr, xgBoost_grid_tpr)\n",
    "print(auc(xgBoost_grid_fpr, xgBoost_grid_tpr))"
   ]
  },
  {
   "cell_type": "code",
   "execution_count": null,
   "metadata": {},
   "outputs": [],
   "source": []
  }
 ],
 "metadata": {
  "kernelspec": {
   "display_name": "Python 3",
   "language": "python",
   "name": "python3"
  },
  "language_info": {
   "codemirror_mode": {
    "name": "ipython",
    "version": 3
   },
   "file_extension": ".py",
   "mimetype": "text/x-python",
   "name": "python",
   "nbconvert_exporter": "python",
   "pygments_lexer": "ipython3",
   "version": "3.7.3"
  }
 },
 "nbformat": 4,
 "nbformat_minor": 2
}
