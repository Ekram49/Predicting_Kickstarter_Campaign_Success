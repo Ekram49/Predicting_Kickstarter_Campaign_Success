{
 "cells": [
  {
   "cell_type": "markdown",
   "metadata": {},
   "source": [
    "### Performing Naive Bayes and SVM analysis on the Kickstarter data ###"
   ]
  },
  {
   "cell_type": "code",
   "execution_count": 1,
   "metadata": {},
   "outputs": [],
   "source": [
    "import pandas as pd\n",
    "import numpy as np\n",
    "import matplotlib.pyplot as plt\n",
    "import seaborn as sns\n",
    "%matplotlib inline\n",
    "import pandas_profiling\n",
    "from sklearn import metrics\n",
    "from sklearn.model_selection import train_test_split\n",
    "from sklearn.linear_model import LogisticRegression\n",
    "from sklearn.linear_model import LogisticRegressionCV\n",
    "from sklearn.neighbors import KNeighborsClassifier\n",
    "from sklearn.svm import SVC\n",
    "from sklearn.tree import DecisionTreeClassifier\n",
    "from sklearn.ensemble import RandomForestClassifier\n",
    "from sklearn import svm\n",
    "from sklearn.preprocessing import StandardScaler\n",
    "from sklearn.model_selection import GridSearchCV\n",
    "from sklearn.metrics import log_loss\n",
    "from sklearn.metrics import precision_recall_curve\n",
    "from sklearn import naive_bayes\n",
    "from sklearn.metrics import accuracy_score, classification_report, confusion_matrix\n",
    "from sklearn.svm import LinearSVC, SVC\n",
    "\n",
    "plt.style.use('ggplot')"
   ]
  },
  {
   "cell_type": "code",
   "execution_count": 2,
   "metadata": {},
   "outputs": [],
   "source": [
    "kickstarter = pd.read_csv('kickstarter_04_25_19_ready_for_modeling.csv')"
   ]
  },
  {
   "cell_type": "code",
   "execution_count": 3,
   "metadata": {},
   "outputs": [
    {
     "data": {
      "text/plain": [
       "Index(['id', 'slug', 'state_successful', 'goal', 'staff_pick_True',\n",
       "       'cam_length', 'blurb_length', 'country_US', 'main_category_comics',\n",
       "       'main_category_crafts', 'main_category_dance', 'main_category_design',\n",
       "       'main_category_fashion', 'main_category_film & video',\n",
       "       'main_category_food', 'main_category_games', 'main_category_journalism',\n",
       "       'main_category_music', 'main_category_photography',\n",
       "       'main_category_publishing', 'main_category_technology',\n",
       "       'main_category_theater', 'location', 'child_category'],\n",
       "      dtype='object')"
      ]
     },
     "execution_count": 3,
     "metadata": {},
     "output_type": "execute_result"
    }
   ],
   "source": [
    "kickstarter.columns"
   ]
  },
  {
   "cell_type": "code",
   "execution_count": 4,
   "metadata": {},
   "outputs": [],
   "source": [
    "X = kickstarter[['goal', 'staff_pick_True',\n",
    "       'cam_length', 'blurb_length', 'country_US', 'main_category_comics',\n",
    "       'main_category_crafts', 'main_category_dance', 'main_category_design',\n",
    "       'main_category_fashion', 'main_category_film & video',\n",
    "       'main_category_food', 'main_category_games', 'main_category_journalism',\n",
    "       'main_category_music', 'main_category_photography',\n",
    "       'main_category_publishing', 'main_category_technology',\n",
    "       'main_category_theater']]\n",
    "y = kickstarter['state_successful']"
   ]
  },
  {
   "cell_type": "code",
   "execution_count": 5,
   "metadata": {},
   "outputs": [],
   "source": [
    "X_mid, X_test_sc, y_mid, y_test = train_test_split(X, y, test_size=0.20, random_state=42, stratify = y)"
   ]
  },
  {
   "cell_type": "code",
   "execution_count": 6,
   "metadata": {},
   "outputs": [],
   "source": [
    "X_train_sc, X_val_sc, y_train, y_val = train_test_split(X_mid, y_mid, test_size=0.25, random_state=42, stratify = y_mid)"
   ]
  },
  {
   "cell_type": "code",
   "execution_count": 7,
   "metadata": {},
   "outputs": [
    {
     "name": "stderr",
     "output_type": "stream",
     "text": [
      "/anaconda3/lib/python3.7/site-packages/sklearn/preprocessing/data.py:645: DataConversionWarning: Data with input dtype int64, float64 were all converted to float64 by StandardScaler.\n",
      "  return self.partial_fit(X, y)\n",
      "/anaconda3/lib/python3.7/site-packages/ipykernel_launcher.py:3: DataConversionWarning: Data with input dtype int64, float64 were all converted to float64 by StandardScaler.\n",
      "  This is separate from the ipykernel package so we can avoid doing imports until\n",
      "/anaconda3/lib/python3.7/site-packages/ipykernel_launcher.py:4: DataConversionWarning: Data with input dtype int64, float64 were all converted to float64 by StandardScaler.\n",
      "  after removing the cwd from sys.path.\n",
      "/anaconda3/lib/python3.7/site-packages/ipykernel_launcher.py:5: DataConversionWarning: Data with input dtype int64, float64 were all converted to float64 by StandardScaler.\n",
      "  \"\"\"\n"
     ]
    }
   ],
   "source": [
    "scaler = StandardScaler()\n",
    "scaler.fit(X_train_sc)\n",
    "X_train = scaler.transform(X_train_sc)\n",
    "X_val = scaler.transform(X_val_sc)\n",
    "X_test = scaler.transform(X_test_sc)"
   ]
  },
  {
   "cell_type": "code",
   "execution_count": 8,
   "metadata": {},
   "outputs": [
    {
     "name": "stdout",
     "output_type": "stream",
     "text": [
      "Fitting 5 folds for each of 2 candidates, totalling 10 fits\n"
     ]
    },
    {
     "name": "stderr",
     "output_type": "stream",
     "text": [
      "[Parallel(n_jobs=-1)]: Using backend LokyBackend with 4 concurrent workers.\n",
      "[Parallel(n_jobs=-1)]: Done  10 out of  10 | elapsed:    3.7s finished\n"
     ]
    },
    {
     "name": "stdout",
     "output_type": "stream",
     "text": [
      "{'var_smoothing': 1e-08} GaussianNB(priors=None, var_smoothing=1e-08) [[ 8234 10752]\n",
      " [ 3018 19406]]               precision    recall  f1-score   support\n",
      "\n",
      "           0       0.73      0.43      0.54     18986\n",
      "           1       0.64      0.87      0.74     22424\n",
      "\n",
      "   micro avg       0.67      0.67      0.67     41410\n",
      "   macro avg       0.69      0.65      0.64     41410\n",
      "weighted avg       0.68      0.67      0.65     41410\n",
      "\n"
     ]
    }
   ],
   "source": [
    "var_smoothing = [1e-9, 1e-8]\n",
    "param_grid = dict(var_smoothing = var_smoothing)\n",
    "gaussian = naive_bayes.GaussianNB()\n",
    "gaussian_grid = GridSearchCV(gaussian, param_grid, cv=5, scoring='roc_auc', verbose=1, n_jobs=-1)\n",
    "gaussian_grid.fit(X_train, y_train)\n",
    "gaussian_grid_predictions = gaussian_grid.predict(X_val)\n",
    "best_params = gaussian_grid.best_params_\n",
    "best_estimator = gaussian_grid.best_estimator_\n",
    "best_cm = confusion_matrix(y_val,gaussian_grid_predictions)\n",
    "best_cr = classification_report(y_val,gaussian_grid_predictions)\n",
    "print(best_params, best_estimator, best_cm, best_cr)"
   ]
  },
  {
   "cell_type": "code",
   "execution_count": 9,
   "metadata": {},
   "outputs": [
    {
     "name": "stdout",
     "output_type": "stream",
     "text": [
      "Best ROC_AUC for Gaussian: %.3f 0.7295262012282722\n"
     ]
    }
   ],
   "source": [
    "print('Best ROC_AUC for Gaussian: %.3f', gaussian_grid.best_score_)"
   ]
  },
  {
   "cell_type": "code",
   "execution_count": 11,
   "metadata": {},
   "outputs": [
    {
     "data": {
      "text/plain": [
       "(array([0.        , 0.72916886, 1.        ]),\n",
       " array([0.        , 0.72752408, 1.        ]),\n",
       " array([2, 1, 0]))"
      ]
     },
     "execution_count": 11,
     "metadata": {},
     "output_type": "execute_result"
    }
   ],
   "source": [
    "from sklearn.metrics import roc_auc_score, roc_curve\n",
    "\n",
    "roc_curve(y_test,gaussian_grid_predictions)"
   ]
  },
  {
   "cell_type": "code",
   "execution_count": 13,
   "metadata": {},
   "outputs": [
    {
     "name": "stdout",
     "output_type": "stream",
     "text": [
      "Accuracy: 0.667\n",
      "              precision    recall  f1-score   support\n",
      "\n",
      "           0       0.73      0.43      0.54     18986\n",
      "           1       0.64      0.87      0.74     22424\n",
      "\n",
      "   micro avg       0.67      0.67      0.67     41410\n",
      "   macro avg       0.69      0.65      0.64     41410\n",
      "weighted avg       0.68      0.67      0.65     41410\n",
      "\n"
     ]
    }
   ],
   "source": [
    "print(\"Accuracy: %.3f\"% accuracy_score(y_val, gaussian_grid_predictions))\n",
    "print(classification_report(y_val, gaussian_grid_predictions))"
   ]
  },
  {
   "cell_type": "code",
   "execution_count": 14,
   "metadata": {},
   "outputs": [
    {
     "name": "stdout",
     "output_type": "stream",
     "text": [
      "Fitting 5 folds for each of 15 candidates, totalling 75 fits\n"
     ]
    },
    {
     "name": "stderr",
     "output_type": "stream",
     "text": [
      "[Parallel(n_jobs=-1)]: Using backend LokyBackend with 4 concurrent workers.\n",
      "[Parallel(n_jobs=-1)]: Done  33 tasks      | elapsed:    2.9s\n"
     ]
    },
    {
     "name": "stdout",
     "output_type": "stream",
     "text": [
      "{'alpha': 0.2} BernoulliNB(alpha=0.2, binarize=0.0, class_prior=None, fit_prior=True) [[10367  8619]\n",
      " [ 4494 17930]]               precision    recall  f1-score   support\n",
      "\n",
      "           0       0.70      0.55      0.61     18986\n",
      "           1       0.68      0.80      0.73     22424\n",
      "\n",
      "   micro avg       0.68      0.68      0.68     41410\n",
      "   macro avg       0.69      0.67      0.67     41410\n",
      "weighted avg       0.69      0.68      0.68     41410\n",
      "\n"
     ]
    },
    {
     "name": "stderr",
     "output_type": "stream",
     "text": [
      "[Parallel(n_jobs=-1)]: Done  75 out of  75 | elapsed:    6.2s finished\n"
     ]
    }
   ],
   "source": [
    "alpha = [0.01, 0.1, 0.2, 0.3, 0.4, 0.5, 0.6, 0.7, 1, 2, 3, 4, 5, 10, 100]\n",
    "param_grid = dict(alpha = alpha)\n",
    "bernoulli = naive_bayes.BernoulliNB()\n",
    "bernoulli_grid = GridSearchCV(bernoulli, param_grid, cv=5, scoring='roc_auc', verbose=2, n_jobs=-1)\n",
    "bernoulli_grid.fit(X_train, y_train)\n",
    "bernoulli_grid_predictions = bernoulli_grid.predict(X_val)\n",
    "best_params = bernoulli_grid.best_params_\n",
    "best_estimator = bernoulli_grid.best_estimator_\n",
    "best_cm = confusion_matrix(y_val,bernoulli_grid_predictions)\n",
    "best_cr = classification_report(y_val,bernoulli_grid_predictions)\n",
    "print(best_params, best_estimator, best_cm, best_cr)"
   ]
  },
  {
   "cell_type": "code",
   "execution_count": 15,
   "metadata": {},
   "outputs": [
    {
     "name": "stdout",
     "output_type": "stream",
     "text": [
      "Best ROC_AUC for Bernoulli: %.3f 0.7438362601487478\n",
      "0.6728118225123276\n",
      "(array([0.        , 0.45396608, 1.        ]), array([0.        , 0.79958973, 1.        ]), array([2, 1, 0]))\n",
      "Accuracy: 0.683\n"
     ]
    }
   ],
   "source": [
    "print('Best ROC_AUC for Bernoulli: %.3f', bernoulli_grid.best_score_)\n",
    "print(roc_auc_score(y_val,bernoulli_grid_predictions))\n",
    "print(roc_curve(y_val,bernoulli_grid_predictions))\n",
    "print(\"Accuracy: %.3f\"% accuracy_score(y_val, bernoulli_grid_predictions))"
   ]
  },
  {
   "cell_type": "code",
   "execution_count": null,
   "metadata": {},
   "outputs": [],
   "source": []
  }
 ],
 "metadata": {
  "kernelspec": {
   "display_name": "Python 3",
   "language": "python",
   "name": "python3"
  },
  "language_info": {
   "codemirror_mode": {
    "name": "ipython",
    "version": 3
   },
   "file_extension": ".py",
   "mimetype": "text/x-python",
   "name": "python",
   "nbconvert_exporter": "python",
   "pygments_lexer": "ipython3",
   "version": "3.7.3"
  }
 },
 "nbformat": 4,
 "nbformat_minor": 2
}
