{
 "cells": [
  {
   "cell_type": "markdown",
   "metadata": {},
   "source": [
    "### Performing KNN analysis on the Kickstarter data ###"
   ]
  },
  {
   "cell_type": "code",
   "execution_count": 11,
   "metadata": {},
   "outputs": [],
   "source": [
    "import pandas as pd\n",
    "import numpy as np\n",
    "import matplotlib.pyplot as plt\n",
    "import seaborn as sns\n",
    "%matplotlib inline\n",
    "import pandas_profiling\n",
    "\n",
    "from sklearn.model_selection import train_test_split\n",
    "from sklearn.linear_model import LogisticRegressionCV\n",
    "from sklearn.metrics import classification_report\n",
    "from sklearn.metrics import confusion_matrix\n",
    "from sklearn.neighbors import KNeighborsClassifier\n",
    "from sklearn.metrics import accuracy_score\n",
    "from sklearn.naive_bayes import GaussianNB\n",
    "from sklearn.svm import SVC\n",
    "from sklearn.tree import DecisionTreeClassifier\n",
    "from sklearn.ensemble import RandomForestClassifier\n",
    "from sklearn import svm\n",
    "from sklearn.preprocessing import StandardScaler\n",
    "from sklearn.model_selection import GridSearchCV\n",
    "from sklearn import svm, ensemble, linear_model, neighbors, naive_bayes\n",
    "from sklearn.metrics import roc_auc_score, roc_curve, auc\n",
    "\n",
    "plt.style.use('ggplot')"
   ]
  },
  {
   "cell_type": "code",
   "execution_count": 2,
   "metadata": {},
   "outputs": [],
   "source": [
    "kickstarter = pd.read_csv('kickstarter_04_25_19_ready_for_modeling.csv')"
   ]
  },
  {
   "cell_type": "code",
   "execution_count": 4,
   "metadata": {},
   "outputs": [],
   "source": [
    "X = kickstarter[['goal', 'staff_pick_True',\n",
    "       'cam_length', 'blurb_length', 'country_US', 'main_category_comics',\n",
    "       'main_category_crafts', 'main_category_dance', 'main_category_design',\n",
    "       'main_category_fashion', 'main_category_film & video',\n",
    "       'main_category_food', 'main_category_games', 'main_category_journalism',\n",
    "       'main_category_music', 'main_category_photography',\n",
    "       'main_category_publishing', 'main_category_technology',\n",
    "       'main_category_theater']]\n",
    "y = kickstarter['state_successful']"
   ]
  },
  {
   "cell_type": "code",
   "execution_count": 5,
   "metadata": {},
   "outputs": [],
   "source": [
    "X_mid, X_test_sc, y_mid, y_test = train_test_split(X, y, test_size=0.20, random_state=42, stratify = y)"
   ]
  },
  {
   "cell_type": "code",
   "execution_count": 6,
   "metadata": {},
   "outputs": [],
   "source": [
    "X_train_sc, X_val_sc, y_train, y_val = train_test_split(X_mid, y_mid, test_size=0.25, random_state=42, stratify = y_mid)"
   ]
  },
  {
   "cell_type": "code",
   "execution_count": 7,
   "metadata": {},
   "outputs": [
    {
     "name": "stderr",
     "output_type": "stream",
     "text": [
      "/anaconda3/lib/python3.7/site-packages/sklearn/preprocessing/data.py:645: DataConversionWarning: Data with input dtype int64, float64 were all converted to float64 by StandardScaler.\n",
      "  return self.partial_fit(X, y)\n",
      "/anaconda3/lib/python3.7/site-packages/ipykernel_launcher.py:3: DataConversionWarning: Data with input dtype int64, float64 were all converted to float64 by StandardScaler.\n",
      "  This is separate from the ipykernel package so we can avoid doing imports until\n",
      "/anaconda3/lib/python3.7/site-packages/ipykernel_launcher.py:4: DataConversionWarning: Data with input dtype int64, float64 were all converted to float64 by StandardScaler.\n",
      "  after removing the cwd from sys.path.\n",
      "/anaconda3/lib/python3.7/site-packages/ipykernel_launcher.py:5: DataConversionWarning: Data with input dtype int64, float64 were all converted to float64 by StandardScaler.\n",
      "  \"\"\"\n"
     ]
    }
   ],
   "source": [
    "scaler = StandardScaler()\n",
    "scaler.fit(X_train_sc)\n",
    "X_train = scaler.transform(X_train_sc)\n",
    "X_val = scaler.transform(X_val_sc)\n",
    "X_test = scaler.transform(X_test_sc)"
   ]
  },
  {
   "cell_type": "code",
   "execution_count": 10,
   "metadata": {},
   "outputs": [
    {
     "name": "stdout",
     "output_type": "stream",
     "text": [
      "Fitting 8 folds for each of 6 candidates, totalling 48 fits\n"
     ]
    },
    {
     "name": "stderr",
     "output_type": "stream",
     "text": [
      "[Parallel(n_jobs=-1)]: Using backend LokyBackend with 4 concurrent workers.\n",
      "[Parallel(n_jobs=-1)]: Done  48 out of  48 | elapsed: 72.6min finished\n"
     ]
    },
    {
     "name": "stdout",
     "output_type": "stream",
     "text": [
      "{'n_neighbors': 35} KNeighborsClassifier(algorithm='auto', leaf_size=30, metric='minkowski',\n",
      "           metric_params=None, n_jobs=None, n_neighbors=35, p=2,\n",
      "           weights='uniform') [[16914 11431]\n",
      " [ 8138 25632]]               precision    recall  f1-score   support\n",
      "\n",
      "           0       0.68      0.60      0.63     28345\n",
      "           1       0.69      0.76      0.72     33770\n",
      "\n",
      "   micro avg       0.68      0.68      0.68     62115\n",
      "   macro avg       0.68      0.68      0.68     62115\n",
      "weighted avg       0.68      0.68      0.68     62115\n",
      "\n"
     ]
    }
   ],
   "source": [
    "ks = [5, 10, 20, 25, 30,35]\n",
    "param_grid = [{'n_neighbors': ks}]\n",
    "knn = KNeighborsClassifier(n_neighbors=5)\n",
    "knn_grid = GridSearchCV(knn, param_grid, cv=8, scoring='roc_auc', verbose=1, n_jobs=-1)\n",
    "knn_grid.fit(X_train, y_train)\n",
    "grid_predictions = knn_grid.predict(X_test)\n",
    "best_params = knn_grid.best_params_\n",
    "best_estimator = knn_grid.best_estimator_\n",
    "best_cm = confusion_matrix(y_test,grid_predictions)\n",
    "best_cr = classification_report(y_test,grid_predictions)\n",
    "print(best_params, best_estimator, best_cm, best_cr)"
   ]
  },
  {
   "cell_type": "code",
   "execution_count": 19,
   "metadata": {},
   "outputs": [
    {
     "name": "stdout",
     "output_type": "stream",
     "text": [
      "Fitting 5 folds for each of 2 candidates, totalling 10 fits\n",
      "[CV] n_neighbors=24 ..................................................\n"
     ]
    },
    {
     "name": "stderr",
     "output_type": "stream",
     "text": [
      "[Parallel(n_jobs=1)]: Using backend SequentialBackend with 1 concurrent workers.\n"
     ]
    },
    {
     "name": "stdout",
     "output_type": "stream",
     "text": [
      "[CV] ......... n_neighbors=24, score=0.7542461308338198, total= 1.1min\n",
      "[CV] n_neighbors=24 ..................................................\n"
     ]
    },
    {
     "name": "stderr",
     "output_type": "stream",
     "text": [
      "[Parallel(n_jobs=1)]: Done   1 out of   1 | elapsed:  5.1min remaining:    0.0s\n"
     ]
    },
    {
     "name": "stdout",
     "output_type": "stream",
     "text": [
      "[CV] ......... n_neighbors=24, score=0.7546411352950121, total=  52.2s\n",
      "[CV] n_neighbors=24 ..................................................\n"
     ]
    },
    {
     "name": "stderr",
     "output_type": "stream",
     "text": [
      "[Parallel(n_jobs=1)]: Done   2 out of   2 | elapsed:  9.0min remaining:    0.0s\n"
     ]
    },
    {
     "name": "stdout",
     "output_type": "stream",
     "text": [
      "[CV] ......... n_neighbors=24, score=0.7561333741044011, total= 1.1min\n",
      "[CV] n_neighbors=24 ..................................................\n"
     ]
    },
    {
     "name": "stderr",
     "output_type": "stream",
     "text": [
      "[Parallel(n_jobs=1)]: Done   3 out of   3 | elapsed: 13.9min remaining:    0.0s\n"
     ]
    },
    {
     "name": "stdout",
     "output_type": "stream",
     "text": [
      "[CV] ......... n_neighbors=24, score=0.7575519250073043, total=  55.6s\n",
      "[CV] n_neighbors=24 ..................................................\n",
      "[CV] ......... n_neighbors=24, score=0.7474287281826297, total=  51.3s\n",
      "[CV] n_neighbors=25 ..................................................\n",
      "[CV] ......... n_neighbors=25, score=0.7541927278273894, total= 1.0min\n",
      "[CV] n_neighbors=25 ..................................................\n",
      "[CV] ......... n_neighbors=25, score=0.7550050175536506, total=  47.9s\n",
      "[CV] n_neighbors=25 ..................................................\n",
      "[CV] ......... n_neighbors=25, score=0.7567518311399236, total= 1.0min\n",
      "[CV] n_neighbors=25 ..................................................\n",
      "[CV] ......... n_neighbors=25, score=0.7572033223148901, total=  52.6s\n",
      "[CV] n_neighbors=25 ..................................................\n",
      "[CV] ......... n_neighbors=25, score=0.7479259204802873, total=  49.7s\n"
     ]
    },
    {
     "name": "stderr",
     "output_type": "stream",
     "text": [
      "[Parallel(n_jobs=1)]: Done  10 out of  10 | elapsed: 42.9min finished\n"
     ]
    },
    {
     "name": "stdout",
     "output_type": "stream",
     "text": [
      "{'n_neighbors': 25} KNeighborsClassifier(algorithm='auto', leaf_size=30, metric='minkowski',\n",
      "           metric_params=None, n_jobs=None, n_neighbors=25, p=2,\n",
      "           weights='uniform') [[17093 11252]\n",
      " [ 8172 25598]]               precision    recall  f1-score   support\n",
      "\n",
      "           0       0.68      0.60      0.64     28345\n",
      "           1       0.69      0.76      0.72     33770\n",
      "\n",
      "   micro avg       0.69      0.69      0.69     62115\n",
      "   macro avg       0.69      0.68      0.68     62115\n",
      "weighted avg       0.69      0.69      0.69     62115\n",
      "\n"
     ]
    }
   ],
   "source": [
    "#knn = KNeighborsClassifier()\n",
    "#param_grid = [{'n_neighbors': list(range(24,26))}]\n",
    "#grid = GridSearchCV(knn,param_grid,refit=True,verbose=4, scoring='roc_auc', cv = 5, n_jobs = -1)\n",
    "#grid.fit(X_train,y_train)\n",
    "#grid_predictions = grid.predict(X_test)\n",
    "#best_params = grid.best_params_\n",
    "#best_estimator = grid.best_estimator_\n",
    "#best_cm = confusion_matrix(y_test,grid_predictions)\n",
    "#best_cr = classification_report(y_test,grid_predictions)\n",
    "#print(best_params, best_estimator, best_cm, best_cr)"
   ]
  },
  {
   "cell_type": "code",
   "execution_count": 9,
   "metadata": {},
   "outputs": [
    {
     "name": "stdout",
     "output_type": "stream",
     "text": [
      "[[11501  7485]\n",
      " [ 5395 17029]]\n",
      "              precision    recall  f1-score   support\n",
      "\n",
      "           0       0.68      0.61      0.64     18986\n",
      "           1       0.69      0.76      0.73     22424\n",
      "\n",
      "   micro avg       0.69      0.69      0.69     41410\n",
      "   macro avg       0.69      0.68      0.68     41410\n",
      "weighted avg       0.69      0.69      0.69     41410\n",
      "\n"
     ]
    }
   ],
   "source": [
    "knn_25 = KNeighborsClassifier(n_neighbors = 25)\n",
    "knn_25.fit(X_train, y_train)\n",
    "predictions = knn_25.predict(X_val)\n",
    "print(confusion_matrix(y_val,predictions))\n",
    "print(classification_report(y_val, predictions))"
   ]
  },
  {
   "cell_type": "code",
   "execution_count": null,
   "metadata": {},
   "outputs": [],
   "source": []
  }
 ],
 "metadata": {
  "kernelspec": {
   "display_name": "Python 3",
   "language": "python",
   "name": "python3"
  },
  "language_info": {
   "codemirror_mode": {
    "name": "ipython",
    "version": 3
   },
   "file_extension": ".py",
   "mimetype": "text/x-python",
   "name": "python",
   "nbconvert_exporter": "python",
   "pygments_lexer": "ipython3",
   "version": "3.7.3"
  }
 },
 "nbformat": 4,
 "nbformat_minor": 2
}
