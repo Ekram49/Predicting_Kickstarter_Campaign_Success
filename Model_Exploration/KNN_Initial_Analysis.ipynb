{
 "cells": [
  {
   "cell_type": "code",
   "execution_count": 1,
   "metadata": {},
   "outputs": [],
   "source": [
    "import pandas as pd\n",
    "import numpy as np\n",
    "import matplotlib.pyplot as plt\n",
    "import seaborn as sns\n",
    "%matplotlib inline\n",
    "import pandas_profiling\n",
    "\n",
    "from sklearn.model_selection import train_test_split\n",
    "from sklearn.linear_model import LogisticRegressionCV\n",
    "from sklearn.metrics import classification_report\n",
    "from sklearn.metrics import confusion_matrix\n",
    "from sklearn.neighbors import KNeighborsClassifier\n",
    "from sklearn.metrics import accuracy_score\n",
    "from sklearn.naive_bayes import GaussianNB\n",
    "from sklearn.svm import SVC\n",
    "from sklearn.tree import DecisionTreeClassifier\n",
    "from sklearn.ensemble import RandomForestClassifier\n",
    "from sklearn import svm\n",
    "from sklearn.preprocessing import StandardScaler\n",
    "\n",
    "\n",
    "plt.style.use('ggplot')\n",
    "#np.set_printoptions(suppress=True)"
   ]
  },
  {
   "cell_type": "code",
   "execution_count": 2,
   "metadata": {},
   "outputs": [],
   "source": [
    "kickstarter = pd.read_csv('kickstarter_04_25_19_ready_for_modeling.csv')"
   ]
  },
  {
   "cell_type": "code",
   "execution_count": 1,
   "metadata": {},
   "outputs": [],
   "source": [
    "#pandas_profiling.ProfileReport(kickstarter)"
   ]
  },
  {
   "cell_type": "code",
   "execution_count": 4,
   "metadata": {},
   "outputs": [],
   "source": [
    "# First, we're going to use KNN to try and predict Kickstarter success:"
   ]
  },
  {
   "cell_type": "code",
   "execution_count": 5,
   "metadata": {},
   "outputs": [
    {
     "data": {
      "text/plain": [
       "Index(['id', 'slug', 'state_successful', 'goal', 'staff_pick_True',\n",
       "       'cam_length', 'blurb_length', 'country_US', 'main_category_comics',\n",
       "       'main_category_crafts', 'main_category_dance', 'main_category_design',\n",
       "       'main_category_fashion', 'main_category_film & video',\n",
       "       'main_category_food', 'main_category_games', 'main_category_journalism',\n",
       "       'main_category_music', 'main_category_photography',\n",
       "       'main_category_publishing', 'main_category_technology',\n",
       "       'main_category_theater', 'location', 'child_category'],\n",
       "      dtype='object')"
      ]
     },
     "execution_count": 5,
     "metadata": {},
     "output_type": "execute_result"
    }
   ],
   "source": [
    "kickstarter.columns"
   ]
  },
  {
   "cell_type": "code",
   "execution_count": 6,
   "metadata": {},
   "outputs": [],
   "source": [
    "kickstarter_numeric = kickstarter.drop(columns = ['id', 'slug', 'child_category','location'])"
   ]
  },
  {
   "cell_type": "code",
   "execution_count": 7,
   "metadata": {},
   "outputs": [
    {
     "data": {
      "text/plain": [
       "Index(['state_successful', 'goal', 'staff_pick_True', 'cam_length',\n",
       "       'blurb_length', 'country_US', 'main_category_comics',\n",
       "       'main_category_crafts', 'main_category_dance', 'main_category_design',\n",
       "       'main_category_fashion', 'main_category_film & video',\n",
       "       'main_category_food', 'main_category_games', 'main_category_journalism',\n",
       "       'main_category_music', 'main_category_photography',\n",
       "       'main_category_publishing', 'main_category_technology',\n",
       "       'main_category_theater'],\n",
       "      dtype='object')"
      ]
     },
     "execution_count": 7,
     "metadata": {},
     "output_type": "execute_result"
    }
   ],
   "source": [
    "kickstarter_numeric.columns"
   ]
  },
  {
   "cell_type": "code",
   "execution_count": 3,
   "metadata": {},
   "outputs": [],
   "source": [
    "X = kickstarter[['goal', 'staff_pick_True',\n",
    "       'cam_length', 'blurb_length', 'country_US', 'main_category_comics',\n",
    "       'main_category_crafts', 'main_category_dance', 'main_category_design',\n",
    "       'main_category_fashion', 'main_category_film & video',\n",
    "       'main_category_food', 'main_category_games', 'main_category_journalism',\n",
    "       'main_category_music', 'main_category_photography',\n",
    "       'main_category_publishing', 'main_category_technology',\n",
    "       'main_category_theater']]\n",
    "y = kickstarter['state_successful']"
   ]
  },
  {
   "cell_type": "code",
   "execution_count": 4,
   "metadata": {},
   "outputs": [],
   "source": [
    "X_mid, X_test_sc, y_mid, y_test = train_test_split(X, y, test_size=0.20, random_state=42, stratify = y)"
   ]
  },
  {
   "cell_type": "code",
   "execution_count": 5,
   "metadata": {},
   "outputs": [],
   "source": [
    "X_train_sc, X_val_sc, y_train, y_val = train_test_split(X_mid, y_mid, test_size=0.25, random_state=42, stratify = y_mid)"
   ]
  },
  {
   "cell_type": "code",
   "execution_count": 6,
   "metadata": {},
   "outputs": [
    {
     "name": "stderr",
     "output_type": "stream",
     "text": [
      "/anaconda3/lib/python3.7/site-packages/sklearn/preprocessing/data.py:645: DataConversionWarning: Data with input dtype int64, float64 were all converted to float64 by StandardScaler.\n",
      "  return self.partial_fit(X, y)\n",
      "/anaconda3/lib/python3.7/site-packages/ipykernel_launcher.py:3: DataConversionWarning: Data with input dtype int64, float64 were all converted to float64 by StandardScaler.\n",
      "  This is separate from the ipykernel package so we can avoid doing imports until\n",
      "/anaconda3/lib/python3.7/site-packages/ipykernel_launcher.py:4: DataConversionWarning: Data with input dtype int64, float64 were all converted to float64 by StandardScaler.\n",
      "  after removing the cwd from sys.path.\n",
      "/anaconda3/lib/python3.7/site-packages/ipykernel_launcher.py:5: DataConversionWarning: Data with input dtype int64, float64 were all converted to float64 by StandardScaler.\n",
      "  \"\"\"\n"
     ]
    }
   ],
   "source": [
    "scaler = StandardScaler()\n",
    "scaler.fit(X_train_sc)\n",
    "X_train = scaler.transform(X_train_sc)\n",
    "X_val = scaler.transform(X_val_sc)\n",
    "X_test = scaler.transform(X_test_sc)"
   ]
  },
  {
   "cell_type": "code",
   "execution_count": 7,
   "metadata": {},
   "outputs": [],
   "source": [
    "knn = KNeighborsClassifier(n_neighbors=5)"
   ]
  },
  {
   "cell_type": "code",
   "execution_count": 12,
   "metadata": {},
   "outputs": [
    {
     "data": {
      "text/plain": [
       "KNeighborsClassifier(algorithm='auto', leaf_size=30, metric='minkowski',\n",
       "           metric_params=None, n_jobs=None, n_neighbors=5, p=2,\n",
       "           weights='uniform')"
      ]
     },
     "execution_count": 12,
     "metadata": {},
     "output_type": "execute_result"
    }
   ],
   "source": [
    "knn.fit(X_train,y_train)"
   ]
  },
  {
   "cell_type": "code",
   "execution_count": 13,
   "metadata": {},
   "outputs": [],
   "source": [
    "pred = knn.predict(X_val)"
   ]
  },
  {
   "cell_type": "code",
   "execution_count": 14,
   "metadata": {},
   "outputs": [
    {
     "name": "stdout",
     "output_type": "stream",
     "text": [
      "[[11482  7504]\n",
      " [ 6302 16122]]\n"
     ]
    }
   ],
   "source": [
    "print(confusion_matrix(y_val,pred))"
   ]
  },
  {
   "cell_type": "code",
   "execution_count": 15,
   "metadata": {},
   "outputs": [
    {
     "name": "stdout",
     "output_type": "stream",
     "text": [
      "              precision    recall  f1-score   support\n",
      "\n",
      "           0       0.65      0.60      0.62     18986\n",
      "           1       0.68      0.72      0.70     22424\n",
      "\n",
      "   micro avg       0.67      0.67      0.67     41410\n",
      "   macro avg       0.66      0.66      0.66     41410\n",
      "weighted avg       0.67      0.67      0.67     41410\n",
      "\n"
     ]
    }
   ],
   "source": [
    "print(classification_report(y_val,pred))"
   ]
  },
  {
   "cell_type": "code",
   "execution_count": 20,
   "metadata": {},
   "outputs": [],
   "source": [
    "#error_rate = []\n",
    "\n",
    "# Will take some time\n",
    "#for i in range(1,40):\n",
    "    \n",
    "    #knn = KNeighborsClassifier(n_neighbors=i)\n",
    "    #knn.fit(X_train,y_train)\n",
    "    #pred_i = knn.predict(X_test)\n",
    "    #error_rate.append(np.mean(pred_i != y_test))"
   ]
  },
  {
   "cell_type": "code",
   "execution_count": 21,
   "metadata": {},
   "outputs": [
    {
     "data": {
      "text/plain": [
       "Text(0, 0.5, 'Error Rate')"
      ]
     },
     "execution_count": 21,
     "metadata": {},
     "output_type": "execute_result"
    },
    {
     "data": {
      "image/png": "[encoded data removed]",
      "text/plain": [
       "<Figure size 1000x600 with 1 Axes>"
      ]
     },
     "metadata": {},
     "output_type": "display_data"
    }
   ],
   "source": [
    "#plt.figure(figsize=(10,6))\n",
    "#plt.plot(range(1,40),error_rate,color='blue', linestyle='dashed', marker='o',\n",
    "         #markerfacecolor='red', markersize=10)\n",
    "#plt.title('Error Rate vs. K Value')\n",
    "#plt.xlabel('K')\n",
    "#plt.ylabel('Error Rate')"
   ]
  },
  {
   "cell_type": "code",
   "execution_count": 16,
   "metadata": {},
   "outputs": [
    {
     "name": "stdout",
     "output_type": "stream",
     "text": [
      "[[11501  7485]\n",
      " [ 5395 17029]]\n",
      "              precision    recall  f1-score   support\n",
      "\n",
      "           0       0.68      0.61      0.64     18986\n",
      "           1       0.69      0.76      0.73     22424\n",
      "\n",
      "   micro avg       0.69      0.69      0.69     41410\n",
      "   macro avg       0.69      0.68      0.68     41410\n",
      "weighted avg       0.69      0.69      0.69     41410\n",
      "\n"
     ]
    }
   ],
   "source": [
    "knn_25 = KNeighborsClassifier(n_neighbors = 25)\n",
    "knn_25.fit(X_train, y_train)\n",
    "predictions = knn_25.predict(X_val)\n",
    "print(confusion_matrix(y_val,predictions))\n",
    "print(classification_report(y_val, predictions))"
   ]
  }
 ],
 "metadata": {
  "kernelspec": {
   "display_name": "Python 3",
   "language": "python",
   "name": "python3"
  },
  "language_info": {
   "codemirror_mode": {
    "name": "ipython",
    "version": 3
   },
   "file_extension": ".py",
   "mimetype": "text/x-python",
   "name": "python",
   "nbconvert_exporter": "python",
   "pygments_lexer": "ipython3",
   "version": "3.7.3"
  }
 },
 "nbformat": 4,
 "nbformat_minor": 2
}
