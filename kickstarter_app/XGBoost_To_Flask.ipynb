{
 "cells": [
  {
   "cell_type": "code",
   "execution_count": 30,
   "metadata": {},
   "outputs": [],
   "source": [
    "import pandas as pd\n",
    "import numpy as np\n",
    "import matplotlib.pyplot as plt\n",
    "import seaborn as sns\n",
    "import pickle\n",
    "\n",
    "from sklearn.model_selection import train_test_split\n",
    "from sklearn.preprocessing import StandardScaler\n",
    "from sklearn.metrics import classification_report\n",
    "from sklearn.metrics import confusion_matrix\n",
    "from sklearn.metrics import roc_auc_score, roc_curve\n",
    "from sklearn.metrics import roc_curve, auc\n",
    "import xgboost as xgb\n",
    "from xgboost import XGBClassifier\n",
    "from sklearn import metrics"
   ]
  },
  {
   "cell_type": "code",
   "execution_count": 13,
   "metadata": {},
   "outputs": [],
   "source": [
    "import matplotlib.pylab as pylab\n",
    "params = {'legend.fontsize': 'x-large',\n",
    "          'figure.figsize': (15,15),\n",
    "         'axes.labelsize': 'x-large',\n",
    "         'axes.titlesize':'x-large',\n",
    "         'xtick.labelsize':'x-large',\n",
    "         'ytick.labelsize':'x-large'}\n",
    "pylab.rcParams.update(params)"
   ]
  },
  {
   "cell_type": "code",
   "execution_count": 14,
   "metadata": {},
   "outputs": [],
   "source": [
    "kickstarter = pd.read_csv('kickstarter_04_25_19_ready_for_modeling.csv')"
   ]
  },
  {
   "cell_type": "code",
   "execution_count": 15,
   "metadata": {},
   "outputs": [],
   "source": [
    "X = kickstarter[['goal', 'staff_pick_True',\n",
    "       'cam_length', 'blurb_length', 'country_US', 'main_category_comics',\n",
    "       'main_category_crafts', 'main_category_dance', 'main_category_design',\n",
    "       'main_category_fashion', 'main_category_film & video',\n",
    "       'main_category_food', 'main_category_games', 'main_category_journalism',\n",
    "       'main_category_music', 'main_category_photography',\n",
    "       'main_category_publishing', 'main_category_technology',\n",
    "       'main_category_theater']]\n",
    "y = kickstarter['state_successful']"
   ]
  },
  {
   "cell_type": "code",
   "execution_count": 16,
   "metadata": {},
   "outputs": [
    {
     "name": "stderr",
     "output_type": "stream",
     "text": [
      "/anaconda3/lib/python3.7/site-packages/sklearn/preprocessing/data.py:645: DataConversionWarning: Data with input dtype int64, float64 were all converted to float64 by StandardScaler.\n",
      "  return self.partial_fit(X, y)\n",
      "/anaconda3/lib/python3.7/site-packages/ipykernel_launcher.py:3: DataConversionWarning: Data with input dtype int64, float64 were all converted to float64 by StandardScaler.\n",
      "  This is separate from the ipykernel package so we can avoid doing imports until\n"
     ]
    }
   ],
   "source": [
    "scaler = StandardScaler()\n",
    "scaler.fit(X)\n",
    "X_scaled = scaler.transform(X)"
   ]
  },
  {
   "cell_type": "code",
   "execution_count": 17,
   "metadata": {},
   "outputs": [],
   "source": [
    "X_mid, X_test, y_mid, y_test = train_test_split(X_scaled, y, test_size=0.20, random_state=42, stratify = y)"
   ]
  },
  {
   "cell_type": "code",
   "execution_count": 18,
   "metadata": {},
   "outputs": [],
   "source": [
    "X_train, X_val, y_train, y_val = train_test_split(X_mid, y_mid, test_size=0.25, random_state=42, stratify = y_mid)"
   ]
  },
  {
   "cell_type": "markdown",
   "metadata": {},
   "source": [
    "### XGBoost ###"
   ]
  },
  {
   "cell_type": "code",
   "execution_count": 19,
   "metadata": {},
   "outputs": [],
   "source": [
    "xgBoost = XGBClassifier(base_score=0.5, booster='gbtree', colsample_bylevel=1,\n",
    "       colsample_bytree=1, gamma=0, learning_rate=0.1, max_delta_step=0,\n",
    "       max_depth=7, min_child_weight=7, missing=None, n_estimators=100,\n",
    "       n_jobs=1, nthread=None, objective='binary:logistic', random_state=0,\n",
    "       reg_alpha=0, reg_lambda=1, scale_pos_weight=1, seed=None,\n",
    "       silent=True, subsample=1)"
   ]
  },
  {
   "cell_type": "code",
   "execution_count": 20,
   "metadata": {},
   "outputs": [
    {
     "data": {
      "text/plain": [
       "XGBClassifier(base_score=0.5, booster='gbtree', colsample_bylevel=1,\n",
       "       colsample_bytree=1, gamma=0, learning_rate=0.1, max_delta_step=0,\n",
       "       max_depth=7, min_child_weight=7, missing=None, n_estimators=100,\n",
       "       n_jobs=1, nthread=None, objective='binary:logistic', random_state=0,\n",
       "       reg_alpha=0, reg_lambda=1, scale_pos_weight=1, seed=None,\n",
       "       silent=True, subsample=1)"
      ]
     },
     "execution_count": 20,
     "metadata": {},
     "output_type": "execute_result"
    }
   ],
   "source": [
    "xgBoost.fit(X_train, y_train)"
   ]
  },
  {
   "cell_type": "code",
   "execution_count": 21,
   "metadata": {},
   "outputs": [],
   "source": [
    "xgBoost_pred = xgBoost.predict(X_val)"
   ]
  },
  {
   "cell_type": "code",
   "execution_count": 22,
   "metadata": {},
   "outputs": [
    {
     "name": "stdout",
     "output_type": "stream",
     "text": [
      "XGBoost Results:\n",
      "[[12051  6935]\n",
      " [ 4623 17801]]\n",
      "              precision    recall  f1-score   support\n",
      "\n",
      "           0       0.72      0.63      0.68     18986\n",
      "           1       0.72      0.79      0.75     22424\n",
      "\n",
      "   micro avg       0.72      0.72      0.72     41410\n",
      "   macro avg       0.72      0.71      0.72     41410\n",
      "weighted avg       0.72      0.72      0.72     41410\n",
      "\n",
      "XGBoost score: 0.720889\n"
     ]
    }
   ],
   "source": [
    "print('XGBoost Results:')\n",
    "print(confusion_matrix(y_val, xgBoost_pred))\n",
    "print(classification_report(y_val, xgBoost_pred))\n",
    "print('XGBoost score: %f' % xgBoost.fit(X_train, y_train).score(X_val, y_val))"
   ]
  },
  {
   "cell_type": "code",
   "execution_count": 23,
   "metadata": {},
   "outputs": [],
   "source": [
    "xgBoost_y_score = xgBoost.predict_proba(X_val)[:, 1]"
   ]
  },
  {
   "cell_type": "code",
   "execution_count": 24,
   "metadata": {},
   "outputs": [
    {
     "name": "stdout",
     "output_type": "stream",
     "text": [
      "0.7912842668982786\n"
     ]
    }
   ],
   "source": [
    "xgBoost_fpr, xgBoost_tpr, auc_thresholds = roc_curve(y_val, xgBoost_y_score)\n",
    "roc_auc_xgBoost = auc(xgBoost_fpr, xgBoost_tpr)\n",
    "print(auc(xgBoost_fpr, xgBoost_tpr))"
   ]
  },
  {
   "cell_type": "code",
   "execution_count": 25,
   "metadata": {},
   "outputs": [],
   "source": [
    "xgBoost_pred_test = xgBoost.predict(X_test)"
   ]
  },
  {
   "cell_type": "code",
   "execution_count": 26,
   "metadata": {},
   "outputs": [
    {
     "data": {
      "text/plain": [
       "array([1])"
      ]
     },
     "execution_count": 26,
     "metadata": {},
     "output_type": "execute_result"
    }
   ],
   "source": [
    "xgBoost.predict([-0.03639885, -0.37481072, -0.24414886, -0.04240935,  0.56599264,\n",
    "       -0.21773993, -0.15281895, -0.10589387, -0.17668643, -0.26982191,\n",
    "       -0.40234887, -0.29229358, -0.25988079, -0.1363122 , -0.4128152 ,\n",
    "       -0.17738287, -0.30923274, -0.36534622,  5.3262231 ])"
   ]
  },
  {
   "cell_type": "code",
   "execution_count": 27,
   "metadata": {},
   "outputs": [
    {
     "name": "stdout",
     "output_type": "stream",
     "text": [
      "XGBoost Results:\n",
      "[[12019  6967]\n",
      " [ 4651 17773]]\n",
      "              precision    recall  f1-score   support\n",
      "\n",
      "           0       0.72      0.63      0.67     18986\n",
      "           1       0.72      0.79      0.75     22424\n",
      "\n",
      "   micro avg       0.72      0.72      0.72     41410\n",
      "   macro avg       0.72      0.71      0.71     41410\n",
      "weighted avg       0.72      0.72      0.72     41410\n",
      "\n"
     ]
    }
   ],
   "source": [
    "print('XGBoost Results:')\n",
    "print(confusion_matrix(y_test,xgBoost_pred_test))\n",
    "print(classification_report(y_test, xgBoost_pred_test))"
   ]
  },
  {
   "cell_type": "code",
   "execution_count": 28,
   "metadata": {},
   "outputs": [
    {
     "data": {
      "image/png": "[encoded data removed]",
      "text/plain": [
       "<Figure size 1800x504 with 1 Axes>"
      ]
     },
     "metadata": {
      "needs_background": "light"
     },
     "output_type": "display_data"
    }
   ],
   "source": [
    "cm = confusion_matrix(y_test,xgBoost_pred_test)\n",
    "plt.figure(figsize=(25,7))\n",
    "plt.subplot(131)\n",
    "ax = sns.heatmap(cm, annot=True, cmap='Blues', cbar=False, \n",
    "                annot_kws={\"size\": 20}, fmt='g')\n",
    "cmlabels = ['True Negatives', 'False Positives',\n",
    "              'False Negatives', 'True Positives']\n",
    "for i,t in enumerate(ax.texts):\n",
    "    t.set_text(t.get_text() + \"\\n\" + cmlabels[i])\n",
    "plt.title('Confusion Matrix - XGBoost', size=25)\n",
    "plt.xlabel('Predicted Campaign Outcome', size=20)\n",
    "plt.ylabel('Actual Campaign Outcome', size=20)\n",
    "labels = ['Fail', 'Success']\n",
    "ax.set_xticklabels(labels, size = 15)\n",
    "ax.set_yticklabels(labels, size = 15)\n",
    "plt.tight_layout()\n",
    "#plt.savefig('Confusion_matrix_XGBoost.png')\n",
    "#plt.savefig('Confusion_matrix_XGBoost.svg')\n",
    "plt.show()"
   ]
  },
  {
   "cell_type": "code",
   "execution_count": 29,
   "metadata": {},
   "outputs": [
    {
     "name": "stdout",
     "output_type": "stream",
     "text": [
      "0.7895514054725867\n"
     ]
    }
   ],
   "source": [
    "xgBoost_y_score_test = xgBoost.predict_proba(X_test)[:, 1]\n",
    "xgBoost_fpr_test, xgBoost_tpr_test, xgBoost_auc_thresholds = roc_curve(y_test, xgBoost_y_score_test)\n",
    "roc_auc_xgBoost_test = auc(xgBoost_fpr_test, xgBoost_tpr_test)\n",
    "print(auc(xgBoost_fpr_test, xgBoost_tpr_test))"
   ]
  },
  {
   "cell_type": "code",
   "execution_count": null,
   "metadata": {},
   "outputs": [],
   "source": [
    "#pickling the model for the Flask app"
   ]
  },
  {
   "cell_type": "code",
   "execution_count": 31,
   "metadata": {},
   "outputs": [],
   "source": [
    "#filename = 'finalized_xgBoost.sav'\n",
    "#pickle.dump(xgBoost, open(filename, 'wb'))"
   ]
  },
  {
   "cell_type": "code",
   "execution_count": 34,
   "metadata": {},
   "outputs": [],
   "source": [
    "#notes on how to load the model later:\n",
    "# load the model from disk\n",
    "#loaded_xgBoost = pickle.load(open('finalized_xgBoost.sav', 'rb'))\n",
    "#result = loaded_xgBoost.score(X_test, y_test)\n",
    "#print(result)"
   ]
  }
 ],
 "metadata": {
  "kernelspec": {
   "display_name": "Python 3",
   "language": "python",
   "name": "python3"
  },
  "language_info": {
   "codemirror_mode": {
    "name": "ipython",
    "version": 3
   },
   "file_extension": ".py",
   "mimetype": "text/x-python",
   "name": "python",
   "nbconvert_exporter": "python",
   "pygments_lexer": "ipython3",
   "version": "3.7.3"
  }
 },
 "nbformat": 4,
 "nbformat_minor": 2
}
