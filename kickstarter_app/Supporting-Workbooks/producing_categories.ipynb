{
 "cells": [
  {
   "cell_type": "code",
   "execution_count": null,
   "metadata": {},
   "outputs": [],
   "source": [
    "# start with a list of the names of the category\n",
    "# create a list or a vector of zeros\n",
    "# take the category that was submitted and put the 1 at that index "
   ]
  },
  {
   "cell_type": "code",
   "execution_count": 10,
   "metadata": {},
   "outputs": [],
   "source": [
    "def produce_category(str):\n",
    "\n",
    "    category_input = str\n",
    "    category_list = ['main_category_comics',\n",
    "       'main_category_crafts', 'main_category_dance', 'main_category_design',\n",
    "       'main_category_fashion', 'main_category_film & video',\n",
    "       'main_category_food', 'main_category_games', 'main_category_journalism',\n",
    "       'main_category_music', 'main_category_photography',\n",
    "       'main_category_publishing', 'main_category_technology',\n",
    "       'main_category_theater']\n",
    "    input_list = [0,0,0,0,0,0,0,0,0,0,0,0,0,0]\n",
    "    if str not in category_list:\n",
    "        return input_list\n",
    "    input_list[category_list.index(category_input)] = 1\n",
    "    return input_list\n",
    "\n"
   ]
  },
  {
   "cell_type": "code",
   "execution_count": 11,
   "metadata": {},
   "outputs": [
    {
     "data": {
      "text/plain": [
       "[0, 0, 0, 0, 0, 0, 0, 0, 0, 0, 0, 0, 0, 0]"
      ]
     },
     "execution_count": 11,
     "metadata": {},
     "output_type": "execute_result"
    }
   ],
   "source": [
    "produce_category('main_category_flubbery')"
   ]
  },
  {
   "cell_type": "code",
   "execution_count": null,
   "metadata": {},
   "outputs": [],
   "source": [
    "music           \n",
    "film & video    \n",
    "technology      \n",
    "art             \n",
    "publishing      \n",
    "food            \n",
    "fashion         \n",
    "games           \n",
    "comics           \n",
    "theater          \n",
    "photography      \n",
    "design           \n",
    "crafts           \n",
    "journalism       \n",
    "dance            "
   ]
  },
  {
   "cell_type": "code",
   "execution_count": null,
   "metadata": {},
   "outputs": [],
   "source": [
    "'main_category_comics',\n",
    "'main_category_crafts', \n",
    "'main_category_dance', \n",
    "'main_category_design',\n",
    "'main_category_fashion', \n",
    "'main_category_film & video',\n",
    "'main_category_food', \n",
    "'main_category_games', \n",
    "'main_category_journalism',\n",
    "'main_category_music', \n",
    "'main_category_photography',\n",
    "'main_category_publishing', \n",
    "'main_category_technology',\n",
    "'main_category_theater'\n",
    "\n",
    "'main_category_art'"
   ]
  }
 ],
 "metadata": {
  "kernelspec": {
   "display_name": "Python 3",
   "language": "python",
   "name": "python3"
  },
  "language_info": {
   "codemirror_mode": {
    "name": "ipython",
    "version": 3
   },
   "file_extension": ".py",
   "mimetype": "text/x-python",
   "name": "python",
   "nbconvert_exporter": "python",
   "pygments_lexer": "ipython3",
   "version": "3.7.3"
  }
 },
 "nbformat": 4,
 "nbformat_minor": 2
}
